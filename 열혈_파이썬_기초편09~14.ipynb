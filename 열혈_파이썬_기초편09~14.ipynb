{
  "nbformat": 4,
  "nbformat_minor": 0,
  "metadata": {
    "colab": {
      "name": "열혈 파이썬 기초편09~14.ipynb",
      "provenance": [],
      "authorship_tag": "ABX9TyPMtz0O42ioLMLJ5FVkcrqb",
      "include_colab_link": true
    },
    "kernelspec": {
      "name": "python3",
      "display_name": "Python 3"
    }
  },
  "cells": [
    {
      "cell_type": "markdown",
      "metadata": {
        "id": "view-in-github",
        "colab_type": "text"
      },
      "source": [
        "<a href=\"https://colab.research.google.com/github/sera0911/python_basic/blob/main/%EC%97%B4%ED%98%88_%ED%8C%8C%EC%9D%B4%EC%8D%AC_%EA%B8%B0%EC%B4%88%ED%8E%B809~14.ipynb\" target=\"_parent\"><img src=\"https://colab.research.google.com/assets/colab-badge.svg\" alt=\"Open In Colab\"/></a>"
      ]
    },
    {
      "cell_type": "code",
      "metadata": {
        "colab": {
          "base_uri": "https://localhost:8080/"
        },
        "id": "WJCN6ypouAhm",
        "outputId": "3134c591-e8a4-464b-aa8c-b3286206f5fd"
      },
      "source": [
        "#9-1 tuple\n",
        "tpl = (1, 2, 3)\n",
        "tpl[0]   # 1   이렇게 값을 참조하는 것은 가능 \n",
        "tple[0] = 7 # 이렇게 값을 수정하는 것은 에러\n",
        " "
      ],
      "execution_count": null,
      "outputs": [
        {
          "output_type": "execute_result",
          "data": {
            "text/plain": [
              "1"
            ]
          },
          "metadata": {
            "tags": []
          },
          "execution_count": 1
        }
      ]
    },
    {
      "cell_type": "code",
      "metadata": {
        "colab": {
          "base_uri": "https://localhost:8080/"
        },
        "id": "CIWKoR8_u_Nh",
        "outputId": "f0da6f96-8717-42ae-cd5c-fc057484499f"
      },
      "source": [
        "#9-2 튜플을 어디다 쓸 것인가?\n",
        "frns = [('동수', 131120), ('진우', 130312), ('선영', 130904)]\n",
        "frns[2]\n"
      ],
      "execution_count": null,
      "outputs": [
        {
          "output_type": "execute_result",
          "data": {
            "text/plain": [
              "('선영', 130904)"
            ]
          },
          "metadata": {
            "tags": []
          },
          "execution_count": 2
        }
      ]
    },
    {
      "cell_type": "markdown",
      "metadata": {
        "id": "41jngldAvW4v"
      },
      "source": [
        "이렇게 튜플로 묶어 값이 변하지 않도록 사용"
      ]
    },
    {
      "cell_type": "code",
      "metadata": {
        "colab": {
          "base_uri": "https://localhost:8080/"
        },
        "id": "0DC1P9kHvdXu",
        "outputId": "d03ec80b-fbfe-43dc-a71d-ed6e0c368a1d"
      },
      "source": [
        "#09-3 튜플 관련 함수와 연산들\n",
        "#len(s)  min(s)  max(s) 함수들을 호출 할 수 있다\n",
        "nums = (3, 2, 5, 7, 1)\n",
        "len(nums)  #5\n",
        "max(nums)  #7\n",
        "min(nums)  #1e"
      ],
      "execution_count": null,
      "outputs": [
        {
          "output_type": "execute_result",
          "data": {
            "text/plain": [
              "5"
            ]
          },
          "metadata": {
            "tags": []
          },
          "execution_count": 4
        }
      ]
    },
    {
      "cell_type": "markdown",
      "metadata": {
        "id": "8fzVWN_vyanX"
      },
      "source": [
        ".count()  .index() 함수도 사용가능"
      ]
    },
    {
      "cell_type": "code",
      "metadata": {
        "colab": {
          "base_uri": "https://localhost:8080/"
        },
        "id": "tUnwP1o4yXKv",
        "outputId": "1bd36fd4-95d2-4af6-f577-b3c043887bc8"
      },
      "source": [
        "nums = (1, 2, 3)\n",
        "3 in nums   #3이 넘에 있는지 true\n",
        "2 not in nums #2가 넘에 없는지 false\n",
        "nums + (4, 5)  # 넘에 4,5를 덧붙이면 (1, 2, 3, 4, 5)\n",
        "nums * 2    #넘을 두 개 덧붙이면 (1, 2, 3, 1, 2, 3)\n",
        "nums[0:3]    #넘에서 [0]~[2]를 꺼내면? \n"
      ],
      "execution_count": null,
      "outputs": [
        {
          "output_type": "execute_result",
          "data": {
            "text/plain": [
              "(1, 2, 3)"
            ]
          },
          "metadata": {
            "tags": []
          },
          "execution_count": 7
        }
      ]
    },
    {
      "cell_type": "code",
      "metadata": {
        "colab": {
          "base_uri": "https://localhost:8080/"
        },
        "id": "_l3XZf5PzEf5",
        "outputId": "206a1745-2d33-4d05-a744-7db2d783cf21"
      },
      "source": [
        "for i in (1, 3, 5, 7, 9):\n",
        "  print(i, end = ' ')"
      ],
      "execution_count": null,
      "outputs": [
        {
          "output_type": "stream",
          "text": [
            "1 3 5 7 9 "
          ],
          "name": "stdout"
        }
      ]
    },
    {
      "cell_type": "markdown",
      "metadata": {
        "id": "oNB9i9pqzLq_"
      },
      "source": [
        "튜플은 한 번 만들면 수정 할 순 없지만 새로운 튜플을 생성 할 수 있다."
      ]
    },
    {
      "cell_type": "code",
      "metadata": {
        "colab": {
          "base_uri": "https://localhost:8080/"
        },
        "id": "rT8klm3czRO3",
        "outputId": "171e5795-cd99-4100-c8e2-80eb9ed0497b"
      },
      "source": [
        "#연습문제 09-1 1번문제\n",
        "def to_list(t):\n",
        "  st = []\n",
        "  for i in t:\n",
        "    st.append(i)\n",
        "  return st\n",
        "\n",
        "ds = (1, 2, 3)\n",
        "ds = to_list(ds)   #튜플에 있는 인자를 리스트로 바꿔주는 함수\n",
        "ds"
      ],
      "execution_count": null,
      "outputs": [
        {
          "output_type": "execute_result",
          "data": {
            "text/plain": [
              "[1, 2, 3]"
            ]
          },
          "metadata": {
            "tags": []
          },
          "execution_count": 11
        }
      ]
    },
    {
      "cell_type": "code",
      "metadata": {
        "colab": {
          "base_uri": "https://localhost:8080/"
        },
        "id": "09biWoQa0JV3",
        "outputId": "f1333827-e61c-46bb-92c2-8cc6b71ff08b"
      },
      "source": [
        "def to_list(t):\n",
        "  st = []\n",
        "  for i in t:\n",
        "    st.append(i)\n",
        "  return st\n",
        "\n",
        "ds = 'hello'\n",
        "ds = to_list(ds)\n",
        "ds"
      ],
      "execution_count": null,
      "outputs": [
        {
          "output_type": "execute_result",
          "data": {
            "text/plain": [
              "['h', 'e', 'l', 'l', 'o']"
            ]
          },
          "metadata": {
            "tags": []
          },
          "execution_count": 12
        }
      ]
    },
    {
      "cell_type": "code",
      "metadata": {
        "colab": {
          "base_uri": "https://localhost:8080/"
        },
        "id": "fWmgiV0h0Vdx",
        "outputId": "8c8d91d7-b50f-4106-b7ca-bd6e6c3346de"
      },
      "source": [
        "#9-4 \n",
        "frns = [('동수', 131120), ('진우', 130312), ('선영', 130904)]\n",
        "frns[0][0]  #동수\n",
        "frns[0][1]  #131120"
      ],
      "execution_count": null,
      "outputs": [
        {
          "output_type": "execute_result",
          "data": {
            "text/plain": [
              "131120"
            ]
          },
          "metadata": {
            "tags": []
          },
          "execution_count": 14
        }
      ]
    },
    {
      "cell_type": "markdown",
      "metadata": {
        "id": "tha1uobydTHq"
      },
      "source": [
        "지금까지 range는 리스트를 대신하는 정도였는데 이는 range 함수의 호출이다.   \n",
        "그리고 이 함수가 호출되면 객체가 생성되는데, 이 객체는 다음과 같이 변수에 저장할 수 있고 또 type함수에 전달해 데이터형도 확인가능하다다"
      ]
    },
    {
      "cell_type": "code",
      "metadata": {
        "colab": {
          "base_uri": "https://localhost:8080/"
        },
        "id": "vQ9tI8rBdAbv",
        "outputId": "c2ec707d-6f76-4f6e-e411-1f6b59e21e32"
      },
      "source": [
        "#9-5 범위를 지정하는 레인지\n",
        "r = range(1, 10)  #range 호출로 만들어진 객체를 변수 r에 담는다\n",
        "type(r)   #range"
      ],
      "execution_count": null,
      "outputs": [
        {
          "output_type": "execute_result",
          "data": {
            "text/plain": [
              "range"
            ]
          },
          "metadata": {
            "tags": []
          },
          "execution_count": 1
        }
      ]
    },
    {
      "cell_type": "code",
      "metadata": {
        "colab": {
          "base_uri": "https://localhost:8080/"
        },
        "id": "kyLs5D_HexUt",
        "outputId": "dd3e3f87-3f12-4c8e-e11d-cc54878e521d"
      },
      "source": [
        "r = range(1, 10)\n",
        "9 in r  #true\n",
        "10 not in r #true 9까지니까"
      ],
      "execution_count": null,
      "outputs": [
        {
          "output_type": "execute_result",
          "data": {
            "text/plain": [
              "True"
            ]
          },
          "metadata": {
            "tags": []
          },
          "execution_count": 3
        }
      ]
    },
    {
      "cell_type": "markdown",
      "metadata": {
        "id": "T3mKUeVjfVH7"
      },
      "source": [
        "list(s)  s의 내용으로 채워진 리스트를 만듬   \n",
        "tuple(s) s의 내용으로 채워진 튜플을 만듬"
      ]
    },
    {
      "cell_type": "code",
      "metadata": {
        "colab": {
          "base_uri": "https://localhost:8080/"
        },
        "id": "RJXorB2UfP_R",
        "outputId": "269406ac-7f49-4815-a97e-d548f3ec35fc"
      },
      "source": [
        "list((1, 2, 3))  #튜플을 리스트로   [1, 2, 3]\n",
        "list(range(1, 5))  #레인지를 리스트로   [1, 2, 3, 4]\n",
        "list('hello')     #문자열을 리스트로  ['h', 'e', 'l', 'l', 'o']"
      ],
      "execution_count": null,
      "outputs": [
        {
          "output_type": "execute_result",
          "data": {
            "text/plain": [
              "['h', 'e', 'l', 'l', 'o']"
            ]
          },
          "metadata": {
            "tags": []
          },
          "execution_count": 6
        }
      ]
    },
    {
      "cell_type": "code",
      "metadata": {
        "colab": {
          "base_uri": "https://localhost:8080/"
        },
        "id": "oajP-cdqf73x",
        "outputId": "ad5bd422-780c-400b-8146-b7f1a8b848b1"
      },
      "source": [
        "tuple([1, 2, 3])  #리스트를 튜플로   (1, 2, 3)\n",
        "tuple(range(1, 5))  #레인지를 튜플로   [1, 2, 3, 4]\n",
        "tuple('hello')     #문자열을 튜플로  ['h', 'e', 'l', 'l', 'o']"
      ],
      "execution_count": null,
      "outputs": [
        {
          "output_type": "execute_result",
          "data": {
            "text/plain": [
              "('h', 'e', 'l', 'l', 'o')"
            ]
          },
          "metadata": {
            "tags": []
          },
          "execution_count": 8
        }
      ]
    },
    {
      "cell_type": "markdown",
      "metadata": {
        "id": "cNMz503pgTC9"
      },
      "source": [
        "일정하게 증가하는 긴 튜플이나 리스트가 필요한 경우는 range를 사용하여 간결하게 만들 수 있다"
      ]
    },
    {
      "cell_type": "code",
      "metadata": {
        "colab": {
          "base_uri": "https://localhost:8080/"
        },
        "id": "HbAkx2Usga-X",
        "outputId": "4169f911-b8a3-46cc-cd08-e2dc476cd024"
      },
      "source": [
        "lst = list(range(1, 16))  #레인지를 넘겨 리스트를 만듬\n",
        "lst                       #[1, 2, 3, 4, 5, 6, 7, 8, 9, 10, 11, 12, 13, 14, 15]\n",
        "tpl = tuple(range(1, 16)) #레인지를 넘겨 튜플을 만듬\n",
        "tpl                       #(1, 2, 3, 4, 5, 6, 7, 8, 9, 10, 11, 12, 13, 14, 15)"
      ],
      "execution_count": null,
      "outputs": [
        {
          "output_type": "execute_result",
          "data": {
            "text/plain": [
              "(1, 2, 3, 4, 5, 6, 7, 8, 9, 10, 11, 12, 13, 14, 15)"
            ]
          },
          "metadata": {
            "tags": []
          },
          "execution_count": 12
        }
      ]
    },
    {
      "cell_type": "code",
      "metadata": {
        "colab": {
          "base_uri": "https://localhost:8080/"
        },
        "id": "qHeCZY3pg1YF",
        "outputId": "ec10d3d4-8987-4161-b0bc-e8c5a90d1070"
      },
      "source": [
        "range(1, 10, 2)   #1부터 10 이전까지 2씩 증가하는 레인지\n",
        "range(1, 10, 3)   #1부터 10 이전까지 3씩 증가하는 레인지"
      ],
      "execution_count": null,
      "outputs": [
        {
          "output_type": "execute_result",
          "data": {
            "text/plain": [
              "range(1, 10, 2)"
            ]
          },
          "metadata": {
            "tags": []
          },
          "execution_count": 14
        }
      ]
    },
    {
      "cell_type": "code",
      "metadata": {
        "colab": {
          "base_uri": "https://localhost:8080/"
        },
        "id": "Xse6mt1dhIvb",
        "outputId": "a71d288f-9dda-4d4a-a52d-4f55ce39733e"
      },
      "source": [
        "list(range(1, 10, 2))  #1부터 10 이전까지 2씩 증가하는 리스트 만들기    [1, 3, 5, 7, 9]\n",
        "list(range(1, 10, 3))  #1부터 10 이전까지 3씩 증가하는 리스트 만들기    [1, 4, 7]"
      ],
      "execution_count": null,
      "outputs": [
        {
          "output_type": "execute_result",
          "data": {
            "text/plain": [
              "[1, 4, 7]"
            ]
          },
          "metadata": {
            "tags": []
          },
          "execution_count": 16
        }
      ]
    },
    {
      "cell_type": "code",
      "metadata": {
        "id": "_t_S7L9OhZpm"
      },
      "source": [
        "#9-5 레인지 범위 거꾸로 지정하기\n",
        "list(range(2, 10))\n",
        "list(range(2, 10, 1))  #두가지는 같은 공식 2부터 1씩 증가하여 9까지 이르는 정수들"
      ],
      "execution_count": null,
      "outputs": []
    },
    {
      "cell_type": "code",
      "metadata": {
        "colab": {
          "base_uri": "https://localhost:8080/"
        },
        "id": "_S_-vfsWhyt4",
        "outputId": "b2c8ef9f-7960-4bce-f620-0ea8dff745b3"
      },
      "source": [
        "list(range(10 ,2, -1))    #[10, 9, 8, 7, 6, 5, 4, 3]\n",
        "list(range(10, 2, -2))    #[10, 8, 6, 4]\n",
        "list(range(10, 2, -3))    #[10, 7, 4]\n"
      ],
      "execution_count": null,
      "outputs": [
        {
          "output_type": "execute_result",
          "data": {
            "text/plain": [
              "[10, 9, 8, 7, 6, 5, 4, 3]"
            ]
          },
          "metadata": {
            "tags": []
          },
          "execution_count": 20
        }
      ]
    },
    {
      "cell_type": "markdown",
      "metadata": {
        "id": "QKteKLWtiIPF"
      },
      "source": [
        "range(시작, 끝, 증가 or 감소하는 수)"
      ]
    },
    {
      "cell_type": "code",
      "metadata": {
        "colab": {
          "base_uri": "https://localhost:8080/"
        },
        "id": "DY_B8l9tiRmo",
        "outputId": "97b1f53e-d3db-44c2-f568-333f21abaa2d"
      },
      "source": [
        "#연습문제 09-2 문제1\n",
        "for i in range(9, 0, -1):\n",
        "  print(i*7, end=' ')"
      ],
      "execution_count": null,
      "outputs": [
        {
          "output_type": "stream",
          "text": [
            "63 56 49 42 35 28 21 14 7 "
          ],
          "name": "stdout"
        }
      ]
    },
    {
      "cell_type": "code",
      "metadata": {
        "colab": {
          "base_uri": "https://localhost:8080/"
        },
        "id": "HQpiHPe9i1v1",
        "outputId": "4ad8f7b4-d47f-4e13-d437-f347d2ea2085"
      },
      "source": [
        "#연습문제 09-2 문제2\n",
        "a = tuple(range(1,101))\n",
        "b = tuple(range(99, 0, -1))\n",
        "print(a+b, end=' ')\n",
        "\n",
        "#tp = tuple(range(1,101)) + tuple(range(99, 0, -1))"
      ],
      "execution_count": null,
      "outputs": [
        {
          "output_type": "stream",
          "text": [
            "(1, 2, 3, 4, 5, 6, 7, 8, 9, 10, 11, 12, 13, 14, 15, 16, 17, 18, 19, 20, 21, 22, 23, 24, 25, 26, 27, 28, 29, 30, 31, 32, 33, 34, 35, 36, 37, 38, 39, 40, 41, 42, 43, 44, 45, 46, 47, 48, 49, 50, 51, 52, 53, 54, 55, 56, 57, 58, 59, 60, 61, 62, 63, 64, 65, 66, 67, 68, 69, 70, 71, 72, 73, 74, 75, 76, 77, 78, 79, 80, 81, 82, 83, 84, 85, 86, 87, 88, 89, 90, 91, 92, 93, 94, 95, 96, 97, 98, 99, 100, 99, 98, 97, 96, 95, 94, 93, 92, 91, 90, 89, 88, 87, 86, 85, 84, 83, 82, 81, 80, 79, 78, 77, 76, 75, 74, 73, 72, 71, 70, 69, 68, 67, 66, 65, 64, 63, 62, 61, 60, 59, 58, 57, 56, 55, 54, 53, 52, 51, 50, 49, 48, 47, 46, 45, 44, 43, 42, 41, 40, 39, 38, 37, 36, 35, 34, 33, 32, 31, 30, 29, 28, 27, 26, 25, 24, 23, 22, 21, 20, 19, 18, 17, 16, 15, 14, 13, 12, 11, 10, 9, 8, 7, 6, 5, 4, 3, 2, 1) "
          ],
          "name": "stdout"
        }
      ]
    },
    {
      "cell_type": "code",
      "metadata": {
        "colab": {
          "base_uri": "https://localhost:8080/"
        },
        "id": "hraGWz7tkDPB",
        "outputId": "84dcf2cb-44d6-457f-8d94-98d0bb706781"
      },
      "source": [
        "#10-1 함수 만들기 복습\n",
        "#아무 값도 전달받지 않는 함수\n",
        "def greet():\n",
        "  print('반갑습니다')\n",
        "  print('파이썬이 재밌으시죠?')\n",
        "greet()"
      ],
      "execution_count": null,
      "outputs": [
        {
          "output_type": "stream",
          "text": [
            "반갑습니다\n",
            "파이썬이 재밌으시죠?\n"
          ],
          "name": "stdout"
        }
      ]
    },
    {
      "cell_type": "code",
      "metadata": {
        "colab": {
          "base_uri": "https://localhost:8080/"
        },
        "id": "_7nXkGk0pVBt",
        "outputId": "9fca673f-729d-4649-9336-865a0d8f5f67"
      },
      "source": [
        "#값을 전달받으면서 값을 반환도 하는 합수 return로 반환\n",
        "def adder(n1, n2):\n",
        "  r = n1 + n2\n",
        "  return r   #r에 저장된 값을 반환\n",
        "adder(3, 4)"
      ],
      "execution_count": null,
      "outputs": [
        {
          "output_type": "execute_result",
          "data": {
            "text/plain": [
              "7"
            ]
          },
          "metadata": {
            "tags": []
          },
          "execution_count": 39
        }
      ]
    },
    {
      "cell_type": "code",
      "metadata": {
        "colab": {
          "base_uri": "https://localhost:8080/"
        },
        "id": "wiG0-qI-paQ5",
        "outputId": "9849dd49-1340-4ff4-ca65-695f98e78115"
      },
      "source": [
        "#10-2 이름을 지정해서 값 전달받기\n",
        "def who_are_you(name, age):\n",
        "  print('이름:', name)\n",
        "  print('나이:', age)\n",
        "\n",
        "who_are_you(name ='윤성우', age = 24)"
      ],
      "execution_count": null,
      "outputs": [
        {
          "output_type": "stream",
          "text": [
            "이름: 윤성우\n",
            "나이: 24\n"
          ],
          "name": "stdout"
        }
      ]
    },
    {
      "cell_type": "markdown",
      "metadata": {
        "id": "p2VxvRgPqhV2"
      },
      "source": [
        "name 에 윤성우 age 에 24 전달   \n",
        "name 과 age는 매개변수이다.   \n",
        "매개변수의 이름을 지정해서 값을 전달하면 전달 순서는 상관없다. 아래와 같이"
      ]
    },
    {
      "cell_type": "code",
      "metadata": {
        "colab": {
          "base_uri": "https://localhost:8080/"
        },
        "id": "WRVHA-IdqyST",
        "outputId": "d303d66f-14a2-4bf9-9b78-0e357273e014"
      },
      "source": [
        "def who_are_you(name, age):\n",
        "  print('이름:', name)\n",
        "  print('나이:', age)\n",
        "\n",
        "who_are_you(age = 24, name ='윤성우')"
      ],
      "execution_count": null,
      "outputs": [
        {
          "output_type": "stream",
          "text": [
            "이름: 윤성우\n",
            "나이: 24\n"
          ],
          "name": "stdout"
        }
      ]
    },
    {
      "cell_type": "code",
      "metadata": {
        "colab": {
          "base_uri": "https://localhost:8080/"
        },
        "id": "gl7qyJd_re3m",
        "outputId": "96edd6de-d6d7-4b3b-c685-4f04952873e8"
      },
      "source": [
        "#연습문제 10-1\n",
        "i = 0\n",
        "for i in range(3):\n",
        "  print(i+ 1, i +2, i + 3, sep = ',')"
      ],
      "execution_count": null,
      "outputs": [
        {
          "output_type": "stream",
          "text": [
            "1,2,3\n",
            "2,3,4\n",
            "3,4,5\n"
          ],
          "name": "stdout"
        }
      ]
    },
    {
      "cell_type": "code",
      "metadata": {
        "colab": {
          "base_uri": "https://localhost:8080/"
        },
        "id": "ZCGOCjmep0Qw",
        "outputId": "7512a9f1-a32c-4c9a-b9b5-a59f7ea6afba"
      },
      "source": [
        "#10-3 \n",
        "def who_are_you(name, age = 0):  #age 디폴트 값은 0\n",
        "  print('이름:', name)\n",
        "  print('나이:', age)\n",
        "\n",
        "who_are_you('윤성우')\n",
        "#이름: 윤성우\n",
        "#나이: 0\n",
        "\n",
        "who_are_you('제인', 25)"
      ],
      "execution_count": null,
      "outputs": [
        {
          "output_type": "stream",
          "text": [
            "이름: 윤성우\n",
            "나이: 0\n",
            "이름: 제인\n",
            "나이: 25\n"
          ],
          "name": "stdout"
        }
      ]
    },
    {
      "cell_type": "markdown",
      "metadata": {
        "id": "Nws3NqO5qwhm"
      },
      "source": [
        "매개변수에 디폴트값을 지정할 수 있는데, 이것은 변수에 채울 값이 전달되지 않으면 디폴트 값을 전달한다는 뜻"
      ]
    },
    {
      "cell_type": "code",
      "metadata": {
        "colab": {
          "base_uri": "https://localhost:8080/",
          "height": 134
        },
        "id": "WWZOLIZcrFpU",
        "outputId": "76963087-31ae-4427-afd8-542bc585d11b"
      },
      "source": [
        "def who_are_you(age = 0, name):  #age 디폴트 값은 0\n",
        "  print('이름:', name)\n",
        "  print('나이:', age)"
      ],
      "execution_count": null,
      "outputs": [
        {
          "output_type": "error",
          "ename": "SyntaxError",
          "evalue": "ignored",
          "traceback": [
            "\u001b[0;36m  File \u001b[0;32m\"<ipython-input-4-3932b8ed0329>\"\u001b[0;36m, line \u001b[0;32m1\u001b[0m\n\u001b[0;31m    def who_are_you(age = 0, name):  #age 디폴트 값은 0\u001b[0m\n\u001b[0m                   ^\u001b[0m\n\u001b[0;31mSyntaxError\u001b[0m\u001b[0;31m:\u001b[0m non-default argument follows default argument\n"
          ]
        }
      ]
    },
    {
      "cell_type": "markdown",
      "metadata": {
        "id": "02JlHXEDrLBX"
      },
      "source": [
        "이렇게 함수를 만들 때 디폴트 값을 갖는 매개변수와 갖지 않는 변수가 함께 존재한다면, 반드시 디폴트 값을 갖는 매개변수가 뒤에 와야 한다"
      ]
    },
    {
      "cell_type": "code",
      "metadata": {
        "colab": {
          "base_uri": "https://localhost:8080/"
        },
        "id": "JMopBBfWrUYn",
        "outputId": "321dc007-b70b-4c95-f8d7-ba46e5fb2bc5"
      },
      "source": [
        "def have_default_value(n1, n2, n3 = \"df1\", n4 = \"df2\"):   #이렇게 디폴트를 갖는 매개변수를 뒤쪽에 두어야 함\n",
        "  print(n1, n2, n3, n4)\n",
        "\n",
        "have_default_value(1,2, 3, 4) #1 2 3 4\n",
        "have_default_value(1, 2)"
      ],
      "execution_count": null,
      "outputs": [
        {
          "output_type": "stream",
          "text": [
            "1 2 3 4\n",
            "1 2 df1 df2\n"
          ],
          "name": "stdout"
        }
      ]
    },
    {
      "cell_type": "markdown",
      "metadata": {
        "id": "6xIfzL1Br7pf"
      },
      "source": [
        "값이 없을 경우에 강제로 넣는 역할인데 앞에 두면 값이 거의 들어가기 때문에 앞에 두는 걸 허용치 않음"
      ]
    },
    {
      "cell_type": "code",
      "metadata": {
        "colab": {
          "base_uri": "https://localhost:8080/"
        },
        "id": "AWjJayVLsDr4",
        "outputId": "f0aa0dcb-7106-4aa3-b73c-322ddde0b973"
      },
      "source": [
        "#10-4 함수의 매개변수 참조 관계\n",
        "def func(s):   #전달 값이 리스트라고 가정하고 정의\n",
        "  s[0] = 0    #리스트 첫 값을 0으로 수정\n",
        "  s[-1] = 0   #리스트 마지막 값을 0으로 수정\n",
        "\n",
        "st = [1, 2, 3]\n",
        "func(st)\n",
        "st           #함수 호출 후 st가 [1, 2, 3] 에서 [0, 2, 0]으로 바뀜"
      ],
      "execution_count": null,
      "outputs": [
        {
          "output_type": "execute_result",
          "data": {
            "text/plain": [
              "[0, 2, 0]"
            ]
          },
          "metadata": {
            "tags": []
          },
          "execution_count": 12
        }
      ]
    },
    {
      "cell_type": "code",
      "metadata": {
        "colab": {
          "base_uri": "https://localhost:8080/"
        },
        "id": "h8UgXVnUs8Ar",
        "outputId": "a6b320af-3223-422b-c4b0-3f7c121ac86a"
      },
      "source": [
        "#연습문제 10-2\n",
        "def add1(s):\n",
        "  for i in range(len(s)):\n",
        "    s[i] += 1\n",
        "\n",
        "\n",
        "st = [1, 2, 3, 4, 5]\n",
        "add1(st)\n",
        "st"
      ],
      "execution_count": null,
      "outputs": [
        {
          "output_type": "execute_result",
          "data": {
            "text/plain": [
              "[2, 3, 4, 5, 6]"
            ]
          },
          "metadata": {
            "tags": []
          },
          "execution_count": 24
        }
      ]
    },
    {
      "cell_type": "code",
      "metadata": {
        "colab": {
          "base_uri": "https://localhost:8080/"
        },
        "id": "QT2qNWSKuEGg",
        "outputId": "64f68fe8-528b-4106-9e69-9484f79b11ca"
      },
      "source": [
        "#11-1 모듈을 만들어 봅시다\n",
        "PI = 3.14  #원주율\n",
        "def ar_circle(rad):        #원의 넓이를 계산해서 반환하는 함수\n",
        "  return rad * rad * PI \n",
        "\n",
        "def ci_circle(rad):   #원의 둘레를 계산해서 반환하는 함수\n",
        "  return rad * 2 * PI\n",
        "\n",
        "ar_circle(1.4)    #6.1544\n",
        "ci_circle(1.4)   #8.792"
      ],
      "execution_count": null,
      "outputs": [
        {
          "output_type": "execute_result",
          "data": {
            "text/plain": [
              "8.792"
            ]
          },
          "metadata": {
            "tags": []
          },
          "execution_count": 27
        }
      ]
    },
    {
      "cell_type": "code",
      "metadata": {
        "id": "zIVo44-8u5Hl"
      },
      "source": [
        "# circle.py\n",
        "PI = 3.14  #원주율\n",
        "def ar_circle(rad):        #원의 넓이를 계산해서 반환하는 함수\n",
        "  return rad * rad * PI \n",
        "\n",
        "def ci_circle(rad):   #원의 둘레를 계산해서 반환하는 함수\n",
        "  return rad * 2 * PI"
      ],
      "execution_count": null,
      "outputs": []
    },
    {
      "cell_type": "markdown",
      "metadata": {
        "id": "mPvFU24qvIUA"
      },
      "source": [
        "이렇게 만들어진 소스파일을 가리켜 모듈이라고 한다.    \n",
        "모듈은 필요할 때 가져다 쓸 수 있는, 또는 다른 프로그램의 일부가 될 수 있는 내용을 담고 있는 파일을 의미   \n",
        "보편적으로 파이썬은 모든 소스파일을 그냥 모듈이라 부르는 경우가 많음"
      ]
    },
    {
      "cell_type": "code",
      "metadata": {
        "colab": {
          "base_uri": "https://localhost:8080/"
        },
        "id": "TLLyVFAtu5Al",
        "outputId": "2c69151f-152b-4c86-f63e-a1e664d09c2a"
      },
      "source": [
        "#11-2 모듈을 가져다 쓰는 방법1\n",
        "#circle_test1.py\n",
        "\n",
        "import circle\n",
        "\n",
        "def main():\n",
        "  r = float(input('반지름 입력:'))\n",
        "  ar = circle.ar_circle(r)   #circle.py의 ar_circle 함수 호출 방법\n",
        "  print('넓이', ar)\n",
        "  ci = circle.ci_circle(r)   #circle.py의 ci_circle 함수 호출 방법\n",
        "  print('둘레', ci)\n",
        "\n",
        "main()"
      ],
      "execution_count": null,
      "outputs": [
        {
          "output_type": "stream",
          "text": [
            "반지름 입력:5.5\n",
            "넓이 94.985\n",
            "둘레 34.54\n"
          ],
          "name": "stdout"
        }
      ]
    },
    {
      "cell_type": "markdown",
      "metadata": {
        "id": "hqi8Vsvbxrzu"
      },
      "source": [
        "모듈을 가져다 쓰려면 위 circle.py  가 같은 폴더에 저장된 상태여야 함   \n",
        "import circle   로 선언 뒤에 .py는 안붙음"
      ]
    },
    {
      "cell_type": "code",
      "metadata": {
        "colab": {
          "base_uri": "https://localhost:8080/"
        },
        "id": "v9X9CZWQx7MW",
        "outputId": "8c88566e-6171-4a2b-e104-d5e19db846e3"
      },
      "source": [
        "#circle_test2.py\n",
        "\n",
        "from circle import ar_circle   #circle.py에서 ar_circle 함수를 가져다 쓰겠다\n",
        "from circle import ci_circle   #circle.py에서 ci_circle 함수를 가져다 쓰겠다\n",
        "\n",
        "def main():\n",
        "  r = float(input(\"반지름 입력:\", ))\n",
        "  ar = ar_circle(r)   #circle.py의 ar_circle 함수 호출 방법\n",
        "  print('넓이', ar)\n",
        "  ci = ci_circle(r)   #circle.py의 ci_circle 함수 호출 방법\n",
        "  print('둘레', ci)\n",
        "\n",
        "main()"
      ],
      "execution_count": null,
      "outputs": [
        {
          "output_type": "stream",
          "text": [
            "반지름 입력:5.5\n",
            "넓이 94.985\n",
            "둘레 34.54\n"
          ],
          "name": "stdout"
        }
      ]
    },
    {
      "cell_type": "markdown",
      "metadata": {
        "id": "UTLxcoMFyd2K"
      },
      "source": [
        "이렇게 함수 단위로 선언하면 모듈 이름 없이 함수의 이름만으로 호출 가능하다   \n",
        "ar = ar_circle(r) 이렇게 선언     \n",
        "from circle import ar_circle      \n",
        "from circle import ci_circle     \n",
        "이 두줄을 \n",
        "from circle import ar_circle, ci_circle 이렇게 한줄로 써도 된다"
      ]
    },
    {
      "cell_type": "code",
      "metadata": {
        "colab": {
          "base_uri": "https://localhost:8080/"
        },
        "id": "g9yk6DtZy8Ml",
        "outputId": "0daebf5a-cf06-4258-8b81-9c9c5f315cf6"
      },
      "source": [
        "#11-3 모듈을 가져다 쓰는 방법 2\n",
        "#circle_simple2.py\n",
        "\n",
        "from circle import ar_circle as ac  #가져다 쓸 ar_circle 함수을 ac라는 이름으로 \n",
        "from circle import ci_circle as cc  #가져다 쓸 ci_circle 함수을 cc라는 이름으로\n",
        "\n",
        "def ar_circle(rad) :\n",
        "  print('넓이:', rad * rad * 3.14)\n",
        "def ci_circle(rad) :\n",
        "  print('둘레:', rad * 2 * 3.14)\n",
        "\n",
        "def main():\n",
        "  r = float(input(\"반지름 입력:\", ))\n",
        "  ar_circle(r)  \n",
        "  ci_circle(r)  \n",
        "  sum = ac(r) + cc(r)   #circle.py에 있는 두 함수 호출\n",
        "  print('넓이와 둘레의 합:', sum)\n",
        "\n",
        "main()"
      ],
      "execution_count": null,
      "outputs": [
        {
          "output_type": "stream",
          "text": [
            "반지름 입력:1.5\n",
            "넓이: 7.065\n",
            "둘레: 9.42\n",
            "넓이와 둘레의 합: 16.485\n"
          ],
          "name": "stdout"
        }
      ]
    },
    {
      "cell_type": "code",
      "metadata": {
        "id": "N0r7ZQLY08dL"
      },
      "source": [
        "#11-4 as로 모듈의 이름 줄이기\n",
        "#circle_test1.py\n",
        "import circle   #circle,py 의 모듈을 가져다 쓰겠다 선언\n",
        "\n",
        "def main():\n",
        "  r = float(input('반지름 입력: '))\n",
        "  ar = circle.ar_circle(r)      #circle.py 의 ar_circle 함수 호출 방법\n",
        "  "
      ],
      "execution_count": null,
      "outputs": []
    },
    {
      "cell_type": "code",
      "metadata": {
        "id": "fUl1PfH51X4y"
      },
      "source": [
        "#circle_test3.py\n",
        "import circle as cc  #circle,py 의 모듈을 cc라는 이름으로 가져다 쓰겠다 선언\n",
        "\n",
        "def main():\n",
        "  r = float(input('반지름 입력: '))\n",
        "  ar = cc.ar_circle(r)      #circle.py 의 ar_circle 함수 호출 방법"
      ],
      "execution_count": null,
      "outputs": []
    },
    {
      "cell_type": "markdown",
      "metadata": {
        "id": "-0Lcqppc1mCH"
      },
      "source": [
        "이렇게 as 로 애칭을 주어서 모듈을 줄여 쓸 수 있다   \n",
        "모듈의 이름의 긴 경우 많이 사용한다."
      ]
    },
    {
      "cell_type": "markdown",
      "metadata": {
        "id": "DpWNwWkZ39NS"
      },
      "source": [
        "수학 관련 모듈\n",
        "파이썬에는 '빌트인 함수'라는 것이 있는데, 이는 파이썬을 설치하면 기본적으로 제공하는 함수를 뜻함   \n",
        "그리고 '빌트인 모듈' 도 있는데 이는 모듈의 저장 위치를 신경 쓰지 않고 언제 어디서든 import 선언을 해서 그 안에 있는 함수를 호출할 수 있다."
      ]
    },
    {
      "cell_type": "markdown",
      "metadata": {
        "id": "caviUSyL4XyZ"
      },
      "source": [
        "모듈 이름 math   \n",
        "모듈 기능 수학 관련 함수들로 채워져 있음 약 40개"
      ]
    },
    {
      "cell_type": "code",
      "metadata": {
        "colab": {
          "base_uri": "https://localhost:8080/"
        },
        "id": "CFtNYVUl1uxi",
        "outputId": "6fcff511-43a9-45e4-d417-2d39bd24e3a4"
      },
      "source": [
        "#11-5 수학 관련 모듈\n",
        "import math #math모듈을 가져다 쓰겠다는 선언\n",
        "math.fabs(-10)    #math모듈의 fabs함수 호출 = 절대값을 구하는 함수"
      ],
      "execution_count": null,
      "outputs": [
        {
          "output_type": "execute_result",
          "data": {
            "text/plain": [
              "10.0"
            ]
          },
          "metadata": {
            "tags": []
          },
          "execution_count": 44
        }
      ]
    },
    {
      "cell_type": "markdown",
      "metadata": {
        "id": "kTIgDzYo7kcc"
      },
      "source": [
        "직각에 대한 degree 표현  90º <90도     \n",
        "직각에 대한 radian 표현 파이/2    \n",
        "sin 45 cos 45 tan 45"
      ]
    },
    {
      "cell_type": "markdown",
      "metadata": {
        "id": "UEEnijua8Q5n"
      },
      "source": [
        "위에 함수들 중 삼각법과 관련된 모든 함수들에는 인자로 radian 단위의 값을 전달 해야 한다.   \n",
        "따라서 45도에 대한 다음 값들을 알고 싶다면,   \n",
        "1. sin 45 cos 45 tan45 이렇게 함수에 radian 값을 바로 전달 (45도는 파이/4)"
      ]
    },
    {
      "cell_type": "code",
      "metadata": {
        "colab": {
          "base_uri": "https://localhost:8080/"
        },
        "id": "q-UGts6-7jkE",
        "outputId": "d3efd946-d0bb-4f9d-f805-d15d7bf149d0"
      },
      "source": [
        "import math\n",
        "math.sin(math.pi/4)   #math.pi 는 파이, 그리고 파이는 radian 단위의 값\n",
        "#0.7071067811865475\n",
        "math.cos(math.pi/4)\n",
        "#0.7071067811865476\n",
        "math.tan(math.pi/4)"
      ],
      "execution_count": null,
      "outputs": [
        {
          "output_type": "execute_result",
          "data": {
            "text/plain": [
              "0.9999999999999999"
            ]
          },
          "metadata": {
            "tags": []
          },
          "execution_count": 48
        }
      ]
    },
    {
      "cell_type": "markdown",
      "metadata": {
        "id": "BSXC3ixB8k8s"
      },
      "source": [
        "2. radians 함수를 이용해 값을 바꿔서 전달"
      ]
    },
    {
      "cell_type": "code",
      "metadata": {
        "colab": {
          "base_uri": "https://localhost:8080/"
        },
        "id": "cU1HtL4i8p_Z",
        "outputId": "37ceed29-5a65-4221-aeab-e474d50d0470"
      },
      "source": [
        "import math\n",
        "math.sin(math.radians(45))   #45를 radian 단위로 바꿔서 sin 함수의 인자로 전달\n",
        "#0.7071067811865475\n",
        "math.cos(math.radians(45))\n",
        "#0.7071067811865476\n",
        "math.tan(math.radians(45))"
      ],
      "execution_count": null,
      "outputs": [
        {
          "output_type": "execute_result",
          "data": {
            "text/plain": [
              "0.9999999999999999"
            ]
          },
          "metadata": {
            "tags": []
          },
          "execution_count": 52
        }
      ]
    },
    {
      "cell_type": "code",
      "metadata": {
        "colab": {
          "base_uri": "https://localhost:8080/"
        },
        "id": "mRwgQpxQ9C0F",
        "outputId": "fb48b04a-8af9-4eb3-9fbd-f2360b6ac95e"
      },
      "source": [
        "#12-1 딕셔너리의 이해\n",
        "dc = {'정은호': '010-3333-5555', '구아나' : '010-2222-6666'}  #딕셔너리\n",
        "dc"
      ],
      "execution_count": null,
      "outputs": [
        {
          "output_type": "execute_result",
          "data": {
            "text/plain": [
              "{'구아나': '010-2222-6666', '정은호': '010-3333-5555'}"
            ]
          },
          "metadata": {
            "tags": []
          },
          "execution_count": 53
        }
      ]
    },
    {
      "cell_type": "markdown",
      "metadata": {
        "id": "IjwwHkXD9ekS"
      },
      "source": [
        "딕셔너리는 키와 값이 쌍(pair)로 이루어져야 한다.   \n",
        "값을 튜플이나 리스트로 둘 수도 있다. 단 리스트는 키로 둘 수 없다"
      ]
    },
    {
      "cell_type": "code",
      "metadata": {
        "colab": {
          "base_uri": "https://localhost:8080/"
        },
        "id": "qik73tyO9qSh",
        "outputId": "75cbe640-9275-4d7d-f84c-15aec0ee4981"
      },
      "source": [
        "dc = {\n",
        "    '이름' : '이순동',\n",
        "    '나이' : 19,\n",
        "    '직업' : '학생',\n",
        "    '키': 175.8\n",
        "}\n",
        "dc"
      ],
      "execution_count": null,
      "outputs": [
        {
          "output_type": "execute_result",
          "data": {
            "text/plain": [
              "{'나이': 19, '이름': '이순동', '직업': '학생', '키': 175.8}"
            ]
          },
          "metadata": {
            "tags": []
          },
          "execution_count": 55
        }
      ]
    },
    {
      "cell_type": "markdown",
      "metadata": {
        "id": "Dysv8XCu98p6"
      },
      "source": [
        "이렇게 저장되는 값의 종류가 각각 달라도 가능하다.   \n",
        "주의할 점은 값은 중복되어도 괜찮지만 키는 이름 그대로 값을 꺼내는 열쇠기 때문에 중복되면 안된다."
      ]
    },
    {
      "cell_type": "code",
      "metadata": {
        "colab": {
          "base_uri": "https://localhost:8080/"
        },
        "id": "XHS52pl6-JDv",
        "outputId": "3ea063a8-1903-4af5-da50-215e2bdb82ba"
      },
      "source": [
        "dc = {\n",
        "    '이순동' : 22,\n",
        "    '김순동' : 22,\n",
        "    '정순동' : 22\n",
        "}\n",
        "dc"
      ],
      "execution_count": null,
      "outputs": [
        {
          "output_type": "execute_result",
          "data": {
            "text/plain": [
              "{'김순동': 22, '이순동': 22, '정순동': 22}"
            ]
          },
          "metadata": {
            "tags": []
          },
          "execution_count": 56
        }
      ]
    },
    {
      "cell_type": "markdown",
      "metadata": {
        "id": "c5HcC0Hu-RW4"
      },
      "source": [
        "이렇게 서로 다른 키에 같은 값을 저장하는 것은 가능하다   "
      ]
    },
    {
      "cell_type": "code",
      "metadata": {
        "colab": {
          "base_uri": "https://localhost:8080/"
        },
        "id": "NWTPbgRj-WzP",
        "outputId": "40218487-a402-4917-c4ee-0f2c53ed31d1"
      },
      "source": [
        "dc = {\n",
        "    '이순동' : 22,\n",
        "    '이순동' : 23,\n",
        "    '이순동' : 24\n",
        "}\n",
        "dc"
      ],
      "execution_count": null,
      "outputs": [
        {
          "output_type": "execute_result",
          "data": {
            "text/plain": [
              "{'이순동': 24}"
            ]
          },
          "metadata": {
            "tags": []
          },
          "execution_count": 57
        }
      ]
    },
    {
      "cell_type": "markdown",
      "metadata": {
        "id": "QuTbvWWD-f_H"
      },
      "source": [
        "이렇게 같은 키의 데이터가 둘 이상 저장되면 값이 하나만 나오게 된다.    \n",
        "키는 값을 꺼내는 열쇠로 사용되기에 하나의 딕셔너리 안에 동일한 키가 둘 이상 존재할 수 없다."
      ]
    },
    {
      "cell_type": "code",
      "metadata": {
        "colab": {
          "base_uri": "https://localhost:8080/"
        },
        "id": "7OYEl4XX_CIy",
        "outputId": "a06279e1-7e2d-4685-dfaa-9d6fc86165f9"
      },
      "source": [
        "#12-2 딕셔너리의 데이터 참조\n",
        "dc = {\n",
        "    '코카콜라': 900,\n",
        "    '바나나맛우유': 750,\n",
        "    '비타500' : 600,\n",
        "    '삼다수' : 450\n",
        "}\n",
        "\n",
        "v = dc['삼다수']   #삼다수에 해당하는 값을 꺼내옴, 이때 삼다수가 키임\n",
        "v\n"
      ],
      "execution_count": null,
      "outputs": [
        {
          "output_type": "execute_result",
          "data": {
            "text/plain": [
              "450"
            ]
          },
          "metadata": {
            "tags": []
          },
          "execution_count": 63
        }
      ]
    },
    {
      "cell_type": "markdown",
      "metadata": {
        "id": "C7e3bUxa_9bX"
      },
      "source": [
        "딕셔너리의 있는 값을 알고싶다면, 인덱싱 연산을 하는 것과 같은데 이때 인덱스 값을 대신해서 키를 사용   \n",
        "[0]을 대신 ['키']    \n",
        "이때 값을 변경하고 싶다면 수정가능하다"
      ]
    },
    {
      "cell_type": "code",
      "metadata": {
        "colab": {
          "base_uri": "https://localhost:8080/"
        },
        "id": "OD64xoyWAbNP",
        "outputId": "788641cc-a753-49dc-e3c3-57ed2700eea4"
      },
      "source": [
        "dc = {\n",
        "    '코카콜라': 900,\n",
        "    '바나나맛우유': 750,\n",
        "    '비타500' : 600,\n",
        "    '삼다수' : 450\n",
        "}\n",
        "\n",
        "dc['삼다수']  = 550  #삼다수에 해당하는 값을 550으로 수정\n",
        "dc"
      ],
      "execution_count": null,
      "outputs": [
        {
          "output_type": "execute_result",
          "data": {
            "text/plain": [
              "{'바나나맛우유': 750, '비타500': 600, '삼다수': 550, '코카콜라': 900}"
            ]
          },
          "metadata": {
            "tags": []
          },
          "execution_count": 61
        }
      ]
    },
    {
      "cell_type": "code",
      "metadata": {
        "colab": {
          "base_uri": "https://localhost:8080/"
        },
        "id": "h2JLc92XAm1A",
        "outputId": "9e0a3878-c31c-4872-d36f-b8251075345d"
      },
      "source": [
        "dc = {\n",
        "    '코카콜라': 900,\n",
        "    '바나나맛우유': 750,\n",
        "    '비타500' : 600,\n",
        "    '삼다수' : 450\n",
        "}\n",
        "\n",
        "dc['삼다수']  += 100 #삼다수에 해당하는 값을 550으로 수정\n",
        "dc"
      ],
      "execution_count": null,
      "outputs": [
        {
          "output_type": "execute_result",
          "data": {
            "text/plain": [
              "{'바나나맛우유': 750, '비타500': 600, '삼다수': 550, '코카콜라': 900}"
            ]
          },
          "metadata": {
            "tags": []
          },
          "execution_count": 64
        }
      ]
    },
    {
      "cell_type": "markdown",
      "metadata": {
        "id": "cuhRqvPFAwHK"
      },
      "source": [
        "이렇게 두 가지 방식으로 수정 가능하다"
      ]
    },
    {
      "cell_type": "code",
      "metadata": {
        "colab": {
          "base_uri": "https://localhost:8080/"
        },
        "id": "XZSmzxwjAynY",
        "outputId": "f15f4c68-788d-4118-e5ac-df6ae0c578b0"
      },
      "source": [
        "dc = {\n",
        "    '코카콜라': 900,\n",
        "    '바나나맛우유': 750,\n",
        "    '비타500' : 600,\n",
        "    '삼다수' : 450\n",
        "}\n",
        "\n",
        "dc['카페라떼']  = 1300  #이 경우 데이터의 추가로 이어진다\n",
        "dc"
      ],
      "execution_count": null,
      "outputs": [
        {
          "output_type": "execute_result",
          "data": {
            "text/plain": [
              "{'바나나맛우유': 750, '비타500': 600, '삼다수': 450, '카페라떼': 1300, '코카콜라': 900}"
            ]
          },
          "metadata": {
            "tags": []
          },
          "execution_count": 65
        }
      ]
    },
    {
      "cell_type": "code",
      "metadata": {
        "colab": {
          "base_uri": "https://localhost:8080/"
        },
        "id": "xmg1202PA6VL",
        "outputId": "78b43339-7a52-4dc7-a3b0-5bddd708d1b6"
      },
      "source": [
        "dc = {\n",
        "    '코카콜라': 900,\n",
        "    '바나나맛우유': 750,\n",
        "    '비타500' : 600,\n",
        "    '삼다수' : 450\n",
        "}\n",
        "\n",
        "del dc['비타500']   #비타500에 대한 정보 삭제\n",
        "dc"
      ],
      "execution_count": null,
      "outputs": [
        {
          "output_type": "execute_result",
          "data": {
            "text/plain": [
              "{'바나나맛우유': 750, '삼다수': 450, '코카콜라': 900}"
            ]
          },
          "metadata": {
            "tags": []
          },
          "execution_count": 66
        }
      ]
    },
    {
      "cell_type": "code",
      "metadata": {
        "colab": {
          "base_uri": "https://localhost:8080/"
        },
        "id": "TWyrm1cgBEcO",
        "outputId": "dbfa21ca-efbe-497f-a9eb-6d3e34004c6e"
      },
      "source": [
        "#12-3 연산자 ==을 대상으로 관찰하는 딕셔너리의 성격\n",
        "t1 = [1, 2, 3]\n",
        "t2 = [1, 2, 3]\n",
        "t3 = [3, 2, 1]\n",
        "t1 == t2   #t1과 ts가 같은가? 저장 내용과 순서가 같아서 true\n",
        "t1 == t3   #이 경우는 저장 순서가 달라서 false"
      ],
      "execution_count": null,
      "outputs": [
        {
          "output_type": "execute_result",
          "data": {
            "text/plain": [
              "False"
            ]
          },
          "metadata": {
            "tags": []
          },
          "execution_count": 68
        }
      ]
    },
    {
      "cell_type": "markdown",
      "metadata": {
        "id": "DslpBRv0Bdw-"
      },
      "source": [
        "두 리스트의 == 연산의 결과가 true이려면, 저장된 값과 순서가 모두 같아야 한다"
      ]
    },
    {
      "cell_type": "code",
      "metadata": {
        "colab": {
          "base_uri": "https://localhost:8080/"
        },
        "id": "0JzSkQ3jBk7C",
        "outputId": "c773a7b3-3942-455a-df80-13e3219dc340"
      },
      "source": [
        "d1 = {1: 'a', 2: 'b'}\n",
        "d2 = {1: 'a', 2: 'b'}\n",
        "d4 = {2: 'b', 1: 'a'}\n",
        "d1 == d2   #d1과 d2가 같은가? 저장 내용이 같아서 true\n",
        "d1 == d3   #d1과 d3가 같은가? 저장 내용이 같아서 이 내용에도 true"
      ],
      "execution_count": null,
      "outputs": [
        {
          "output_type": "execute_result",
          "data": {
            "text/plain": [
              "True"
            ]
          },
          "metadata": {
            "tags": []
          },
          "execution_count": 69
        }
      ]
    },
    {
      "cell_type": "markdown",
      "metadata": {
        "id": "gus6RGJOB67G"
      },
      "source": [
        "딕셔너리의 데이터는 저장 순서가 의미 없다. 키가 같다면 true로 결과를 반환한다."
      ]
    },
    {
      "cell_type": "code",
      "metadata": {
        "colab": {
          "base_uri": "https://localhost:8080/"
        },
        "id": "71dHnGthCBvc",
        "outputId": "631abffa-a3e1-43c0-cf56-fe01fd083133"
      },
      "source": [
        "#12-4 in 연산과 not in 연산\n",
        "dc1 = {'코카콜라': 900, '삼다수': 450}  #음료 정보들의 모음\n",
        "dc2 = {'새우깡': 700, '콘치즈': 850}  #과자 정보들의 모음\n",
        "\n",
        "dc2['새우깡'] = 950  #dc2에는 과자 정보가 담겨 있으므로 ok\n",
        "dc2"
      ],
      "execution_count": null,
      "outputs": [
        {
          "output_type": "execute_result",
          "data": {
            "text/plain": [
              "{'새우깡': 950, '콘치즈': 850}"
            ]
          },
          "metadata": {
            "tags": []
          },
          "execution_count": 70
        }
      ]
    },
    {
      "cell_type": "markdown",
      "metadata": {
        "id": "9_oUJK9EEU7r"
      },
      "source": [
        "이때 dc1 인 음료정보에서 새우깡 값을 수정하려 할 수도 있으니 in 연산을 통해 특정키가 있는지 확인할 수 있다"
      ]
    },
    {
      "cell_type": "code",
      "metadata": {
        "colab": {
          "base_uri": "https://localhost:8080/"
        },
        "id": "PfiM79UzEgn0",
        "outputId": "4c956efe-e9ff-4d8f-ec5f-cbfe836e7bd2"
      },
      "source": [
        "dc1 = {'코카콜라': 900, '삼다수': 450} \n",
        "dc2 = {'새우깡': 700, '콘치즈': 850}  \n",
        "'새우깡' in dc2             #새우깡이 dc2에 있는지?"
      ],
      "execution_count": null,
      "outputs": [
        {
          "output_type": "execute_result",
          "data": {
            "text/plain": [
              "True"
            ]
          },
          "metadata": {
            "tags": []
          },
          "execution_count": 71
        }
      ]
    },
    {
      "cell_type": "code",
      "metadata": {
        "id": "9mgOc1mUEozl"
      },
      "source": [
        "dc1 = {'코카콜라': 900, '삼다수': 450} \n",
        "dc2 = {'새우깡': 700, '콘치즈': 850} \n",
        "if '새우깡' in dc2:\n",
        "  dc2['새우깡'] =950   #새우깡이라는 키가 dc2에 존재하면, 값을 950으로 수정해라"
      ],
      "execution_count": null,
      "outputs": []
    },
    {
      "cell_type": "code",
      "metadata": {
        "id": "uXW6FKp8E2Xw"
      },
      "source": [
        "if '카페라떼' not in dc1:\n",
        "dc1['카페라떼'] = 1200    #카페라떼라는 키가 dc1에 존재하지 않으면, dc1에 카페라떼와 값을 추가"
      ],
      "execution_count": null,
      "outputs": []
    },
    {
      "cell_type": "markdown",
      "metadata": {
        "id": "Qn5Vbfl9FJvw"
      },
      "source": [
        "여기서 주의 할 점은 in과 not in연산을 통해서 존재 유무를 확인하는 대상은 값이 아니라 키라는 것!"
      ]
    },
    {
      "cell_type": "code",
      "metadata": {
        "id": "M3SnQjGcFIxu"
      },
      "source": [
        "#12-5 딕셔너리의 for 루프\n",
        "dc = {'새우깡': 700, '콘치즈': 850, '꼬깔콘': 750}  #과자정보"
      ],
      "execution_count": null,
      "outputs": []
    },
    {
      "cell_type": "markdown",
      "metadata": {
        "id": "eXHbqi7_Fa6F"
      },
      "source": [
        "여기에 값을 각각 70원씩 올려야 한다면 for루프를 사용할 수 있다   \n",
        "이때 딕셔너리의 키를 대상으로 for루프가 돌아간다"
      ]
    },
    {
      "cell_type": "code",
      "metadata": {
        "colab": {
          "base_uri": "https://localhost:8080/"
        },
        "id": "oD7zG0lBFgJO",
        "outputId": "2fb4ef6c-e12a-4e24-87ca-e25c70bc81f5"
      },
      "source": [
        "dc = {'새우깡': 700, '콘치즈': 850, '꼬깔콘': 750}  \n",
        "for i in dc:   #이때 i 의 저장되는 것은 키이다\n",
        "  dc[i] += 70\n",
        "\n",
        "dc"
      ],
      "execution_count": null,
      "outputs": [
        {
          "output_type": "execute_result",
          "data": {
            "text/plain": [
              "{'꼬깔콘': 820, '새우깡': 770, '콘치즈': 920}"
            ]
          },
          "metadata": {
            "tags": []
          },
          "execution_count": 75
        }
      ]
    },
    {
      "cell_type": "code",
      "metadata": {
        "colab": {
          "base_uri": "https://localhost:8080/"
        },
        "id": "Etb7ivzYF5nz",
        "outputId": "f7bad519-495f-4a34-d92e-58c14a6318d1"
      },
      "source": [
        "#연습문제 12-1 문제1\n",
        "dc =  {'새우깡': 700, '콘치즈': 850, '꼬깔콘': 750}  \n",
        "dc['홈런볼'] = 900\n",
        "dc"
      ],
      "execution_count": null,
      "outputs": [
        {
          "output_type": "execute_result",
          "data": {
            "text/plain": [
              "{'꼬깔콘': 750, '새우깡': 700, '콘치즈': 850, '홈런볼': 900}"
            ]
          },
          "metadata": {
            "tags": []
          },
          "execution_count": 76
        }
      ]
    },
    {
      "cell_type": "code",
      "metadata": {
        "colab": {
          "base_uri": "https://localhost:8080/"
        },
        "id": "wRnijAoeF862",
        "outputId": "ab109931-41e0-4947-bc58-ba880ac7364c"
      },
      "source": [
        "#연습문제 12-1 문제2\n",
        "dc =  {'새우깡': 700, '콘치즈': 850, '꼬깔콘': 750}  \n",
        "for i in dc:\n",
        "  dc[i] += 100\n",
        "\n",
        "dc"
      ],
      "execution_count": null,
      "outputs": [
        {
          "output_type": "execute_result",
          "data": {
            "text/plain": [
              "{'꼬깔콘': 850, '새우깡': 800, '콘치즈': 950}"
            ]
          },
          "metadata": {
            "tags": []
          },
          "execution_count": 77
        }
      ]
    },
    {
      "cell_type": "code",
      "metadata": {
        "colab": {
          "base_uri": "https://localhost:8080/"
        },
        "id": "dzP0qFsDF-KI",
        "outputId": "b84c7dc6-641c-4961-9b75-6b53de7d5776"
      },
      "source": [
        "#연습문제 12-1 문제3\n",
        "dc =  {'새우깡': 700, '콘치즈': 850, '꼬깔콘': 750}  \n",
        "del dc['콘치즈']\n",
        "dc['치즈콘'] = 950\n",
        "dc"
      ],
      "execution_count": null,
      "outputs": [
        {
          "output_type": "execute_result",
          "data": {
            "text/plain": [
              "{'꼬깔콘': 750, '새우깡': 700, '치즈콘': 950}"
            ]
          },
          "metadata": {
            "tags": []
          },
          "execution_count": 82
        }
      ]
    },
    {
      "cell_type": "markdown",
      "metadata": {
        "id": "F8v1CsTkTsN2"
      },
      "source": [
        "함수 안에 선언되는 변수 : 지역변수 +매개변수 포함   \n",
        "함수 밖에 선언되는 변수 : 전역변수"
      ]
    },
    {
      "cell_type": "code",
      "metadata": {
        "colab": {
          "base_uri": "https://localhost:8080/"
        },
        "id": "g-76xu-vA6Sj",
        "outputId": "0b8a50d8-b4c6-4725-fb4b-923b2a592072"
      },
      "source": [
        "#13-1 전역변수와 지역변수\n",
        "def func(n):   #매개변수 n도 지역변수 범주에 포함된다(지역변수의 일종)\n",
        "  lv = n + 1   #지역변수 1v의 선언, 그리고 매개변수 n에 접근\n",
        "  print(lv)    #지역변수 1v에 접근\n",
        "\n",
        "func(12)"
      ],
      "execution_count": null,
      "outputs": [
        {
          "output_type": "stream",
          "text": [
            "13\n"
          ],
          "name": "stdout"
        }
      ]
    },
    {
      "cell_type": "code",
      "metadata": {
        "colab": {
          "base_uri": "https://localhost:8080/",
          "height": 205
        },
        "id": "umf-YfLL92j0",
        "outputId": "946f50d5-1d04-41a6-db7f-bd6bd3999ca5"
      },
      "source": [
        "def func(n):\n",
        "  lv = n + 1   #지역변수 1v의 선언, 그리고 매개변수 n에 접근\n",
        "  print(lv)    #지역변수 1v에 접근\n",
        "\n",
        "print(lv)"
      ],
      "execution_count": null,
      "outputs": [
        {
          "output_type": "error",
          "ename": "NameError",
          "evalue": "ignored",
          "traceback": [
            "\u001b[0;31m---------------------------------------------------------------------------\u001b[0m",
            "\u001b[0;31mNameError\u001b[0m                                 Traceback (most recent call last)",
            "\u001b[0;32m<ipython-input-3-3ff0c7abe276>\u001b[0m in \u001b[0;36m<module>\u001b[0;34m()\u001b[0m\n\u001b[1;32m      3\u001b[0m   \u001b[0mprint\u001b[0m\u001b[0;34m(\u001b[0m\u001b[0mlv\u001b[0m\u001b[0;34m)\u001b[0m    \u001b[0;31m#지역변수 1v에 접근\u001b[0m\u001b[0;34m\u001b[0m\u001b[0;34m\u001b[0m\u001b[0m\n\u001b[1;32m      4\u001b[0m \u001b[0;34m\u001b[0m\u001b[0m\n\u001b[0;32m----> 5\u001b[0;31m \u001b[0mprint\u001b[0m\u001b[0;34m(\u001b[0m\u001b[0mlv\u001b[0m\u001b[0;34m)\u001b[0m\u001b[0;34m\u001b[0m\u001b[0;34m\u001b[0m\u001b[0m\n\u001b[0m",
            "\u001b[0;31mNameError\u001b[0m: name 'lv' is not defined"
          ]
        }
      ]
    },
    {
      "cell_type": "markdown",
      "metadata": {
        "id": "Azsfvm7vUlM7"
      },
      "source": [
        "이렇게 함수 밖에서 지역변수인 lv에 접근하면 오류가 난다   \n",
        "지역변수는 함수 내에서 만들어졌다가 함수를 벗어나면 사라지는 변수이기에 함수 밖에서 접근이 불가능하다."
      ]
    },
    {
      "cell_type": "code",
      "metadata": {
        "colab": {
          "base_uri": "https://localhost:8080/"
        },
        "id": "Ghy89h9QWDbx",
        "outputId": "8f9dfff2-aaa0-49e4-f7bd-80078ea35579"
      },
      "source": [
        "cnt = 100   #함수 밖에서 선언된 전역변수 cnt\n",
        "cnt += 1\n",
        "def func():\n",
        "  print(cnt)   #함수 내에서 전역변수 cnt에 접근nt = 100   #함수 밖에서 선언된 전역변수 cnt\n",
        "  cnt += 1\n",
        "  def func():\n",
        "    print(cnt)   #함수 내에서 전역변수 cnt에 접근\n",
        "\n",
        "    func()\n",
        "\n",
        "func()"
      ],
      "execution_count": null,
      "outputs": [
        {
          "output_type": "stream",
          "text": [
            "101\n"
          ],
          "name": "stdout"
        }
      ]
    },
    {
      "cell_type": "markdown",
      "metadata": {
        "id": "G9NGYoD4Wkzk"
      },
      "source": [
        "함수 밖에서 선언된 전역변수는 선언된 이후 어디서든 접근이 가능하다.   \n",
        "선언 이후에 만들어지는 함수 내에서도 접근이 가능"
      ]
    },
    {
      "cell_type": "code",
      "metadata": {
        "colab": {
          "base_uri": "https://localhost:8080/"
        },
        "id": "3Eq2fMMbWwaK",
        "outputId": "200790d0-6092-4493-89ad-6eeb2f1e614f"
      },
      "source": [
        "cnt = 100\n",
        "def func():\n",
        "  cnt = 0\n",
        "  print(cnt)\n",
        "\n",
        "func()   #0\n",
        "\n",
        "print(cnt)  #100  전역변수 cnt의 값 출력력"
      ],
      "execution_count": null,
      "outputs": [
        {
          "output_type": "stream",
          "text": [
            "0\n",
            "100\n"
          ],
          "name": "stdout"
        }
      ]
    },
    {
      "cell_type": "code",
      "metadata": {
        "colab": {
          "base_uri": "https://localhost:8080/"
        },
        "id": "FFFcJHb4YwXo",
        "outputId": "0b9a44d4-d5be-4571-d697-cf1acd48d686"
      },
      "source": [
        "cnt = 100\n",
        "def func():\n",
        "  global cnt\n",
        "  cnt = 0\n",
        "  print(cnt)\n",
        "\n",
        "func()   #0\n",
        "\n",
        "print(cnt)   #0"
      ],
      "execution_count": null,
      "outputs": [
        {
          "output_type": "stream",
          "text": [
            "0\n",
            "0\n"
          ],
          "name": "stdout"
        }
      ]
    },
    {
      "cell_type": "markdown",
      "metadata": {
        "id": "16pDz_wZZIyO"
      },
      "source": [
        "함수안에 지역변수가 아닌 전역변수를 사용하는 것이면 global 함수로 변수를 선언해야 한다."
      ]
    },
    {
      "cell_type": "markdown",
      "metadata": {
        "id": "Vpt_nC4sZwX5"
      },
      "source": [
        "13- 2 객체지향 프로그래밍\n",
        "객체지향 프로그래밍이란 클래스를 만드는 것"
      ]
    },
    {
      "cell_type": "code",
      "metadata": {
        "colab": {
          "base_uri": "https://localhost:8080/"
        },
        "id": "VrXVQoH1ZT76",
        "outputId": "9f476e53-d6ff-4e86-c180-47b3053a0498"
      },
      "source": [
        "#13 -3 클래스와 객체 이전의 프로그램에 대한 반성 \n",
        "#family_age1.py\n",
        "fa_age = 39   \n",
        "\n",
        "def up_fa_age():   #이함수를 호출하면 아빠 나이 올라감\n",
        "  global fa_age    #fa_age 전역변수임을 선언\n",
        "  fa_age += 1    #fa_age 의 값 1증가\n",
        "\n",
        "def get_fa_age():  #이 함수를 호출하면 아빠 나이 반환함\n",
        "  return fa_age\n",
        "\n",
        "def main():\n",
        "  print('2019년...')\n",
        "  print('아빠:', get_fa_age())\n",
        "  print('2020년...')\n",
        "  up_fa_age()        #아빠 나이 1살 증가def main():\n",
        "    print('2019년...')\n",
        "      print('아빠:', get_fa_age())\n",
        "        print('2020년...')\n",
        "          up_fa_age()        #아빠 나이 1살 증가\n",
        "            print('아빠:', get_fa_age())\n",
        "\n",
        "            main()\n",
        "  print('아빠:', get_fa_age())\n",
        "\n",
        "main()"
      ],
      "execution_count": null,
      "outputs": [
        {
          "output_type": "stream",
          "text": [
            "2019년...\n",
            "아빠: 39\n",
            "2020년...\n",
            "아빠: 40\n"
          ],
          "name": "stdout"
        }
      ]
    },
    {
      "cell_type": "markdown",
      "metadata": {
        "id": "DNBAilfjzxOj"
      },
      "source": [
        "변수 fa_age와 함수 up_fa_age, get_fa_age는 아빠 나이 관리를 위한 하나의 팀이다"
      ]
    },
    {
      "cell_type": "code",
      "metadata": {
        "colab": {
          "base_uri": "https://localhost:8080/"
        },
        "id": "dMMbQDp_Zvkb",
        "outputId": "445b713d-4f17-4826-9072-9fc1034e8740"
      },
      "source": [
        "#family_age2.py\n",
        "fa_age = 39   \n",
        "\n",
        "def up_fa_age():   #이함수를 호출하면 아빠 나이 올라감\n",
        "  global fa_age   \n",
        "  fa_age += 1   \n",
        "\n",
        "def get_fa_age(): \n",
        "  return fa_age\n",
        "\n",
        "mo_age = 35\n",
        "\n",
        "def up_mo_age():   \n",
        "  global mo_age   \n",
        "  mo_age += 1   \n",
        "\n",
        "def get_mo_age(): \n",
        "  return mo_age\n",
        "\n",
        "def main():\n",
        "  print('2019년...')\n",
        "  print('아빠:', get_fa_age())\n",
        "  print('엄마:', get_mo_age())\n",
        "  print('2020년...')\n",
        "  up_fa_age()        #아빠 나이 1살 증가def main():\n",
        "  up_mo_age()\n",
        "  print('아빠:', get_fa_age())\n",
        "  print('엄마:', get_mo_age())\n",
        "\n",
        "\n",
        "main()"
      ],
      "execution_count": null,
      "outputs": [
        {
          "output_type": "stream",
          "text": [
            "2019년...\n",
            "아빠: 39\n",
            "엄마: 35\n",
            "2020년...\n",
            "아빠: 40\n",
            "엄마: 36\n"
          ],
          "name": "stdout"
        }
      ]
    },
    {
      "cell_type": "markdown",
      "metadata": {
        "id": "VH6BFiDH1IRi"
      },
      "source": [
        "이렇게 코드양이 느는 걸 방지하기 위하여 클래스와 객체를 이해해야 한다"
      ]
    },
    {
      "cell_type": "markdown",
      "metadata": {
        "id": "51Fm1hq_1UwP"
      },
      "source": [
        "객체란 주변에 존재하는 모든 사물 하나하나를 뜻한다   \n",
        "이때 자동차가 객체면 이를 만들기 위해 존재하는 설계도가 있어야 하는데 이게 클래스이다.    \n",
        "\n",
        "\n",
        "\n",
        "\n",
        "\n"
      ]
    },
    {
      "cell_type": "markdown",
      "metadata": {
        "id": "c5yDy1Lmp2kx"
      },
      "source": [
        "변수 하나 fa_age   \n",
        "함수 둘  up_fa_age(), get_fa_age()   \n",
        "이렇게 하면 엄마의 정보를 추가할 때 세가지를 더 추가해야 하기때문에 이 내용을 모두 담는 클래스를 만들어 문제를 해결하고자 한다  \n",
        "이 클래스 안에 담을 변수의 이름을 다음과 같이 수정하면    \n",
        "fa_age > age   \n",
        "up_fa_age() > up_age()   \n",
        "get_fa_fage() > get_age()    \n",
        "\n",
        "앞서 정의한 함수 up_fa_age 는    \n",
        "def up_fa_age():    \n",
        "  global fa_age      \n",
        "  fa_age += 1     \n",
        "이것을 클래스 설계도에 포함시키려면 다음과 같이 수정해야한다    \n",
        "def up_age(self): #self는 매개변수    \n",
        "  self.age += 1    \n",
        "\n",
        "그 다음 함수는 \n",
        "def get_fa_age():   \n",
        "  return self.age   \n",
        "이것을 클래스에 포함하기 위해 수정하면   \n",
        "def get_age(self):\n",
        "  return self.age   \n",
        "\n",
        "이제 두 함수를 클래스에 담아보면   \n",
        "class AfeInfo:   #클래스 ageinfo의 정의   \n",
        "  def up_age(self):  #클래스 안에 담긴 up_age 변수  \n",
        "    self.age += 1   \n",
        "  def get_age(self): #클래스 안에 담긴 get_age 함수   \n",
        "    return self.age   \n",
        "\n",
        "이렇게 첫 번째 클래스가 완성되었다"
      ]
    },
    {
      "cell_type": "code",
      "metadata": {
        "colab": {
          "base_uri": "https://localhost:8080/"
        },
        "id": "z1fNbLeD1MxX",
        "outputId": "54cd3b7b-a470-497b-a255-9c060cb158f3"
      },
      "source": [
        "#13-4 클래스와 객체의 이해\n",
        "#class_object.py   #클래스 ageinfo의 정의\n",
        "class AgeInfo:\n",
        "  def up_age(self):\n",
        "    self.age += 1\n",
        "  def get_age(self):\n",
        "    return self.age\n",
        "\n",
        "def main():\n",
        "  fa = AgeInfo()   #ageinfo의 객체를 생성하고 이를 변수 fa에 저장\n",
        "  fa.age = 39    #fa에 저장된 객체의 변수 age에 39 저장\n",
        "\n",
        "  print('현재 아빠 나이..')\n",
        "  print('아빠:', fa.get_age())  #get_age 호출할 때 self에 값 전달하지 않음\n",
        "\n",
        "  print('1년 뒤...')\n",
        "  fa.up_age()         #up_age 호출할 때 self에 값 전달하지 않음\n",
        "  print('아빠:', fa.get_age())   #get_age 호출할 때 self에 값 전달하지 않음\n",
        "\n",
        "main()\n",
        "\n"
      ],
      "execution_count": null,
      "outputs": [
        {
          "output_type": "stream",
          "text": [
            "현재 아빠 나이..\n",
            "아빠: 39\n",
            "1년 뒤...\n",
            "아빠: 40\n"
          ],
          "name": "stdout"
        }
      ]
    },
    {
      "cell_type": "markdown",
      "metadata": {
        "id": "h-rbLzYvvzB1"
      },
      "source": [
        "클래스 안에 변수 age 가 들어가지 않았지만, 자동으로 선언래스 안에 변수 age 가 들어가지 않았지만, 자동으로 선언해준다   \n",
        "fa.age = 39   이건 fa에 저장된 객체의 변수 age에 39를 저장한다는 뜻   \n",
        "\n",
        "fa.get_age()  fa에 저장된 객체의 함수 get_age호출   \n",
        "fa.up_age()   fa에 저장된 객체의 함수 up_age 호출"
      ]
    },
    {
      "cell_type": "markdown",
      "metadata": {
        "id": "9t9zv5auxSjo"
      },
      "source": [
        "인스턴스 변수 = 객체 안에 존재하는 변수를 뜻하는 말 ex) fa.age    \n",
        "인스턴스 메소드 = 객체 안에 존재하는 함수를 뜻하는 말 ex)fa.up_age   \n",
        "\n",
        "인스턴스는 객체의 또다른 표현이다.   \n",
        "fa = AgeInfo()  이 문장을 보며 ageinfo의  인스턴스가 생성되어서 변수 fa에 저장되었다.   \n",
        "\n",
        "인스턴스 변수 = 인스턴스 객체 안에 존재하는 변수   \n",
        "인스턴스 메소드 = 인스턴스 안에 존재하는 메소드(함수)"
      ]
    },
    {
      "cell_type": "code",
      "metadata": {
        "colab": {
          "base_uri": "https://localhost:8080/"
        },
        "id": "UGfaWeJiwjQQ",
        "outputId": "7db81cf9-7ad7-45b5-f4bc-4872a8b726d8"
      },
      "source": [
        "#13-5 나이 정보 관리하는 이전 예제의 수정 결과\n",
        "#family_age3.py\n",
        "\n",
        "class AgeInfo:\n",
        "  def up_age(self):\n",
        "    self.age += 1\n",
        "  def get_age(self):\n",
        "    return self.age\n",
        "\n",
        "def main():\n",
        "  fa = AgeInfo()\n",
        "  mo = AgeInfo()\n",
        "  me = AgeInfo()\n",
        "\n",
        "  fa.age = 39\n",
        "  mo.age = 35\n",
        "  me.age = 12\n",
        "\n",
        "  sum = fa.get_age() + mo.get_age() + me.get_age()\n",
        "  print('가족 나이 합:', sum)\n",
        "\n",
        "  fa.up_age()\n",
        "  mo.up_age()\n",
        "  me.up_age()\n",
        "  sum = fa.get_age() + mo.get_age() + me.get_age()\n",
        "  print('1년 후의 합:', sum)\n",
        "\n",
        "main()"
      ],
      "execution_count": null,
      "outputs": [
        {
          "output_type": "stream",
          "text": [
            "가족 나이 합: 86\n",
            "1년 후의 합: 89\n"
          ],
          "name": "stdout"
        }
      ]
    },
    {
      "cell_type": "markdown",
      "metadata": {
        "id": "Edc-6akOQsGY"
      },
      "source": [
        "  fa = AgeInfo()    \n",
        "  mo = AgeInfo()     \n",
        "  me = AgeInfo()     \n",
        "이 세 문장이 실행되면 각각의 세 개의 객체가 생성되고    \n",
        "\n",
        "  fa.age = 39   \n",
        "  mo.age = 35    \n",
        "  me.age = 12     \n",
        "  이 문장들이 실행되며 각 개체 안에 있는 변수age의 값이 다음과 같이 초기화 된다.   \n",
        "  초기화 된다는 것은 값이 처음 저장된다는 뜻이다!!"
      ]
    },
    {
      "cell_type": "code",
      "metadata": {
        "id": "VLYu37yZRbKS",
        "colab": {
          "base_uri": "https://localhost:8080/"
        },
        "outputId": "b2dd334a-487a-44d6-82f6-9d1eb4c7baef"
      },
      "source": [
        "#13-6 self란?\n",
        "#self_tset.py\n",
        "class AgeInfo:\n",
        "  def up_age(self):\n",
        "    self.age += 1\n",
        "  def get_age(self):\n",
        "    return self.age\n",
        "\n",
        "def main():\n",
        "  fa = AgeInfo()\n",
        "  fa.age = 20   #인스턴스 변수 age의 값 20으로 초기화\n",
        "\n",
        "  fa.up_age()   #fa에 저장된 객체의 up_age 함수 호출\n",
        "  AgeInfo.up_age(fa)  #위와 동일한 기능의 문장(보편적인 방법x 물리적인 방법)\n",
        "\n",
        "  print(fa.get_age())     #fa에 저장된 객체의 get_age 함수 호출\n",
        "  print(AgeInfo.get_age(fa))   #위와 동일한 기능의 문장(보편적인 방법x 물리적인 방법)\n",
        "\n",
        "main()"
      ],
      "execution_count": 1,
      "outputs": [
        {
          "output_type": "stream",
          "text": [
            "22\n",
            "22\n"
          ],
          "name": "stdout"
        }
      ]
    },
    {
      "cell_type": "markdown",
      "metadata": {
        "id": "OD2MbBLahcvD"
      },
      "source": [
        "self 의 존재이유   \n",
        " 객체들이 클래스를 공유하기 위함    \n",
        " 메소드 첫번째 매개변수: self   \n",
        " 인스턴스 변수에 접근 시 self.변수로 표현   \n",
        " 쉽게 표현해서 메서드 안에 있는 내 메서드를 호출할 때 사용됨 ex) 내 팔 들어!     \n",
        " 함수 안에 있는 내 함수     \n",
        " def ~~~:    \n",
        "    def ~~~:     \n",
        "같이 내 아래에 있는 함수를 호출하기 위함"
      ]
    },
    {
      "cell_type": "code",
      "metadata": {
        "id": "Oeixywluxq3O"
      },
      "source": [
        "#13-7 self 이외의 매개변수를 갖는 메소드들(함수들) 정의해보기\n",
        "def set_age(self, n):   #매개변수 self도 있고 n도 있다\n",
        "  self.age = n\n",
        "\n",
        "def st_age(self, age):\n",
        "  self.age = age   #age는 매개변수, self.age는 인스턴스 변수"
      ],
      "execution_count": 2,
      "outputs": []
    },
    {
      "cell_type": "markdown",
      "metadata": {
        "id": "Cxz9pxZwj3ec"
      },
      "source": [
        "정의한 매서드를 호출할 때 self는 파이썬이 알아서 전달하니 두번째 값인 n만 전달하면 된다"
      ]
    },
    {
      "cell_type": "code",
      "metadata": {
        "colab": {
          "base_uri": "https://localhost:8080/"
        },
        "id": "ahKWx6FkkJ_r",
        "outputId": "5889334b-9992-40ea-e6e9-22c8cbbacaac"
      },
      "source": [
        "#family_age4.py\n",
        "\n",
        "class AgeInfo:\n",
        "  def up_age(self):\n",
        "    self.age += 1\n",
        "  def get_age(self):\n",
        "    return self.age\n",
        "  def set_age(self, age):\n",
        "    self.age = age    \n",
        "\n",
        "\n",
        "def main():\n",
        "  fa = AgeInfo()    #아빠 나이 객체 생성\n",
        "  fa.age = 39       #아빠 나이 초기화, 매개변수 age에 39 전달\n",
        "  print('1년 후의 아빠 나이:', fa.get_age())\n",
        "\n",
        "main()"
      ],
      "execution_count": 3,
      "outputs": [
        {
          "output_type": "stream",
          "text": [
            "1년 후의 아빠 나이: 40\n"
          ],
          "name": "stdout"
        }
      ]
    },
    {
      "cell_type": "markdown",
      "metadata": {
        "id": "If_sOS4Rkzdt"
      },
      "source": [
        "인스턴스 변수에 직접 접근해서 초기화했던 것을 메소드 호출을 통해 인스턴스 변수 초기화"
      ]
    },
    {
      "cell_type": "code",
      "metadata": {
        "id": "MXd-4gYtk35x"
      },
      "source": [
        "#13-8 생성자 (=초기화 메서드)\n",
        "def main():\n",
        "  fa =AgeInfo()\n",
        "  fa.age = 39      #인스턴스 변수 age의 값을 20으로 초기화"
      ],
      "execution_count": null,
      "outputs": []
    },
    {
      "cell_type": "markdown",
      "metadata": {
        "id": "AoKHUR3DlD5C"
      },
      "source": [
        "이렇듯 객체 안에 존재하는 모든 변수는 초기화를 해야한다.   \n",
        "파이썬은 객체의 생성과 변수의 초기화를 동시에 진행할 수 있도록 생성자라는 것을 제공한다"
      ]
    },
    {
      "cell_type": "code",
      "metadata": {
        "id": "VvdDcVQnlOYd"
      },
      "source": [
        "#ctror1.py\n",
        "class Const:\n",
        "  def __init__(self):   #생성자라 불리는 메서드, 메서드 이름이 __init__ 이다\n",
        "    print(\"new~\")\n",
        "\n",
        "def main():\n",
        "  o1 = Const()\n",
        "  o2 = Const()"
      ],
      "execution_count": 4,
      "outputs": []
    },
    {
      "cell_type": "markdown",
      "metadata": {
        "id": "eKNuUhPglj35"
      },
      "source": [
        "Const()를 적어 담기만 하고 실행하라고 하지 않았는데도 실행이 되었다.   \n",
        "객체 안에는 적절한 변수를 선언하는 것이 좋다   \n",
        " ex) fa =AgeInfo()    \n",
        " fa.age = 39   \n",
        " 이런식으로"
      ]
    },
    {
      "cell_type": "markdown",
      "metadata": {
        "id": "V-4GSmYFl49u"
      },
      "source": [
        "생성자는 객체 생성 시 자동으로 호출이 되는 특징이 있다. "
      ]
    },
    {
      "cell_type": "code",
      "metadata": {
        "colab": {
          "base_uri": "https://localhost:8080/"
        },
        "id": "NY4GB7jsmFMI",
        "outputId": "2230f5a1-7dc6-4c88-d83a-29ea9fda74e5"
      },
      "source": [
        "#ctror2.py\n",
        "class Const:\n",
        "  def __init__(self, n1, n2):\n",
        "    self.n1 = n1     #self.n1은 인스턴스 변수, n1은 매개변수\n",
        "    self.n2 = n2     #self.n2은 인스턴스 변수, n2은 매개변수\n",
        "  def show_data(self):\n",
        "    print(self.n1, self.n2)\n",
        "\n",
        "def main():\n",
        "  o1 = Const(1, 2)    #생성자에 1과 2를 전달\n",
        "  o2 = Const(3, 4)    #생성자에 3과 4를 전달\n",
        "  o1.show_data()\n",
        "  o2.show_data()\n",
        "\n",
        "main()"
      ],
      "execution_count": 6,
      "outputs": [
        {
          "output_type": "stream",
          "text": [
            "1 2\n",
            "3 4\n"
          ],
          "name": "stdout"
        }
      ]
    },
    {
      "cell_type": "code",
      "metadata": {
        "colab": {
          "base_uri": "https://localhost:8080/"
        },
        "id": "47xTHKZsmt_H",
        "outputId": "f854fbb0-615d-494b-c504-7749c6924e52"
      },
      "source": [
        "#family_age5.py\n",
        "\n",
        "class AgeInfo:\n",
        "  def __init__(self, age):   #AgeInfo의 생성자\n",
        "    self.age = age       #매개변수 age에 전달된 값으로 인스턴스 변수 age 초기화 \n",
        "  def up_age(self):\n",
        "    self.age += 1\n",
        "  def get_age(self):\n",
        "    return self.age \n",
        "\n",
        "\n",
        "def main():\n",
        "  fa = AgeInfo(39)    #아빠 나이 객체 생성\n",
        "  fa.up_age()     #아빠 나이 초기화, 매개변수 age에 39 전달\n",
        "  print('1년 후의 아빠 나이:', fa.get_age())\n",
        "\n",
        "main()"
      ],
      "execution_count": 8,
      "outputs": [
        {
          "output_type": "stream",
          "text": [
            "1년 후의 아빠 나이: 40\n"
          ],
          "name": "stdout"
        }
      ]
    },
    {
      "cell_type": "code",
      "metadata": {
        "colab": {
          "base_uri": "https://localhost:8080/"
        },
        "id": "wYp2h675nWRb",
        "outputId": "167f3362-910c-4067-c34a-05c775fb5287"
      },
      "source": [
        "#연습문제 13-1 1번문제\n",
        "class Friend:\n",
        "  def __init__(self, name, number):\n",
        "    self.name = name\n",
        "    self.number = number\n",
        "\n",
        "  def get_name(self):\n",
        "    return self.name\n",
        "\n",
        "  def get_number(self):\n",
        "    return self.number\n",
        "\n",
        "  def set_number(self, number):\n",
        "    self.number = number\n",
        "\n",
        "  def show_info(self):\n",
        "    print(self.name)\n",
        "    print(self.number)\n",
        "\n",
        "\n",
        "f = Friend('윤성우', '010-111-222')  \n",
        "f.get_name()    #윤성우\n",
        "\n",
        "f.get_number()   #010-111-222\n",
        "\n",
        "f.set_number('010-333-444')\n",
        "\n",
        "f.show_info()"
      ],
      "execution_count": 16,
      "outputs": [
        {
          "output_type": "stream",
          "text": [
            "윤성우\n",
            "010-333-444\n"
          ],
          "name": "stdout"
        }
      ]
    },
    {
      "cell_type": "code",
      "metadata": {
        "colab": {
          "base_uri": "https://localhost:8080/"
        },
        "id": "96cee4CCpYy4",
        "outputId": "7e591119-4e1d-4ead-94f3-59b656acfd23"
      },
      "source": [
        "#연습문제 13-1 2번문제\n",
        "class Friend:\n",
        "  def __init__(self, name, number):\n",
        "    self.name = name\n",
        "    self.number = number\n",
        "\n",
        "  def get_name(self):\n",
        "    return self.name\n",
        "\n",
        "  def get_number(self):\n",
        "    return self.number\n",
        "\n",
        "  def set_number(self, number):\n",
        "    self.number = number\n",
        "\n",
        "  def show_info(self):\n",
        "    print(self.name)\n",
        "    print(self.number)\n",
        "\n",
        "\n",
        "frs = []\n",
        "frs.append(Friend('윤지민', '010-111-222'))\n",
        "frs.append(Friend('이선준', '010-333-444'))\n",
        "frs.append(Friend('장지우', '010-555-666'))\n",
        "frs.append(Friend('윤지율', '010-777-888'))\n",
        "\n",
        "for i in frs:\n",
        "  i.show_info()"
      ],
      "execution_count": 17,
      "outputs": [
        {
          "output_type": "stream",
          "text": [
            "윤지민\n",
            "010-111-222\n",
            "이선준\n",
            "010-333-444\n",
            "장지우\n",
            "010-555-666\n",
            "윤지율\n",
            "010-777-888\n"
          ],
          "name": "stdout"
        }
      ]
    },
    {
      "cell_type": "code",
      "metadata": {
        "colab": {
          "base_uri": "https://localhost:8080/"
        },
        "id": "hjw8lDMQp7p6",
        "outputId": "2ce09c68-8446-4298-ba6e-8d786388518a"
      },
      "source": [
        "#연습문제 13-1 3번문제\n",
        "frs = []\n",
        "frs.append(Friend('윤지민', '010-111-222'))\n",
        "frs.append(Friend('이선준', '010-333-444'))\n",
        "frs.append(Friend('장지우', '010-555-666'))\n",
        "frs.append(Friend('윤지율', '010-777-888'))\n",
        "\n",
        "for i in frs:\n",
        "  if i.get_name().startswith('윤'):\n",
        "    i.show_info() "
      ],
      "execution_count": 20,
      "outputs": [
        {
          "output_type": "stream",
          "text": [
            "윤지민\n",
            "010-111-222\n",
            "윤지율\n",
            "010-777-888\n"
          ],
          "name": "stdout"
        }
      ]
    },
    {
      "cell_type": "code",
      "metadata": {
        "colab": {
          "base_uri": "https://localhost:8080/"
        },
        "id": "ekpzqG6Yp7gD",
        "outputId": "54d9c1d0-074c-4043-a033-2d037b9754ec"
      },
      "source": [
        "#연습문제 13-1 4번문제\n",
        "frs = []\n",
        "frs.append(Friend('윤지민', '010-111-222'))\n",
        "frs.append(Friend('이선준', '010-333-444'))\n",
        "frs.append(Friend('장지우', '010-555-666'))\n",
        "frs.append(Friend('윤지율', '010-777-888'))\n",
        "\n",
        "for i in frs:\n",
        "  if i.get_name()== '장지우':\n",
        "    i.set_number('010-999-999')\n",
        "\n",
        "for i in frs:\n",
        "  if i.get_name()== '장지우':\n",
        "    i.show_info()"
      ],
      "execution_count": 21,
      "outputs": [
        {
          "output_type": "stream",
          "text": [
            "장지우\n",
            "010-999-999\n"
          ],
          "name": "stdout"
        }
      ]
    },
    {
      "cell_type": "code",
      "metadata": {
        "colab": {
          "base_uri": "https://localhost:8080/",
          "height": 35
        },
        "id": "duO0uEFCq0ek",
        "outputId": "f371cb00-a852-491c-f057-7402ca27146b"
      },
      "source": [
        "#13-9 사실 파이썬의 모든 데이터는(값은) 객체\n",
        "s = 'coffee'\n",
        "s.upper()"
      ],
      "execution_count": 22,
      "outputs": [
        {
          "output_type": "execute_result",
          "data": {
            "application/vnd.google.colaboratory.intrinsic+json": {
              "type": "string"
            },
            "text/plain": [
              "'COFFEE'"
            ]
          },
          "metadata": {
            "tags": []
          },
          "execution_count": 22
        }
      ]
    },
    {
      "cell_type": "markdown",
      "metadata": {
        "id": "9fHKl6pdq82I"
      },
      "source": [
        "이런 호출이 가능하다는 것은 s에 담긴 것이 객체라는 의미"
      ]
    },
    {
      "cell_type": "code",
      "metadata": {
        "colab": {
          "base_uri": "https://localhost:8080/"
        },
        "id": "tcHOQsUxrA6_",
        "outputId": "53df2c31-8e9a-4bd9-c88a-6bb6585b2a7c"
      },
      "source": [
        "n = 1000\n",
        "n.bit_length() "
      ],
      "execution_count": 23,
      "outputs": [
        {
          "output_type": "execute_result",
          "data": {
            "text/plain": [
              "10"
            ]
          },
          "metadata": {
            "tags": []
          },
          "execution_count": 23
        }
      ]
    },
    {
      "cell_type": "markdown",
      "metadata": {
        "id": "xlOZKOk_rFnt"
      },
      "source": [
        "변수 n에 담긴 정수도 객체라는 증거   \n"
      ]
    },
    {
      "cell_type": "code",
      "metadata": {
        "colab": {
          "base_uri": "https://localhost:8080/"
        },
        "id": "URoIcGecrL8d",
        "outputId": "57af8dc2-1425-4105-a7e1-ee65a08d0b57"
      },
      "source": [
        "f = 3.14\n",
        "f.is_integer()"
      ],
      "execution_count": 24,
      "outputs": [
        {
          "output_type": "execute_result",
          "data": {
            "text/plain": [
              "False"
            ]
          },
          "metadata": {
            "tags": []
          },
          "execution_count": 24
        }
      ]
    },
    {
      "cell_type": "markdown",
      "metadata": {
        "id": "pH_zg87nrTLC"
      },
      "source": [
        "변수 f에 담긴 실수도 객체라는 증거"
      ]
    },
    {
      "cell_type": "markdown",
      "metadata": {
        "id": "_jHz0oQirVrS"
      },
      "source": [
        "이렇게 정수나 실수, 문자열을 입력하면 파이썬은 이를 객체로 만든다.    \n",
        "따라서 그 객체를 대상으로 인스턴스 메소드를 호출 할 수 있는 것    \n",
        "정수나 실수인 객체를 대상으로 인스턴스 메소드를 호출 할 수 있지만 보편적으로 사용하는 메소드들은 아니므로 이들이 객체란 사실을 인지하는 것이 중요하다"
      ]
    },
    {
      "cell_type": "code",
      "metadata": {
        "id": "O8idjVpWsL3H"
      },
      "source": [
        "#14-1 예외가 발생하는 상황(오류상황)\n",
        "lst = [1, 2, 3]\n",
        "lst[3] "
      ],
      "execution_count": null,
      "outputs": []
    },
    {
      "cell_type": "markdown",
      "metadata": {
        "id": "gfNE2uUVsNf6"
      },
      "source": [
        "이것은 인덱스 에러가 난다   \n",
        "indexerror : list index out of range"
      ]
    },
    {
      "cell_type": "code",
      "metadata": {
        "id": "0zIYFWBysWiX"
      },
      "source": [
        "3 + 'coffee'  #숫자와 문자열은 더할 수 없다\n"
      ],
      "execution_count": null,
      "outputs": []
    },
    {
      "cell_type": "markdown",
      "metadata": {
        "id": "TfDWYZNkslog"
      },
      "source": [
        "이것은 문자열과 숫자가 섞일 수 없는 연산 에러가 난다   \n",
        "typeerror : unsupported operand type(s) for + : 'int' + 'str'"
      ]
    },
    {
      "cell_type": "code",
      "metadata": {
        "id": "myM9AYi9syOL"
      },
      "source": [
        "3/ 0"
      ],
      "execution_count": null,
      "outputs": []
    },
    {
      "cell_type": "markdown",
      "metadata": {
        "id": "kfr3cgUTs0pc"
      },
      "source": [
        "산술적으로 0으로 나누는 것에 대한 결과가 정의되어 있지 않다. 따라서 파이썬도 0으로 나누는 연산을 하면 오류가 난다   \n",
        "zerodivisonerror : division by zero"
      ]
    },
    {
      "cell_type": "code",
      "metadata": {
        "id": "pbZeoDBHtaj-"
      },
      "source": [
        "#14-2 예외의 처리\n",
        "#age.py\n",
        "def main():\n",
        "  print('안녕하세요')\n",
        "  age = int(input('나이를 입력하세요:'))\n",
        "  print('입력하신 나이는 다음과 같습니다:', age)\n",
        "  print('만나서 반가웠습니다.')\n",
        "\n",
        "main()"
      ],
      "execution_count": 26,
      "outputs": []
    },
    {
      "cell_type": "markdown",
      "metadata": {
        "id": "_7DtyQKAtkwz"
      },
      "source": [
        "이 코드에서 숫자를 입력해야 하는 부분에 문자를 입력하면 오류가 난다.   \n",
        "valueerror : invalid literal for int() with base 10: 스물"
      ]
    },
    {
      "cell_type": "code",
      "metadata": {
        "colab": {
          "base_uri": "https://localhost:8080/"
        },
        "id": "nUxaLMp1tydB",
        "outputId": "2d94755f-40fc-457e-8680-91418efc7881"
      },
      "source": [
        "#age_except.py\n",
        "def main():\n",
        "  print('안녕하세요')\n",
        "  try:\n",
        "    age = int(input('나이를 입력하세요:'))\n",
        "    print('입력하신 나이는 다음과 같습니다:', age)\n",
        "  except ValueError:\n",
        "    print('입력이 잘못되었습니다.')\n",
        "    \n",
        "  print('만나서 반가웠습니다.')\n",
        "\n",
        "main()"
      ],
      "execution_count": 2,
      "outputs": [
        {
          "output_type": "stream",
          "text": [
            "안녕하세요\n",
            "나이를 입력하세요:스물\n",
            "입력이 잘못되었습니다.\n",
            "만나서 반가웠습니다.\n"
          ],
          "name": "stdout"
        }
      ]
    },
    {
      "cell_type": "markdown",
      "metadata": {
        "id": "2XIMQsJ7k2W6"
      },
      "source": [
        "try 영역안에서 예외가 발생한다면, except 영역을 실행한다는 뜻   \n",
        "except영역이 실행되면, 해당 예외는 처리된 것으로 판단하고 except 영역 그 다음 문장부터 실행을 이어간다.  \n",
        "예외가 발생안했다면 except영역 다음에 위치한 문장부터 실행이 이루어진다."
      ]
    },
    {
      "cell_type": "code",
      "metadata": {
        "colab": {
          "base_uri": "https://localhost:8080/"
        },
        "id": "dlehJlWXlzew",
        "outputId": "0dc1a6d8-970b-42a6-bc38-83289a3151ae"
      },
      "source": [
        "#14-3 보다 적극적인 예외의 처리\n",
        "#age_expt_conti.py\n",
        "def main():\n",
        "  print('안녕하세요')\n",
        "  while True:   #while 루프 안에 try ~ except가 있다 while True는 break가 나올 때까지 계속 실행\n",
        "    try:\n",
        "      age = int(input('나이를 입력하세요:'))\n",
        "      print('입력하신 나이는 다음과 같습니다:', age)\n",
        "      break    #입력이 정상적이면 while 루프 탈출! 예외가 있을 시 except 문을 돌고 다시 나이 입력으로 돌아옴\n",
        "    except ValueError:\n",
        "      print('입력이 잘못되었습니다.')\n",
        "    \n",
        "  print('만나서 반가웠습니다.')\n",
        "\n",
        "main()"
      ],
      "execution_count": 3,
      "outputs": [
        {
          "output_type": "stream",
          "text": [
            "안녕하세요\n",
            "나이를 입력하세요:스물\n",
            "입력이 잘못되었습니다.\n",
            "나이를 입력하세요:20\n",
            "입력하신 나이는 다음과 같습니다: 20\n",
            "만나서 반가웠습니다.\n"
          ],
          "name": "stdout"
        }
      ]
    },
    {
      "cell_type": "markdown",
      "metadata": {
        "id": "awU4Yd8FnxRQ"
      },
      "source": [
        "위 예제에서는 except 영역이 실행되면 while 루프를 반복하게 된 것이다. 때문에 정상적인 입력이 없으면 프로그램 사용자에게 입력을 계속 요구하게 된다"
      ]
    },
    {
      "cell_type": "code",
      "metadata": {
        "colab": {
          "base_uri": "https://localhost:8080/"
        },
        "id": "9keNFtV8n8W5",
        "outputId": "527af166-3e87-43a8-c67a-75c45d6ee001"
      },
      "source": [
        "#14-4 둘 이상의 예외를 처리하기\n",
        "#div.py\n",
        "def main():\n",
        "  bread = 10    #현재 10개의 빵이 있다\n",
        "  people = int(input('몇 명?'))   #ValueError 예외가 발생할 수 있음\n",
        "  print('1인당 빵의 수:', bread / people)   #ZeroDivisonError 예외가 발생할 수 있음 피플이 0일 수도 있어서 나눠지지 않기 때문에\n",
        "  print('맛있게 드세요')\n",
        "\n",
        "main()"
      ],
      "execution_count": 5,
      "outputs": [
        {
          "output_type": "stream",
          "text": [
            "몇 명?2\n",
            "1인당 빵의 수: 5.0\n",
            "맛있게 드세요\n"
          ],
          "name": "stdout"
        }
      ]
    },
    {
      "cell_type": "markdown",
      "metadata": {
        "id": "M7qcEueworgZ"
      },
      "source": [
        "위에서 몇 몇이냐고 물었을 때 두 가지에 예외가 발생할 수 있다."
      ]
    },
    {
      "cell_type": "code",
      "metadata": {
        "colab": {
          "base_uri": "https://localhost:8080/"
        },
        "id": "mQ4xei0Co1M5",
        "outputId": "3ae8cb4f-9132-4935-a251-33d1e19dfa94"
      },
      "source": [
        "#div_except1.py\n",
        "def main():\n",
        "  bread = 10    #현재 10개의 빵이 있다\n",
        "  try:\n",
        "    people = int(input('몇 명?'))  \n",
        "    print('1인당 빵의 수:', bread / people)  \n",
        "  except ValueError:\n",
        "    print('입력이 잘못되었습니다.')\n",
        "  except ZeroDivisionError:\n",
        "    print('0으로는 나눌 수 없습니다.')\n",
        "  \n",
        "\n",
        "main()"
      ],
      "execution_count": 7,
      "outputs": [
        {
          "output_type": "stream",
          "text": [
            "몇 명?0\n",
            "0으로는 나눌 수 없습니다.\n",
            "맛있게 드세요\n"
          ],
          "name": "stdout"
        }
      ]
    },
    {
      "cell_type": "markdown",
      "metadata": {
        "id": "xrTmOZdJpLxu"
      },
      "source": [
        "이런 식으로 예외 종류에 따라서 except 영역을 얼마든지 추가할 수 있다.   \n"
      ]
    },
    {
      "cell_type": "code",
      "metadata": {
        "colab": {
          "base_uri": "https://localhost:8080/"
        },
        "id": "p-_Sk_gdpZKP",
        "outputId": "0ebdd534-58cb-4cde-a683-7e0239dcf80d"
      },
      "source": [
        "#14-5 예외 메세지 출력하기와 finally\n",
        "#div_except2.py\n",
        "def main():\n",
        "  bread = 10    #현재 10개의 빵이 있다\n",
        "  try:\n",
        "    people = int(input('몇 명?')) \n",
        "    print('1인당 빵의 수:', bread / people)  \n",
        "    print('맛있게 드세요')\n",
        "  except ValueError as msg:    #변수 msg에 오류 메세지가 담긴다\n",
        "    print('입력이 잘못되었습니다.')\n",
        "    print(msg)                #오류 메세지 출력\n",
        "  except ZeroDivisionError as msg:     #변수 msg에 오류 메세지가 담긴다\n",
        "    print('0으로는 나눌 수 없습니다.')\n",
        "    print(msg)                \n",
        "  \n",
        "\n",
        "main()"
      ],
      "execution_count": 8,
      "outputs": [
        {
          "output_type": "stream",
          "text": [
            "몇 명?0\n",
            "0으로는 나눌 수 없습니다.\n",
            "division by zero\n"
          ],
          "name": "stdout"
        }
      ]
    },
    {
      "cell_type": "markdown",
      "metadata": {
        "id": "0LG2rq3zp9oD"
      },
      "source": [
        "예외가 발생해서 except 영역이 실행될 때, 파이썬은 예외 발생 원인에 대한 메세지를 전달한다. 전달은 위와 같이 변수에 담아 출력해주면 된다."
      ]
    },
    {
      "cell_type": "code",
      "metadata": {
        "colab": {
          "base_uri": "https://localhost:8080/",
          "height": 365
        },
        "id": "G-xI513VqJWR",
        "outputId": "4b26e5ac-544d-4543-84e1-61d8ef0ac50e"
      },
      "source": [
        "#div_except3.py\n",
        "def main():\n",
        "  bread = 10    #현재 10개의 빵이 있다\n",
        "  try:\n",
        "    people = int(input('몇 명?')) \n",
        "    print('1인당 빵의 수:', bread / people)  \n",
        "    print('맛있게 드세요')\n",
        "  except ValueError:    \n",
        "    print('입력이 잘못되었습니다.')\n",
        "  finally:\n",
        "    print('어쨌든 프로그램은 종료합니다.')\n",
        "          \n",
        "  \n",
        "\n",
        "main()"
      ],
      "execution_count": 9,
      "outputs": [
        {
          "output_type": "stream",
          "text": [
            "몇 명?0\n",
            "어쨌든 프로그램은 종료합니다.\n"
          ],
          "name": "stdout"
        },
        {
          "output_type": "error",
          "ename": "ZeroDivisionError",
          "evalue": "ignored",
          "traceback": [
            "\u001b[0;31m---------------------------------------------------------------------------\u001b[0m",
            "\u001b[0;31mZeroDivisionError\u001b[0m                         Traceback (most recent call last)",
            "\u001b[0;32m<ipython-input-9-6c7132631be8>\u001b[0m in \u001b[0;36m<module>\u001b[0;34m()\u001b[0m\n\u001b[1;32m     13\u001b[0m \u001b[0;34m\u001b[0m\u001b[0m\n\u001b[1;32m     14\u001b[0m \u001b[0;34m\u001b[0m\u001b[0m\n\u001b[0;32m---> 15\u001b[0;31m \u001b[0mmain\u001b[0m\u001b[0;34m(\u001b[0m\u001b[0;34m)\u001b[0m\u001b[0;34m\u001b[0m\u001b[0;34m\u001b[0m\u001b[0m\n\u001b[0m",
            "\u001b[0;32m<ipython-input-9-6c7132631be8>\u001b[0m in \u001b[0;36mmain\u001b[0;34m()\u001b[0m\n\u001b[1;32m      4\u001b[0m   \u001b[0;32mtry\u001b[0m\u001b[0;34m:\u001b[0m\u001b[0;34m\u001b[0m\u001b[0;34m\u001b[0m\u001b[0m\n\u001b[1;32m      5\u001b[0m     \u001b[0mpeople\u001b[0m \u001b[0;34m=\u001b[0m \u001b[0mint\u001b[0m\u001b[0;34m(\u001b[0m\u001b[0minput\u001b[0m\u001b[0;34m(\u001b[0m\u001b[0;34m'몇 명?'\u001b[0m\u001b[0;34m)\u001b[0m\u001b[0;34m)\u001b[0m\u001b[0;34m\u001b[0m\u001b[0;34m\u001b[0m\u001b[0m\n\u001b[0;32m----> 6\u001b[0;31m     \u001b[0mprint\u001b[0m\u001b[0;34m(\u001b[0m\u001b[0;34m'1인당 빵의 수:'\u001b[0m\u001b[0;34m,\u001b[0m \u001b[0mbread\u001b[0m \u001b[0;34m/\u001b[0m \u001b[0mpeople\u001b[0m\u001b[0;34m)\u001b[0m\u001b[0;34m\u001b[0m\u001b[0;34m\u001b[0m\u001b[0m\n\u001b[0m\u001b[1;32m      7\u001b[0m     \u001b[0mprint\u001b[0m\u001b[0;34m(\u001b[0m\u001b[0;34m'맛있게 드세요'\u001b[0m\u001b[0;34m)\u001b[0m\u001b[0;34m\u001b[0m\u001b[0;34m\u001b[0m\u001b[0m\n\u001b[1;32m      8\u001b[0m   \u001b[0;32mexcept\u001b[0m \u001b[0mValueError\u001b[0m\u001b[0;34m:\u001b[0m    \u001b[0;31m#변수 msg에 오류 메세지가 담긴다\u001b[0m\u001b[0;34m\u001b[0m\u001b[0;34m\u001b[0m\u001b[0m\n",
            "\u001b[0;31mZeroDivisionError\u001b[0m: division by zero"
          ]
        }
      ]
    },
    {
      "cell_type": "markdown",
      "metadata": {
        "id": "0UdVQFiqqgH8"
      },
      "source": [
        "예외 발생 유무에 상관없이 try영역으로 진입하여 무조건 실행해야 하는 내용이 있다면 except 영역에 이어 finally 영역을 구성하면 된다.   \n",
        "위와 같이 ZeroDivisionError예외가 발생했을 때 이 예외를 처리할 수 있는 except영역이 존재하지 않았지만 finally 영역은 실행된다."
      ]
    },
    {
      "cell_type": "code",
      "metadata": {
        "colab": {
          "base_uri": "https://localhost:8080/"
        },
        "id": "85aQD4Clq-BB",
        "outputId": "aabad165-f4d0-4163-be07-6fdd5a8effd9"
      },
      "source": [
        "#14-6 모든 예외 그냥 무시하기\n",
        "#ignore_expt.py\n",
        "def main():\n",
        "  bread = 10    #현재 10개의 빵이 있다\n",
        "  try:\n",
        "    people = int(input('몇 명?')) \n",
        "    print('1인당 빵의 수:', bread / people)  \n",
        "    print('맛있게 드세요')\n",
        "  except :   \n",
        "    print('뭔지는 몰라도 예외가 발생했군요.')\n",
        "  \n",
        "\n",
        "main()"
      ],
      "execution_count": 10,
      "outputs": [
        {
          "output_type": "stream",
          "text": [
            "몇 명?글쎄요\n",
            "뭔지는 몰라도 예외가 발생했군요.\n"
          ],
          "name": "stdout"
        }
      ]
    },
    {
      "cell_type": "markdown",
      "metadata": {
        "id": "8x-lMBbUrfXT"
      },
      "source": [
        "이런 식으로   except : 이렇게 써 놓으면 모든 예외가 다 갈려든다.   \n",
        "또한 pass 라고 써 놓으면 아무 일도 하지 않는 except 영역 말든러짐"
      ]
    }
  ]
}