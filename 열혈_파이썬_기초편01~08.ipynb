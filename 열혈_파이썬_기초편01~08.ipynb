{
  "nbformat": 4,
  "nbformat_minor": 0,
  "metadata": {
    "colab": {
      "name": "열혈 파이썬 기초편01~08.ipynb",
      "provenance": [],
      "collapsed_sections": [],
      "authorship_tag": "ABX9TyNoHEFtkjOZiCvUZE+jGHQw",
      "include_colab_link": true
    },
    "kernelspec": {
      "name": "python3",
      "display_name": "Python 3"
    }
  },
  "cells": [
    {
      "cell_type": "markdown",
      "metadata": {
        "id": "view-in-github",
        "colab_type": "text"
      },
      "source": [
        "<a href=\"https://colab.research.google.com/github/sera0911/python_basic/blob/main/%EC%97%B4%ED%98%88_%ED%8C%8C%EC%9D%B4%EC%8D%AC_%EA%B8%B0%EC%B4%88%ED%8E%B801~08.ipynb\" target=\"_parent\"><img src=\"https://colab.research.google.com/assets/colab-badge.svg\" alt=\"Open In Colab\"/></a>"
      ]
    },
    {
      "cell_type": "code",
      "metadata": {
        "colab": {
          "base_uri": "https://localhost:8080/"
        },
        "id": "qFqgE9WQyzIe",
        "outputId": "99c03598-d789-49a6-88fa-f3e218b599d8"
      },
      "source": [
        "33+55"
      ],
      "execution_count": null,
      "outputs": [
        {
          "output_type": "execute_result",
          "data": {
            "text/plain": [
              "88"
            ]
          },
          "metadata": {
            "tags": []
          },
          "execution_count": 1
        }
      ]
    },
    {
      "cell_type": "code",
      "metadata": {
        "colab": {
          "base_uri": "https://localhost:8080/"
        },
        "id": "PGO3-ejx0Ovv",
        "outputId": "d4baeb59-698e-4a1c-9643-21e724d92e5e"
      },
      "source": [
        "7 * 5 /2"
      ],
      "execution_count": null,
      "outputs": [
        {
          "output_type": "execute_result",
          "data": {
            "text/plain": [
              "17.5"
            ]
          },
          "metadata": {
            "tags": []
          },
          "execution_count": 4
        }
      ]
    },
    {
      "cell_type": "code",
      "metadata": {
        "colab": {
          "base_uri": "https://localhost:8080/"
        },
        "id": "jH9ODCuQ0bmx",
        "outputId": "10719fd4-2f14-4e4c-9167-5b88273008c6"
      },
      "source": [
        "9 * (5 - 7) / 3"
      ],
      "execution_count": null,
      "outputs": [
        {
          "output_type": "execute_result",
          "data": {
            "text/plain": [
              "-6.0"
            ]
          },
          "metadata": {
            "tags": []
          },
          "execution_count": 5
        }
      ]
    },
    {
      "cell_type": "code",
      "metadata": {
        "colab": {
          "base_uri": "https://localhost:8080/"
        },
        "id": "EuUi0Hhp0gV8",
        "outputId": "ff3f7463-bf34-40da-8dd8-96e4c52670e9"
      },
      "source": [
        "print(\"Hello world!\")"
      ],
      "execution_count": null,
      "outputs": [
        {
          "output_type": "stream",
          "text": [
            "Hello world!\n"
          ],
          "name": "stdout"
        }
      ]
    },
    {
      "cell_type": "code",
      "metadata": {
        "colab": {
          "base_uri": "https://localhost:8080/"
        },
        "id": "gL9TMFwS0v3s",
        "outputId": "87c93b54-7ae8-4bb4-b3b0-6cfa332ac7df"
      },
      "source": [
        "num = 0\r\n",
        "Num = 10\r\n",
        "print(num, Num) #변수 num, Num을 나란히 출력"
      ],
      "execution_count": null,
      "outputs": [
        {
          "output_type": "stream",
          "text": [
            "0 10\n"
          ],
          "name": "stdout"
        }
      ]
    },
    {
      "cell_type": "code",
      "metadata": {
        "colab": {
          "base_uri": "https://localhost:8080/",
          "height": 134
        },
        "id": "FRCSGsFIHSaA",
        "outputId": "6195be48-db3e-40bc-970e-55f9bbc76412"
      },
      "source": [
        "return = 2"
      ],
      "execution_count": null,
      "outputs": [
        {
          "output_type": "error",
          "ename": "SyntaxError",
          "evalue": "ignored",
          "traceback": [
            "\u001b[0;36m  File \u001b[0;32m\"<ipython-input-8-f0968a409a78>\"\u001b[0;36m, line \u001b[0;32m1\u001b[0m\n\u001b[0;31m    return = 2\u001b[0m\n\u001b[0m           ^\u001b[0m\n\u001b[0;31mSyntaxError\u001b[0m\u001b[0;31m:\u001b[0m invalid syntax\n"
          ]
        }
      ]
    },
    {
      "cell_type": "markdown",
      "metadata": {
        "id": "POB7kmqzHfBK"
      },
      "source": [
        "-def, return 등 용도가 정해진 단어를 키워드라고 하는데 이러한 키워드로 변수나 함수의 이름을 짓는 것도 불가능하다\r\n",
        "- 변수와 함수의 이름은 소문자로 시작한다\r\n",
        "-둘 이상의 단어를 연결하는 경우 언더바 _ 를 이용해서 연결한다 (두 단어를 그냥 연결하는 것도 피하기)"
      ]
    },
    {
      "cell_type": "code",
      "metadata": {
        "colab": {
          "base_uri": "https://localhost:8080/"
        },
        "id": "0RvCpMIuIQ6A",
        "outputId": "7b300379-d870-4444-8e00-b191b1e5e6f5"
      },
      "source": [
        "def adder(num1, num2):\r\n",
        "  return num1 + num2\r\n",
        "\r\n",
        "def main():\r\n",
        "  print(adder(5,3))\r\n",
        "\r\n",
        "main()"
      ],
      "execution_count": null,
      "outputs": [
        {
          "output_type": "stream",
          "text": [
            "8\n"
          ],
          "name": "stdout"
        }
      ]
    },
    {
      "cell_type": "markdown",
      "metadata": {
        "id": "kzpYym3nJXUe"
      },
      "source": [
        "프로그램의 실행 흐름을 담은 main이라는 이름의 함수를 별도로 정의하고 있다    \r\n",
        "왜? 훨씬 정돈되고 관리하기 편해서"
      ]
    },
    {
      "cell_type": "code",
      "metadata": {
        "colab": {
          "base_uri": "https://localhost:8080/"
        },
        "id": "DGRmUbhCJxY_",
        "outputId": "4750c2e7-0b3f-498e-d850-72dbe80f5fba"
      },
      "source": [
        "def add(num1, num2):\r\n",
        "  return num1+num2\r\n",
        "def min(num1,num2):\r\n",
        "  return num1 - num2\r\n",
        "def mul(num1, num2):\r\n",
        "  return num1*num2\r\n",
        "def div(num1, num2):\r\n",
        "  return num1 /num2\r\n",
        "\r\n",
        "def main():\r\n",
        "  print(add(5, 3))\r\n",
        "  print(min(5, 3))\r\n",
        "  print(mul(5, 3))\r\n",
        "  print(div(5, 3))\r\n",
        "\r\n",
        "main()"
      ],
      "execution_count": null,
      "outputs": [
        {
          "output_type": "stream",
          "text": [
            "8\n",
            "2\n",
            "15\n",
            "1.6666666666666667\n"
          ],
          "name": "stdout"
        }
      ]
    },
    {
      "cell_type": "code",
      "metadata": {
        "colab": {
          "base_uri": "https://localhost:8080/"
        },
        "id": "Gbyqggn0KZQT",
        "outputId": "818c3edf-7aa4-4258-8363-b5cb80a02d0d"
      },
      "source": [
        "str = input(\"How old are you:\")  #input 함수의 호출\r\n",
        "print(str)"
      ],
      "execution_count": null,
      "outputs": [
        {
          "output_type": "stream",
          "text": [
            "How old are you:12 years old\n",
            "12 years old\n"
          ],
          "name": "stdout"
        }
      ]
    },
    {
      "cell_type": "markdown",
      "metadata": {
        "id": "NEcYiNnfLgQs"
      },
      "source": [
        "input 함수가 호출되면 사용자가 무엇을 입력할 때까지 기다리게 됨 이상태에선 답을 입력 후 엔터를 눌러야 함. 그러면 입력내용을 input 함수가 반환함    \r\n",
        "주의점은 입력 내용이 하나의 문자열로 묶여서 반환된다는 점 그래서 input으로 반환된 내용이 산술계산이 안된다\r\n"
      ]
    },
    {
      "cell_type": "code",
      "metadata": {
        "colab": {
          "base_uri": "https://localhost:8080/",
          "height": 70
        },
        "id": "zXt9HfdcMFQS",
        "outputId": "aaba7af8-418a-4456-d10c-8540ab71ef9e"
      },
      "source": [
        "# 연습문제 03-1\r\n",
        "str= input()\r\n",
        "abc= input()\r\n",
        "str + abc"
      ],
      "execution_count": null,
      "outputs": [
        {
          "output_type": "stream",
          "text": [
            "12\n",
            "34\n"
          ],
          "name": "stdout"
        },
        {
          "output_type": "execute_result",
          "data": {
            "application/vnd.google.colaboratory.intrinsic+json": {
              "type": "string"
            },
            "text/plain": [
              "'1234'"
            ]
          },
          "metadata": {
            "tags": []
          },
          "execution_count": 18
        }
      ]
    },
    {
      "cell_type": "code",
      "metadata": {
        "colab": {
          "base_uri": "https://localhost:8080/"
        },
        "id": "iFQbr8AHM5av",
        "outputId": "5b240736-30ca-4899-ccbb-f005070ea9dd"
      },
      "source": [
        "#3-2 입력받은 내용을 숫자로 바꾸러면\r\n",
        "year = input('This year:')\r\n",
        "year = eval(year)  #year에 저장내용을 산순 연산이 가능한 '수'로 바꿈\r\n",
        "year = year+1\r\n",
        "print('Next year:', year)"
      ],
      "execution_count": null,
      "outputs": [
        {
          "output_type": "stream",
          "text": [
            "This year:2020\n",
            "Next year: 2021\n"
          ],
          "name": "stdout"
        }
      ]
    },
    {
      "cell_type": "markdown",
      "metadata": {
        "id": "YOyChjqEOmeE"
      },
      "source": [
        "input을 이용한 값은 문자열이니까  eval 함수를 이용해 숫자로 바꾸어주는 것"
      ]
    },
    {
      "cell_type": "code",
      "metadata": {
        "colab": {
          "base_uri": "https://localhost:8080/"
        },
        "id": "Pf2qKVsYOgLS",
        "outputId": "f738eaab-9541-4284-e11c-536cb62852f5"
      },
      "source": [
        "rad = eval(input('radius:'))\r\n",
        "area = rad * rad * 3.14  #원의 넓이 계산 공식 적용 문장\r\n",
        "print(area)"
      ],
      "execution_count": null,
      "outputs": [
        {
          "output_type": "stream",
          "text": [
            "radius:2.5\n",
            "19.625\n"
          ],
          "name": "stdout"
        }
      ]
    },
    {
      "cell_type": "code",
      "metadata": {
        "colab": {
          "base_uri": "https://localhost:8080/"
        },
        "id": "fPKRQlxPPHSV",
        "outputId": "352909b0-b164-459f-aaa8-d8fbf7d6bb54"
      },
      "source": [
        "#연습문제 03-2\r\n",
        "a = eval(input())\r\n",
        "b = eval(input())\r\n",
        "a+b\r\n"
      ],
      "execution_count": null,
      "outputs": [
        {
          "output_type": "stream",
          "text": [
            "1.24\n",
            "3.12\n"
          ],
          "name": "stdout"
        },
        {
          "output_type": "execute_result",
          "data": {
            "text/plain": [
              "4.36"
            ]
          },
          "metadata": {
            "tags": []
          },
          "execution_count": 22
        }
      ]
    },
    {
      "cell_type": "code",
      "metadata": {
        "colab": {
          "base_uri": "https://localhost:8080/"
        },
        "id": "Cq50BePgPg73",
        "outputId": "a83a6cc7-a4f1-4b37-a5ed-5bb392e5da4e"
      },
      "source": [
        "#연습문제 03-2\r\n",
        "a = eval(input('첫 번째 입력:'))\r\n",
        "b = eval(input('두 번째 입력:'))\r\n",
        "print('두 입력의 합:', a+b)"
      ],
      "execution_count": null,
      "outputs": [
        {
          "output_type": "stream",
          "text": [
            "첫 번째 입력:1.24\n",
            "두 번째 입력:3.12\n",
            "두 입력의 합: 4.36\n"
          ],
          "name": "stdout"
        }
      ]
    },
    {
      "cell_type": "code",
      "metadata": {
        "colab": {
          "base_uri": "https://localhost:8080/"
        },
        "id": "wmACICtVQAo0",
        "outputId": "cc74f039-803d-41d8-b283-e462bbc93a24"
      },
      "source": [
        "#3-3 강력한 그러나 위험할 수 있는 eval 함수\r\n",
        "result = eval(input('뭐든 넣어요:'))\r\n",
        "print(result)"
      ],
      "execution_count": null,
      "outputs": [
        {
          "output_type": "stream",
          "text": [
            "뭐든 넣어요:2-4*5+3\n",
            "-15\n"
          ],
          "name": "stdout"
        }
      ]
    },
    {
      "cell_type": "markdown",
      "metadata": {
        "id": "wXRc19JnQugP"
      },
      "source": [
        "eval 함수를 통해 input으로 2-4*5+3 이란 문자열을 넣었더니 숫자 변환뿐 아니라 수식까지 다 계산하고 결과만 반영함\r\n",
        "\r\n",
        "*누군가 이 eval함수를 호출한 문장을 이용하면 시키지도 않은 일이 실행되어 보안이 취약해지기 때문에 eval 는 사용하지 않는 편이 좋다"
      ]
    },
    {
      "cell_type": "code",
      "metadata": {
        "colab": {
          "base_uri": "https://localhost:8080/"
        },
        "id": "t2WXIDxVQgGW",
        "outputId": "21eee008-aadc-4f76-b878-9ad0e45f2915"
      },
      "source": [
        "def ret():    #ret 이라는 이름의 함수 정의. 단순히 12를 반환하는 함수\r\n",
        "  return 12\r\n",
        "\r\n",
        "result = eval(input('뭐든 넣어요:'))\r\n",
        "print(result)"
      ],
      "execution_count": null,
      "outputs": [
        {
          "output_type": "stream",
          "text": [
            "뭐든 넣어요:ret()\n",
            "12\n"
          ],
          "name": "stdout"
        }
      ]
    },
    {
      "cell_type": "markdown",
      "metadata": {
        "id": "RaXR1PozR3uu"
      },
      "source": [
        "사용자가 ret함수 호출을 명령하지 않았음에도 불구하고 ret 함수가 호출됨.  > eval가 혼자 분석해서 ret 함수를 보출한 것"
      ]
    },
    {
      "cell_type": "code",
      "metadata": {
        "colab": {
          "base_uri": "https://localhost:8080/"
        },
        "id": "JUyUJMevRoyL",
        "outputId": "f03de84a-66d0-40a3-a93f-29b873a096ec"
      },
      "source": [
        "#3-4 정해진 횟수만큼 반복해서 실행시키기\r\n",
        "for i in [0, 1, 2]:\r\n",
        "  print(i)\r\n",
        "  print('hi~')\r\n"
      ],
      "execution_count": null,
      "outputs": [
        {
          "output_type": "stream",
          "text": [
            "0\n",
            "hi~\n",
            "1\n",
            "hi~\n",
            "2\n",
            "hi~\n"
          ],
          "name": "stdout"
        }
      ]
    },
    {
      "cell_type": "markdown",
      "metadata": {
        "id": "iKFzKNTxTS7F"
      },
      "source": [
        "여기서 i 는 변수 []리스트 안의 내용은 반복 횟수 정보 print는 for 루프에 속하는 문장들"
      ]
    },
    {
      "cell_type": "code",
      "metadata": {
        "colab": {
          "base_uri": "https://localhost:8080/"
        },
        "id": "XHCMk4XPTImg",
        "outputId": "c325d7cb-c2d5-4385-af92-7f5ba0640a65"
      },
      "source": [
        "for i  in[1, 3, 5]:\r\n",
        "  print(i)\r\n",
        "  print('Hello~')"
      ],
      "execution_count": null,
      "outputs": [
        {
          "output_type": "stream",
          "text": [
            "1\n",
            "Hello~\n",
            "3\n",
            "Hello~\n",
            "5\n",
            "Hello~\n"
          ],
          "name": "stdout"
        }
      ]
    },
    {
      "cell_type": "code",
      "metadata": {
        "colab": {
          "base_uri": "https://localhost:8080/"
        },
        "id": "T4e9Nv-rPdNh",
        "outputId": "051ef09c-b081-4486-953b-ac733f318d5f"
      },
      "source": [
        "sum = 0\r\n",
        "for i in[1,2,3,4,5,6,7,8,9,10]:\r\n",
        "  sum = sum+i  #sum의 값을 i 만큼 증가시키는 문장\r\n",
        "\r\n",
        "print(sum)"
      ],
      "execution_count": null,
      "outputs": [
        {
          "output_type": "stream",
          "text": [
            "55\n"
          ],
          "name": "stdout"
        }
      ]
    },
    {
      "cell_type": "code",
      "metadata": {
        "colab": {
          "base_uri": "https://localhost:8080/"
        },
        "id": "Fh9uzV-hMz2M",
        "outputId": "1f5ed0b1-1da0-4ea7-e5dc-03fb1f3f56a6"
      },
      "source": [
        "#연습문제 03-3 1번\r\n",
        "sum = 0\r\n",
        "for i in[1,3,5,7,9]:\r\n",
        "  sum =sum + i\r\n",
        "print(sum)"
      ],
      "execution_count": null,
      "outputs": [
        {
          "output_type": "stream",
          "text": [
            "25\n"
          ],
          "name": "stdout"
        }
      ]
    },
    {
      "cell_type": "code",
      "metadata": {
        "colab": {
          "base_uri": "https://localhost:8080/"
        },
        "id": "-mPWZc4hMrup",
        "outputId": "f4065c45-ebbb-488f-b2fb-8c9eff67664e"
      },
      "source": [
        "#연습문제 03-3 2번\r\n",
        "x = 1\r\n",
        "for i in[1,2,3,4,5,6,7,8,9,10]:\r\n",
        "  x = x * i\r\n",
        "print(x)"
      ],
      "execution_count": null,
      "outputs": [
        {
          "output_type": "stream",
          "text": [
            "3628800\n"
          ],
          "name": "stdout"
        }
      ]
    },
    {
      "cell_type": "code",
      "metadata": {
        "colab": {
          "base_uri": "https://localhost:8080/"
        },
        "id": "JTMNv6AcVhNF",
        "outputId": "7f6b5016-268e-40da-c189-dfc61304943c"
      },
      "source": [
        "#연습문제 03-3 3번\r\n",
        "for i in[1,2,3,4,5,6,7,8,9]:\r\n",
        "  print(i*7)"
      ],
      "execution_count": null,
      "outputs": [
        {
          "output_type": "stream",
          "text": [
            "7\n",
            "14\n",
            "21\n",
            "28\n",
            "35\n",
            "42\n",
            "49\n",
            "56\n",
            "63\n"
          ],
          "name": "stdout"
        }
      ]
    },
    {
      "cell_type": "code",
      "metadata": {
        "colab": {
          "base_uri": "https://localhost:8080/"
        },
        "id": "Epa6YjhmWgsD",
        "outputId": "9b793686-cf35-4f05-e8a4-2e675d011d78"
      },
      "source": [
        "#연습문제 03-3 3번답안지\r\n",
        "for i in[1,2,3,4,5,6,7,8,9,]:\r\n",
        "  print('7x',i,'=',7*i)"
      ],
      "execution_count": null,
      "outputs": [
        {
          "output_type": "stream",
          "text": [
            "7x 1 = 7\n",
            "7x 2 = 14\n",
            "7x 3 = 21\n",
            "7x 4 = 28\n",
            "7x 5 = 35\n",
            "7x 6 = 42\n",
            "7x 7 = 49\n",
            "7x 8 = 56\n",
            "7x 9 = 63\n"
          ],
          "name": "stdout"
        }
      ]
    },
    {
      "cell_type": "code",
      "metadata": {
        "colab": {
          "base_uri": "https://localhost:8080/"
        },
        "id": "BOuiWKZsV3hS",
        "outputId": "8466dc63-b1cc-47b3-a084-a5d1a56feae5"
      },
      "source": [
        "#연습문제 03-3 4번\r\n",
        "for i in[9,8,7,6,5,4,3,2,1]:\r\n",
        "  print(i*7)"
      ],
      "execution_count": null,
      "outputs": [
        {
          "output_type": "stream",
          "text": [
            "63\n",
            "56\n",
            "49\n",
            "42\n",
            "35\n",
            "28\n",
            "21\n",
            "14\n",
            "7\n"
          ],
          "name": "stdout"
        }
      ]
    },
    {
      "cell_type": "code",
      "metadata": {
        "colab": {
          "base_uri": "https://localhost:8080/"
        },
        "id": "vwpIjvovWJCK",
        "outputId": "dc96a5af-662f-4f93-b563-dd0f64b00c78"
      },
      "source": [
        "#연습문제 03-3 4번 답안지\r\n",
        "for i in[9,8,7,6,5,4,3,2,1]:\r\n",
        "  print('7x', i, '=',7*i)"
      ],
      "execution_count": null,
      "outputs": [
        {
          "output_type": "stream",
          "text": [
            "7x 9 = 63\n",
            "7x 8 = 56\n",
            "7x 7 = 49\n",
            "7x 6 = 42\n",
            "7x 5 = 35\n",
            "7x 4 = 28\n",
            "7x 3 = 21\n",
            "7x 2 = 14\n",
            "7x 1 = 7\n"
          ],
          "name": "stdout"
        }
      ]
    },
    {
      "cell_type": "code",
      "metadata": {
        "colab": {
          "base_uri": "https://localhost:8080/"
        },
        "id": "Jy8BGdQEV0Ek",
        "outputId": "a1050687-f4b7-40ad-c3df-f0707b12693b"
      },
      "source": [
        "#3-5 for..in..과 range의 조합\r\n",
        "sum = 0\r\n",
        "for i in range(1,11):\r\n",
        "  sum = sum+ i\r\n",
        "print(sum)"
      ],
      "execution_count": null,
      "outputs": [
        {
          "output_type": "stream",
          "text": [
            "55\n"
          ],
          "name": "stdout"
        }
      ]
    },
    {
      "cell_type": "markdown",
      "metadata": {
        "id": "Z0rcyBPUXaYR"
      },
      "source": [
        "range => 변수 i에 1부터 11이전의 값을 넣어서 반복하라는 뜻"
      ]
    },
    {
      "cell_type": "code",
      "metadata": {
        "colab": {
          "base_uri": "https://localhost:8080/"
        },
        "id": "PXKa-6x9Xhnc",
        "outputId": "f5374a19-8f1a-40b7-fd3a-5bbc328e204e"
      },
      "source": [
        "sum = 0\r\n",
        "for i in range(1,101):\r\n",
        "  sum = sum +i\r\n",
        "print(sum)"
      ],
      "execution_count": null,
      "outputs": [
        {
          "output_type": "stream",
          "text": [
            "5050\n"
          ],
          "name": "stdout"
        }
      ]
    },
    {
      "cell_type": "code",
      "metadata": {
        "colab": {
          "base_uri": "https://localhost:8080/"
        },
        "id": "YU3eUf01Xw6T",
        "outputId": "ec1b0a80-cd09-4d21-ef60-e7367a483a0b"
      },
      "source": [
        "for i in range(0,3):\r\n",
        "  print('Happy')"
      ],
      "execution_count": null,
      "outputs": [
        {
          "output_type": "stream",
          "text": [
            "Happy\n",
            "Happy\n",
            "Happy\n"
          ],
          "name": "stdout"
        }
      ]
    },
    {
      "cell_type": "markdown",
      "metadata": {
        "id": "W6cGGK_9YDiZ"
      },
      "source": [
        "range를 쓸 때 0부터 시작하는 게 좋음 > 0부터 시작해야 끝나는 횟수 확인이 가능\r\n",
        "그리고 0 생략가능 \r\n",
        "range(0,3) = range(3) 과 같음\r\n"
      ]
    },
    {
      "cell_type": "code",
      "metadata": {
        "colab": {
          "base_uri": "https://localhost:8080/"
        },
        "id": "TfUHD0l4YAx-",
        "outputId": "1a1295e6-0c2c-4a98-a48e-543adca61081"
      },
      "source": [
        "for i in range(3):\r\n",
        "  print('Happy')"
      ],
      "execution_count": null,
      "outputs": [
        {
          "output_type": "stream",
          "text": [
            "Happy\n",
            "Happy\n",
            "Happy\n"
          ],
          "name": "stdout"
        }
      ]
    },
    {
      "cell_type": "code",
      "metadata": {
        "colab": {
          "base_uri": "https://localhost:8080/"
        },
        "id": "aaNMnanOYfO9",
        "outputId": "1f69ff2b-c66a-4174-f6fe-a1d5935056a1"
      },
      "source": [
        "cnt = 2\r\n",
        "for i in range(cnt):  #cnt만큼 반복\r\n",
        "  print('I love coffee')"
      ],
      "execution_count": null,
      "outputs": [
        {
          "output_type": "stream",
          "text": [
            "I love coffee\n",
            "I love coffee\n"
          ],
          "name": "stdout"
        }
      ]
    },
    {
      "cell_type": "markdown",
      "metadata": {
        "id": "Tx1Yo_QtY9Bx"
      },
      "source": [
        "range에 변수를 넣는것도 가능"
      ]
    },
    {
      "cell_type": "code",
      "metadata": {
        "colab": {
          "base_uri": "https://localhost:8080/"
        },
        "id": "guzVjMONY5YG",
        "outputId": "51e995bb-108e-4f3d-b6e2-dc936ea86fa4"
      },
      "source": [
        "#연습문제 03-4 1번문제\r\n",
        "for i in range(0,5):\r\n",
        "  print('안녕하세요.')"
      ],
      "execution_count": null,
      "outputs": [
        {
          "output_type": "stream",
          "text": [
            "안녕하세요.\n",
            "안녕하세요.\n",
            "안녕하세요.\n",
            "안녕하세요.\n",
            "안녕하세요.\n"
          ],
          "name": "stdout"
        }
      ]
    },
    {
      "cell_type": "code",
      "metadata": {
        "colab": {
          "base_uri": "https://localhost:8080/"
        },
        "id": "8mSgHfv2ZcB_",
        "outputId": "531e5e3b-0652-410a-e854-08367c2b20c8"
      },
      "source": [
        "#연습문제 03-4 2번문제\r\n",
        "i = 1\r\n",
        "for i in range(1,10):\r\n",
        "  print(i*7)"
      ],
      "execution_count": null,
      "outputs": [
        {
          "output_type": "stream",
          "text": [
            "7\n",
            "14\n",
            "21\n",
            "28\n",
            "35\n",
            "42\n",
            "49\n",
            "56\n",
            "63\n"
          ],
          "name": "stdout"
        }
      ]
    },
    {
      "cell_type": "code",
      "metadata": {
        "colab": {
          "base_uri": "https://localhost:8080/"
        },
        "id": "FtIcAAPlZlqn",
        "outputId": "736b4510-92a3-4bb8-adef-b8b421c29e65"
      },
      "source": [
        "#연습문제 03-4 3번문제\r\n",
        "def exp(x,y):\r\n",
        "  rlt = 1\r\n",
        "  for i in range(y):\r\n",
        "    rlt = rlt*x\r\n",
        "  return rlt\r\n",
        "\r\n",
        "exp(4, 2)"
      ],
      "execution_count": null,
      "outputs": [
        {
          "output_type": "execute_result",
          "data": {
            "text/plain": [
              "16"
            ]
          },
          "metadata": {
            "tags": []
          },
          "execution_count": 1
        }
      ]
    },
    {
      "cell_type": "code",
      "metadata": {
        "colab": {
          "base_uri": "https://localhost:8080/"
        },
        "id": "epBCAAN0X_8R",
        "outputId": "98400308-c7d8-4a79-fc47-5a55d30edf4f"
      },
      "source": [
        "#연습문제 03-4 4번문제\r\n",
        "def greet():\r\n",
        "  num = eval(input(\"인사를 몇 번 할까요?\"))\r\n",
        "  for i in range(num):\r\n",
        "    print(\"반갑습니다\")\r\n",
        "\r\n",
        "greet()"
      ],
      "execution_count": null,
      "outputs": [
        {
          "output_type": "stream",
          "text": [
            "인사를 몇 번 할까요?4\n",
            "반갑습니다\n",
            "반갑습니다\n",
            "반갑습니다\n",
            "반갑습니다\n"
          ],
          "name": "stdout"
        }
      ]
    },
    {
      "cell_type": "code",
      "metadata": {
        "id": "m45hbmk2bOzM"
      },
      "source": [
        "#4-1 정수의 표현과 실수의 표현\r\n",
        "data1 = 2          #정수 2를 변수 data1에 저장\r\n",
        "data2 = 2.4        #실수 2.4를 변수 data2에 저장"
      ],
      "execution_count": null,
      "outputs": []
    },
    {
      "cell_type": "code",
      "metadata": {
        "colab": {
          "base_uri": "https://localhost:8080/"
        },
        "id": "aWbfoMWO2xep",
        "outputId": "f8a3f89e-0436-4797-f9cb-e01bb3f55ff9"
      },
      "source": [
        "num = 2\r\n",
        "print(num)"
      ],
      "execution_count": null,
      "outputs": [
        {
          "output_type": "stream",
          "text": [
            "2\n"
          ],
          "name": "stdout"
        }
      ]
    },
    {
      "cell_type": "code",
      "metadata": {
        "colab": {
          "base_uri": "https://localhost:8080/"
        },
        "id": "vg4dW7Wh21LB",
        "outputId": "e30d0c6c-31da-43f8-9c6f-035e5432df1d"
      },
      "source": [
        "num = 1.000000000000001\r\n",
        "print(num)"
      ],
      "execution_count": null,
      "outputs": [
        {
          "output_type": "stream",
          "text": [
            "1.000000000000001\n"
          ],
          "name": "stdout"
        }
      ]
    },
    {
      "cell_type": "code",
      "metadata": {
        "colab": {
          "base_uri": "https://localhost:8080/"
        },
        "id": "UvEE1CMV3D8O",
        "outputId": "b10f1120-4e13-49fc-cd46-775cd3c1a48c"
      },
      "source": [
        "num1 = 1.0000000000000001\r\n",
        "num2 = 1.1\r\n",
        "print(num1 + num2)"
      ],
      "execution_count": null,
      "outputs": [
        {
          "output_type": "stream",
          "text": [
            "2.1\n"
          ],
          "name": "stdout"
        }
      ]
    },
    {
      "cell_type": "markdown",
      "metadata": {
        "id": "wpK18v2Z3Tj0"
      },
      "source": [
        "파이썬이 정수를 표현&저장하는 방법과 실수를 표현&저장하는 방법은 다르다    \r\n",
        "파이썬은 정수를 아주 정확히 표현하고 저장가능하다    \r\n",
        "파이썬은 실수를 오차 없이 표현하고 저장하지 못한다. 실수에는 약간의 오차가 있다(다른 코딩도 동일, 실수의 특성때문 1.1과 1.2 사이에는 무수한 실수가 있기 때문에)"
      ]
    },
    {
      "cell_type": "code",
      "metadata": {
        "id": "bLgvYElU3sko"
      },
      "source": [
        "#4-2 int형과 float형을 대상으로 하는 기본적인 산술 연산 \r\n",
        "type(3)\r\n",
        "<class 'int'>\r\n",
        ">>> type(3.1)\r\n",
        "<class 'float'>\r\n",
        ">>> type(3.0)\r\n",
        "<class 'float'>"
      ],
      "execution_count": null,
      "outputs": []
    },
    {
      "cell_type": "markdown",
      "metadata": {
        "id": "pRjptxoW4gxD"
      },
      "source": [
        "+ 덧셈 - 뺄셈 * 곱셈 ** 거듭제곱 / 실수형 나눗셈 // 정수형 나눗셈 % 나머지가 얼마인가   \r\n",
        "// = 나눗셈의 몫을 계산 \r\n",
        "% = 나눗셈의 나머지 계산"
      ]
    },
    {
      "cell_type": "code",
      "metadata": {
        "colab": {
          "base_uri": "https://localhost:8080/"
        },
        "id": "6a8R22h941ZV",
        "outputId": "7f6913e7-cdd8-46a7-a0c6-63decaa0232d"
      },
      "source": [
        "3**2  #9\r\n",
        "5/2   #2.5\r\n",
        "5//2  #2 나눗셈의 몫을 계산\r\n",
        "5%2   #1 나눗셈의 나머지 계산"
      ],
      "execution_count": null,
      "outputs": [
        {
          "output_type": "execute_result",
          "data": {
            "text/plain": [
              "9"
            ]
          },
          "metadata": {
            "tags": []
          },
          "execution_count": 17
        }
      ]
    },
    {
      "cell_type": "code",
      "metadata": {
        "colab": {
          "base_uri": "https://localhost:8080/"
        },
        "id": "pYTWccfY5LZK",
        "outputId": "1f8ce051-c7ae-444e-a214-bcd1cc28b049"
      },
      "source": [
        "#4-3 int형으로 변환, float형으로 변환\r\n",
        "num = 10\r\n",
        "num = float(num)  #num의 값을 float형으로 \r\n",
        "type(num)"
      ],
      "execution_count": null,
      "outputs": [
        {
          "output_type": "execute_result",
          "data": {
            "text/plain": [
              "float"
            ]
          },
          "metadata": {
            "tags": []
          },
          "execution_count": 18
        }
      ]
    },
    {
      "cell_type": "code",
      "metadata": {
        "colab": {
          "base_uri": "https://localhost:8080/"
        },
        "id": "lE32WOkl6IOT",
        "outputId": "673e4f98-1703-4995-e808-bf83cdb69be7"
      },
      "source": [
        "num = float(\"3.14\")\r\n",
        "type(num)"
      ],
      "execution_count": null,
      "outputs": [
        {
          "output_type": "execute_result",
          "data": {
            "text/plain": [
              "float"
            ]
          },
          "metadata": {
            "tags": []
          },
          "execution_count": 19
        }
      ]
    },
    {
      "cell_type": "markdown",
      "metadata": {
        "id": "SC4m3JeS6OCB"
      },
      "source": [
        "문자열도 float형으로 변경가능"
      ]
    },
    {
      "cell_type": "code",
      "metadata": {
        "colab": {
          "base_uri": "https://localhost:8080/"
        },
        "id": "Sorq-X1T6RWY",
        "outputId": "d78ee69a-0d62-45f2-8146-1f0523e842b0"
      },
      "source": [
        "height = eval(input(\"키 정보 입력:\"))\r\n",
        "print(height)"
      ],
      "execution_count": null,
      "outputs": [
        {
          "output_type": "stream",
          "text": [
            "키 정보 입력:178.7\n",
            "178.7\n"
          ],
          "name": "stdout"
        }
      ]
    },
    {
      "cell_type": "code",
      "metadata": {
        "colab": {
          "base_uri": "https://localhost:8080/"
        },
        "id": "IwwF-Zpo6g4k",
        "outputId": "be4f1e58-6e82-40a4-cd77-ace60322daa1"
      },
      "source": [
        "height = float(input(\"키 정보 입력:\"))\r\n",
        "print(height)"
      ],
      "execution_count": null,
      "outputs": [
        {
          "output_type": "stream",
          "text": [
            "키 정보 입력:165.3\n",
            "165.3\n"
          ],
          "name": "stdout"
        }
      ]
    },
    {
      "cell_type": "markdown",
      "metadata": {
        "id": "oKYdi_BR6ucd"
      },
      "source": [
        "eval 함수 대신 float 함수로 변경 가능함"
      ]
    },
    {
      "cell_type": "code",
      "metadata": {
        "colab": {
          "base_uri": "https://localhost:8080/"
        },
        "id": "bhQI5_LI67Wx",
        "outputId": "065fa5fd-5ab7-44c9-f158-773b971a356c"
      },
      "source": [
        "num = int(3.14)\r\n",
        "print(num)"
      ],
      "execution_count": null,
      "outputs": [
        {
          "output_type": "stream",
          "text": [
            "3\n"
          ],
          "name": "stdout"
        }
      ]
    },
    {
      "cell_type": "markdown",
      "metadata": {
        "id": "Dellz-cC7Df-"
      },
      "source": [
        "int형인 정수로 변환하라 해서 3으로 변환됨"
      ]
    },
    {
      "cell_type": "code",
      "metadata": {
        "colab": {
          "base_uri": "https://localhost:8080/"
        },
        "id": "mGzsk7467H52",
        "outputId": "99f53748-2784-4461-bc54-8672a3fd4e15"
      },
      "source": [
        "height = eval(input(\"키 정보 cm 단위로 입력:\"))\r\n",
        "print(height)"
      ],
      "execution_count": null,
      "outputs": [
        {
          "output_type": "stream",
          "text": [
            "키 정보 cm 단위로 입력:178\n",
            "178\n"
          ],
          "name": "stdout"
        }
      ]
    },
    {
      "cell_type": "code",
      "metadata": {
        "colab": {
          "base_uri": "https://localhost:8080/"
        },
        "id": "BiEZ5WJk7UTD",
        "outputId": "0f644596-da70-49de-d51f-50d1a2fe1025"
      },
      "source": [
        "height = int(input(\"키 정보 cm 단위로 입력:\"))\r\n",
        "print(height)"
      ],
      "execution_count": null,
      "outputs": [
        {
          "output_type": "stream",
          "text": [
            "키 정보 cm 단위로 입력:178\n",
            "178\n"
          ],
          "name": "stdout"
        }
      ]
    },
    {
      "cell_type": "markdown",
      "metadata": {
        "id": "qPF2okdx7dOB"
      },
      "source": [
        "eval 함수 대신 int 함수로 변경 가능"
      ]
    },
    {
      "cell_type": "markdown",
      "metadata": {
        "id": "hwdVaRgo7m8I"
      },
      "source": [
        "eval 함수는 int 나 float의 구분없이 각 타입의 맞춰 반환하지만 위험도가 높아 제한적으로 사용해야한다"
      ]
    },
    {
      "cell_type": "code",
      "metadata": {
        "colab": {
          "base_uri": "https://localhost:8080/"
        },
        "id": "zr96pOx47mGF",
        "outputId": "b9b09694-acde-4456-8e13-7de6da988e1f"
      },
      "source": [
        "#4-4 복합 대입 연산자\r\n",
        "num = 10\r\n",
        "num = num + 1\r\n",
        "print(num)"
      ],
      "execution_count": null,
      "outputs": [
        {
          "output_type": "stream",
          "text": [
            "11\n"
          ],
          "name": "stdout"
        }
      ]
    },
    {
      "cell_type": "code",
      "metadata": {
        "colab": {
          "base_uri": "https://localhost:8080/"
        },
        "id": "t0POASke86fY",
        "outputId": "79935749-713f-4cb1-a09d-c7e5dd85730f"
      },
      "source": [
        "num = 10\r\n",
        "num += 1   #num = num + 1 같은 표현\r\n",
        "print(num)"
      ],
      "execution_count": null,
      "outputs": [
        {
          "output_type": "stream",
          "text": [
            "11\n"
          ],
          "name": "stdout"
        }
      ]
    },
    {
      "cell_type": "markdown",
      "metadata": {
        "id": "cBFOmP-B9GYS"
      },
      "source": [
        "num = num + 1   vs   num +=1   \r\n",
        "num = num - 1   vs   num -=1   \r\n",
        "num = num * 3   vs   num *=3 다 동일"
      ]
    },
    {
      "cell_type": "code",
      "metadata": {
        "colab": {
          "base_uri": "https://localhost:8080/"
        },
        "id": "Xb8v0RWO9YM4",
        "outputId": "9209cbdc-225f-44aa-da6c-b84801ae4ebd"
      },
      "source": [
        "#4-5 소괄호\r\n",
        "3+4/2      #5.0\r\n",
        "(3+4)/2    #3.5"
      ],
      "execution_count": null,
      "outputs": [
        {
          "output_type": "execute_result",
          "data": {
            "text/plain": [
              "3.5"
            ]
          },
          "metadata": {
            "tags": []
          },
          "execution_count": 29
        }
      ]
    },
    {
      "cell_type": "markdown",
      "metadata": {
        "id": "ESWBKIRe9mg9"
      },
      "source": [
        "소괄호를 먼저 연산"
      ]
    },
    {
      "cell_type": "code",
      "metadata": {
        "colab": {
          "base_uri": "https://localhost:8080/"
        },
        "id": "vRKDXV1-9pAy",
        "outputId": "12e74e20-fc13-45e6-970d-7d1da2623d87"
      },
      "source": [
        "#연습문제 04-1 원래 답\r\n",
        "def int_div(a,b):\r\n",
        "  print(\"몫:\", a//b)\r\n",
        "  print(\"나머지:\", a%b)\r\n",
        "(int_div(5,2))\r\n"
      ],
      "execution_count": null,
      "outputs": [
        {
          "output_type": "stream",
          "text": [
            "몫: 2\n",
            "나머지: 1\n"
          ],
          "name": "stdout"
        }
      ]
    },
    {
      "cell_type": "code",
      "metadata": {
        "colab": {
          "base_uri": "https://localhost:8080/"
        },
        "id": "iVEU_jHA_Pup",
        "outputId": "c0bd03f2-a448-4018-a329-4ac702da8ca6"
      },
      "source": [
        "#연습문제 04-1 세경이가 쓴 답\r\n",
        "def int_div(a,b):\r\n",
        "  return \"몫:\", a//b,\"나머지:\", a%b\r\n",
        "int_div(5,2)\r\n"
      ],
      "execution_count": null,
      "outputs": [
        {
          "output_type": "execute_result",
          "data": {
            "text/plain": [
              "('몫:', 2, '나머지:', 1)"
            ]
          },
          "metadata": {
            "tags": []
          },
          "execution_count": 36
        }
      ]
    },
    {
      "cell_type": "code",
      "metadata": {
        "colab": {
          "base_uri": "https://localhost:8080/"
        },
        "id": "TV_pmt4P_rWk",
        "outputId": "a79557cf-0a88-465e-b030-9240a207eb19"
      },
      "source": [
        "#연습문제 04-1 문제2\r\n",
        "def bet_sum(a,b):\r\n",
        "  sum = 0\r\n",
        "  for i in range(a+1, b):\r\n",
        "    sum += i\r\n",
        "  print(sum)\r\n",
        "\r\n",
        "bet_sum(2,5)"
      ],
      "execution_count": null,
      "outputs": [
        {
          "output_type": "stream",
          "text": [
            "7\n"
          ],
          "name": "stdout"
        }
      ]
    },
    {
      "cell_type": "code",
      "metadata": {
        "colab": {
          "base_uri": "https://localhost:8080/"
        },
        "id": "3MnrXYfrBxCs",
        "outputId": "96b93927-5f64-4c2f-fad9-c3c3102b79fc"
      },
      "source": [
        "#연습문제 04-1 문제2\r\n",
        "def bet_sum(a,b):\r\n",
        "  sum = 0\r\n",
        "  for i in range(a+1, b):\r\n",
        "    sum += i\r\n",
        "  print(sum)\r\n",
        "\r\n",
        "bet_sum(1,5)"
      ],
      "execution_count": null,
      "outputs": [
        {
          "output_type": "stream",
          "text": [
            "9\n"
          ],
          "name": "stdout"
        }
      ]
    },
    {
      "cell_type": "code",
      "metadata": {
        "colab": {
          "base_uri": "https://localhost:8080/"
        },
        "id": "phgoWgVICqDT",
        "outputId": "8993e146-9eda-487a-a92b-0327b5703e73"
      },
      "source": [
        "#5-1 함수의 복습과 확장\r\n",
        "for i in [1, 2, 3]:\r\n",
        "  print(i)"
      ],
      "execution_count": null,
      "outputs": [
        {
          "output_type": "stream",
          "text": [
            "1\n",
            "2\n",
            "3\n"
          ],
          "name": "stdout"
        }
      ]
    },
    {
      "cell_type": "code",
      "metadata": {
        "colab": {
          "base_uri": "https://localhost:8080/"
        },
        "id": "PA3314hJDfTX",
        "outputId": "d48fdcbb-b4a6-43d1-c69a-780d56d80b24"
      },
      "source": [
        "for i in [1, 2, 3]:\r\n",
        "  print(i, end= '_')"
      ],
      "execution_count": null,
      "outputs": [
        {
          "output_type": "stream",
          "text": [
            "1_2_3_"
          ],
          "name": "stdout"
        }
      ]
    },
    {
      "cell_type": "markdown",
      "metadata": {
        "id": "_druhTggDn80"
      },
      "source": [
        "end = '_' 의 의미는 출력을 마치고 나면 줄 바꾸는 것 대신 '_'을 출력해주세요 라는 뜻"
      ]
    },
    {
      "cell_type": "code",
      "metadata": {
        "colab": {
          "base_uri": "https://localhost:8080/"
        },
        "id": "StGNOboZDl8-",
        "outputId": "2f458012-024c-42ef-9f57-0ecf513d06f1"
      },
      "source": [
        "for i in [1, 2, 3]:\r\n",
        "  print(i, end= ' ')         #줄바꿈 대신 빈 공간을 넣어라"
      ],
      "execution_count": null,
      "outputs": [
        {
          "output_type": "stream",
          "text": [
            "1 2 3 "
          ],
          "name": "stdout"
        }
      ]
    },
    {
      "cell_type": "code",
      "metadata": {
        "id": "1hntW_8WD4s7"
      },
      "source": [
        "#5-2 리스트형 데이터\r\n",
        "for i in [1, 2, 3]:\r\n",
        "\tpass\r\n",
        "\r\n",
        ">>> [1, 2, 3]\r\n",
        "[1, 2, 3]"
      ],
      "execution_count": null,
      "outputs": []
    },
    {
      "cell_type": "markdown",
      "metadata": {
        "id": "qdCcrjI2EXWf"
      },
      "source": [
        "pass를 입력하면 아무 일도 하지 않는 for루프가 만들어진다"
      ]
    },
    {
      "cell_type": "code",
      "metadata": {
        "colab": {
          "base_uri": "https://localhost:8080/"
        },
        "id": "ycdP9Dv3uuWO",
        "outputId": "cf3dc00d-82d3-4718-ce3a-b253394410d4"
      },
      "source": [
        "[1, \"hello\", 3.3]\r\n",
        "[1, 2, 3, [4, 5], ['aaa','zzz']]\r\n",
        "st = [1, \"hello\", 3.3]\r\n",
        "print(st)"
      ],
      "execution_count": null,
      "outputs": [
        {
          "output_type": "stream",
          "text": [
            "[1, 'hello', 3.3]\n"
          ],
          "name": "stdout"
        }
      ]
    },
    {
      "cell_type": "markdown",
      "metadata": {
        "id": "sZUx9o6svL6T"
      },
      "source": [
        "[1, \"hello\", 3.3] 리스트 안에 서로 다른 종류의 값을 묶을 수 있다   \r\n",
        "[1, 2, 3, [4, 5],['aaa'] 리스트 안에 리스트를 넣을 수도 있다   \r\n",
        "st = [1, 2, 3] 리스트를 변수에 담는 것도 가능하다 "
      ]
    },
    {
      "cell_type": "markdown",
      "metadata": {
        "id": "u6FR4j0WvmHO"
      },
      "source": [
        "지금까지 배운 데이터의 종류는 int형 데이터, float 형 데이터, 리스트형 데이터의 3종류가 있다. (문자열도 있음)"
      ]
    },
    {
      "cell_type": "code",
      "metadata": {
        "colab": {
          "base_uri": "https://localhost:8080/"
        },
        "id": "zMABUuWqvyL-",
        "outputId": "b03c369d-f901-46a7-b876-b35bf6eb4fcc"
      },
      "source": [
        "#5-3 리스트형 데이터의 연산: 인덱싱 연산\r\n",
        "[1, 2, 3] + [4, 5]  #두 리스트를 합한 결과를 반환 [1, 2, 3, 4, 5]\r\n",
        "[1, 2, 3]*2  #리스트의 내용을 두 배 늘린 결과를 반환 [1, 2, 3, 1, 2, 3]"
      ],
      "execution_count": null,
      "outputs": [
        {
          "output_type": "execute_result",
          "data": {
            "text/plain": [
              "[1, 2, 3, 1, 2, 3]"
            ]
          },
          "metadata": {
            "tags": []
          },
          "execution_count": 3
        }
      ]
    },
    {
      "cell_type": "code",
      "metadata": {
        "colab": {
          "base_uri": "https://localhost:8080/"
        },
        "id": "RjKn2GfvwK36",
        "outputId": "b3db28ab-b481-4de7-bc14-76dc9bd1d6be"
      },
      "source": [
        "st = [1, 2, 3, 4, 5]\r\n",
        "n1 = st[0]   #첫 번째 값을 꺼내서 n1에 저장\r\n",
        "n2 = st[4]   #다섯 번째 값을 꺼내서 n2에 저장 \r\n",
        "print(n1, n2)"
      ],
      "execution_count": null,
      "outputs": [
        {
          "output_type": "stream",
          "text": [
            "1 5\n"
          ],
          "name": "stdout"
        }
      ]
    },
    {
      "cell_type": "markdown",
      "metadata": {
        "id": "9NkqnMvbwgaO"
      },
      "source": [
        "[]  인덱싱연산   [ : ] 슬라이싱 연산\r\n",
        "[1, 2, 3, 4, 5]   \r\n",
        " 0  1  2  3  4  로 0부터시작됨   \r\n",
        " 인덱싱은 값을 꺼내는 것(사라지는 것은 아님)   리스트에 담겨 있는 값들 중 하나를 참조하는 연산"
      ]
    },
    {
      "cell_type": "code",
      "metadata": {
        "colab": {
          "base_uri": "https://localhost:8080/"
        },
        "id": "1hh4W9XFxDsq",
        "outputId": "47c034a6-37ab-4f54-bfcb-dd74976b0e5b"
      },
      "source": [
        "st = [1, 2, 3, 4, 5]\r\n",
        "st[0] = 5    #5를 st[0]에 저장\r\n",
        "st[4] = 1    #1을 st[4]에 저장\r\n",
        "st"
      ],
      "execution_count": null,
      "outputs": [
        {
          "output_type": "execute_result",
          "data": {
            "text/plain": [
              "[5, 2, 3, 4, 1]"
            ]
          },
          "metadata": {
            "tags": []
          },
          "execution_count": 5
        }
      ]
    },
    {
      "cell_type": "markdown",
      "metadata": {
        "id": "gWkxZ3mMxTQF"
      },
      "source": [
        "인덱싱연산은 값을 수정할 수도 있다   \r\n",
        "st[0]이 =의 오른편의 오면 '값의 꺼냄' 이고   \r\n",
        "st[0]이 =의 왼퍈에 오면 '값의 수정'을 의미한다\r\n",
        "\r\n"
      ]
    },
    {
      "cell_type": "code",
      "metadata": {
        "colab": {
          "base_uri": "https://localhost:8080/"
        },
        "id": "ppYk6AeYxmIY",
        "outputId": "1013f5ee-9bd4-4bf3-a424-772a57523bb2"
      },
      "source": [
        "st = [1, 2, 3, 4, 5]\r\n",
        "print(st[0], st[2], st[4])  #st[0], st[2], st[4]의 값을 print함수의 전달"
      ],
      "execution_count": null,
      "outputs": [
        {
          "output_type": "stream",
          "text": [
            "1 3 5\n"
          ],
          "name": "stdout"
        }
      ]
    },
    {
      "cell_type": "code",
      "metadata": {
        "colab": {
          "base_uri": "https://localhost:8080/"
        },
        "id": "Ic6hThBoyHlN",
        "outputId": "9b2efca3-aacd-4854-8dbb-4903dafbb25b"
      },
      "source": [
        "st = [1,2 ,3, 4,5]\r\n",
        "print(st[-1], st[-2], st[-3])  #인덱스 값으로 음수가 사용됨"
      ],
      "execution_count": null,
      "outputs": [
        {
          "output_type": "stream",
          "text": [
            "5 4 3\n"
          ],
          "name": "stdout"
        }
      ]
    },
    {
      "cell_type": "markdown",
      "metadata": {
        "id": "l4egx-1uyR17"
      },
      "source": [
        "[1, 2, 3, 4, 5]\r\n",
        " 0 -4 -3 -2 -1  음수는 맨 뒤에부터 -1이 됨 첫번째는 무조건 0이 됨"
      ]
    },
    {
      "cell_type": "code",
      "metadata": {
        "colab": {
          "base_uri": "https://localhost:8080/"
        },
        "id": "tcw2tBDsyf04",
        "outputId": "ffd5752a-833a-492a-a20c-3a571f19d1d5"
      },
      "source": [
        "#연습문제 05-1 1번문제\r\n",
        "st = [1, 2, 3, 4]\r\n",
        "st[0]\r\n",
        "st[1]\r\n",
        "st[2]\r\n",
        "st[3]"
      ],
      "execution_count": null,
      "outputs": [
        {
          "output_type": "execute_result",
          "data": {
            "text/plain": [
              "4"
            ]
          },
          "metadata": {
            "tags": []
          },
          "execution_count": 9
        }
      ]
    },
    {
      "cell_type": "code",
      "metadata": {
        "colab": {
          "base_uri": "https://localhost:8080/"
        },
        "id": "gUcEzv3HypES",
        "outputId": "ad0bef24-5316-47cd-f048-6897d116e0b0"
      },
      "source": [
        "#연습문제 05-1 2번문제\r\n",
        "st = [1, 2, 3, 4]\r\n",
        "st[-1]\r\n",
        "st[-2]\r\n",
        "st[-3]\r\n",
        "st[-4]"
      ],
      "execution_count": null,
      "outputs": [
        {
          "output_type": "execute_result",
          "data": {
            "text/plain": [
              "1"
            ]
          },
          "metadata": {
            "tags": []
          },
          "execution_count": 10
        }
      ]
    },
    {
      "cell_type": "code",
      "metadata": {
        "colab": {
          "base_uri": "https://localhost:8080/"
        },
        "id": "UPL5TPsdyo00",
        "outputId": "bfe3960e-defb-4b58-cb40-89484d93f0b7"
      },
      "source": [
        "#연습문제 05-1 3번문제\r\n",
        "st = [1, 2, 3, 4]\r\n",
        "st[0] = st[0]+1   #st[0] += 1 로 해도 됨\r\n",
        "st[1] = st[1]+1\r\n",
        "st[2] = st[2]+1\r\n",
        "st[3] = st[3]+1\r\n",
        "st"
      ],
      "execution_count": null,
      "outputs": [
        {
          "output_type": "execute_result",
          "data": {
            "text/plain": [
              "[2, 3, 4, 5]"
            ]
          },
          "metadata": {
            "tags": []
          },
          "execution_count": 25
        }
      ]
    },
    {
      "cell_type": "code",
      "metadata": {
        "colab": {
          "base_uri": "https://localhost:8080/"
        },
        "id": "oGU3gvboyoLB",
        "outputId": "be132bcb-1d3b-4e6a-d62e-5759e62b7948"
      },
      "source": [
        "#연습문제 05-1 4번문제\r\n",
        "st = [1, 2, 3, 4, 5, 6, 7, 8, 9, 10]\r\n",
        "for i in range(10):\r\n",
        "  st[i] += 1\r\n",
        "st"
      ],
      "execution_count": null,
      "outputs": [
        {
          "output_type": "execute_result",
          "data": {
            "text/plain": [
              "[2, 3, 4, 5, 6, 7, 8, 9, 10, 11]"
            ]
          },
          "metadata": {
            "tags": []
          },
          "execution_count": 29
        }
      ]
    },
    {
      "cell_type": "code",
      "metadata": {
        "colab": {
          "base_uri": "https://localhost:8080/"
        },
        "id": "1pUv-_SFyntb",
        "outputId": "dd1df035-cde2-4c90-bf82-0286f110ffa0"
      },
      "source": [
        "#연습문제 05-1 5번문제\r\n",
        "st = [1, 2, 3 ,4 ,5, 6]\r\n",
        "#st[5] = 1\r\n",
        "#st[0] = 6\r\n",
        "st[5], st[0] = st[0], st[5]\r\n",
        "st\r\n"
      ],
      "execution_count": null,
      "outputs": [
        {
          "output_type": "execute_result",
          "data": {
            "text/plain": [
              "[6, 2, 3, 4, 5, 1]"
            ]
          },
          "metadata": {
            "tags": []
          },
          "execution_count": 30
        }
      ]
    },
    {
      "cell_type": "code",
      "metadata": {
        "colab": {
          "base_uri": "https://localhost:8080/"
        },
        "id": "P4xJWqeW2QyN",
        "outputId": "e20b5d7d-349c-418c-c499-c68cad5a9fa1"
      },
      "source": [
        "#5-4 리스트형 데이터의 연산: 슬라이싱 연산\r\n",
        "st1 = [1, 2, 3,4, 5, 6, 7, 8, 9]\r\n",
        "st2 = st1[2:5]  #st1[2:5]를 꺼내 st2에저장 2부터 5앞까지(5는 포함되지않음)\r\n",
        "st2"
      ],
      "execution_count": null,
      "outputs": [
        {
          "output_type": "execute_result",
          "data": {
            "text/plain": [
              "[3, 4, 5]"
            ]
          },
          "metadata": {
            "tags": []
          },
          "execution_count": 31
        }
      ]
    },
    {
      "cell_type": "markdown",
      "metadata": {
        "id": "UB2HBn5F2vUv"
      },
      "source": [
        "st2 = st1[2:5]  는 st1[2]~ st1[4] 까지 꺼내서 st2에 저장하라는 뜻   \r\n",
        "인덱싱과 마찬가지로 슬라이싱도 값을 꺼냄과 값의 수정이 있음"
      ]
    },
    {
      "cell_type": "code",
      "metadata": {
        "colab": {
          "base_uri": "https://localhost:8080/"
        },
        "id": "Buf_yQoA297h",
        "outputId": "8825a5a3-2151-41c9-9801-21160ed147ac"
      },
      "source": [
        "st = [1, 2, 3,4, 5, 6, 7, 8, 9]\r\n",
        "st[2:5] = [0, 0, 0, 0, 0]  #st[2:5] 의 위치에 [0,0,0,0,0,]넣기\r\n",
        "st"
      ],
      "execution_count": null,
      "outputs": [
        {
          "output_type": "execute_result",
          "data": {
            "text/plain": [
              "[1, 2, 0, 0, 0, 0, 0, 6, 7, 8, 9]"
            ]
          },
          "metadata": {
            "tags": []
          },
          "execution_count": 32
        }
      ]
    },
    {
      "cell_type": "markdown",
      "metadata": {
        "id": "r3TEmtIp3cYI"
      },
      "source": [
        "슬라이싱연산은 부분교체로 볼 수 있다   \r\n",
        "부분교체 할 때 값의 개수가 같을 필요는 없다 더 많아도 되고 더 적어도 된다"
      ]
    },
    {
      "cell_type": "code",
      "metadata": {
        "colab": {
          "base_uri": "https://localhost:8080/"
        },
        "id": "7ZQMKsoU3mNq",
        "outputId": "e55d021e-9403-42dc-f9b2-76b6e21744ec"
      },
      "source": [
        "st = [1, 2, 3,4, 5, 6, 7, 8, 9]\r\n",
        "st[2:5] = [0, 0]\r\n",
        "st"
      ],
      "execution_count": null,
      "outputs": [
        {
          "output_type": "execute_result",
          "data": {
            "text/plain": [
              "[1, 2, 0, 0, 6, 7, 8, 9]"
            ]
          },
          "metadata": {
            "tags": []
          },
          "execution_count": 33
        }
      ]
    },
    {
      "cell_type": "markdown",
      "metadata": {
        "id": "dp06OZa73s4F"
      },
      "source": [
        "st 2, 3, 4번째는 무조건 빠지고 새 값이 들어가는 것"
      ]
    },
    {
      "cell_type": "code",
      "metadata": {
        "colab": {
          "base_uri": "https://localhost:8080/"
        },
        "id": "Fx-KHMDhE44q",
        "outputId": "6764a450-7d09-44de-d2cb-b11005b2de92"
      },
      "source": [
        "#5-5 슬라이싱 연산에서 생략 가능한 부분\r\n",
        "st = [1, 2, 3, 4, 5]\r\n",
        "st[0:3] = [0, 0, 0]\r\n",
        "st"
      ],
      "execution_count": null,
      "outputs": [
        {
          "output_type": "execute_result",
          "data": {
            "text/plain": [
              "[0, 0, 0, 4, 5]"
            ]
          },
          "metadata": {
            "tags": []
          },
          "execution_count": 1
        }
      ]
    },
    {
      "cell_type": "code",
      "metadata": {
        "colab": {
          "base_uri": "https://localhost:8080/"
        },
        "id": "B59aAK2PaKh_",
        "outputId": "e8922c47-d4a7-4796-f956-bbc4b8f9282d"
      },
      "source": [
        "st = [1, 2, 3, 4, 5]\r\n",
        "st[:3] = [0, 0, 0]\r\n",
        "st"
      ],
      "execution_count": null,
      "outputs": [
        {
          "output_type": "execute_result",
          "data": {
            "text/plain": [
              "[0, 0, 0, 4, 5]"
            ]
          },
          "metadata": {
            "tags": []
          },
          "execution_count": 2
        }
      ]
    },
    {
      "cell_type": "markdown",
      "metadata": {
        "id": "cMWOQG2XaP5I"
      },
      "source": [
        "리스트의 첫 번째 위치의 값을 의미하는 0은 생략가능"
      ]
    },
    {
      "cell_type": "code",
      "metadata": {
        "colab": {
          "base_uri": "https://localhost:8080/"
        },
        "id": "bhitrUTqaXb-",
        "outputId": "2bd56641-4a92-4dd9-d14e-eaf8da320611"
      },
      "source": [
        "st = [1, 2, 3, 4, 5]\r\n",
        "st[2:] = [0, 0, 0]\r\n",
        "st"
      ],
      "execution_count": null,
      "outputs": [
        {
          "output_type": "execute_result",
          "data": {
            "text/plain": [
              "[1, 2, 0, 0, 0]"
            ]
          },
          "metadata": {
            "tags": []
          },
          "execution_count": 3
        }
      ]
    },
    {
      "cell_type": "markdown",
      "metadata": {
        "id": "5FNjJ_eVabtP"
      },
      "source": [
        "인덱스 값 2의 위치부터 마지막까지 교체  \r\n",
        "    교체 숫자도 생략가능"
      ]
    },
    {
      "cell_type": "code",
      "metadata": {
        "colab": {
          "base_uri": "https://localhost:8080/"
        },
        "id": "626DcHcfajdl",
        "outputId": "98a52f2d-5915-49a1-c7dd-27e398e0ab30"
      },
      "source": [
        "st = [1, 2, 3, 4, 5]\r\n",
        "st[:] = [0,0,0, 0, 0]\r\n",
        "st"
      ],
      "execution_count": null,
      "outputs": [
        {
          "output_type": "execute_result",
          "data": {
            "text/plain": [
              "[0, 0, 0, 0, 0]"
            ]
          },
          "metadata": {
            "tags": []
          },
          "execution_count": 6
        }
      ]
    },
    {
      "cell_type": "markdown",
      "metadata": {
        "id": "4XSbUHjTax2h"
      },
      "source": [
        "리스트 전체를 교체하는 경우 앞뒤숫자 모두 생략가능"
      ]
    },
    {
      "cell_type": "code",
      "metadata": {
        "colab": {
          "base_uri": "https://localhost:8080/"
        },
        "id": "y79GI_csa3K5",
        "outputId": "e9c5aff2-9828-4f96-cd34-5f30877d2f46"
      },
      "source": [
        "st = [1, 2, 3, 4, 5]\r\n",
        "st[:] = [0]\r\n",
        "st"
      ],
      "execution_count": null,
      "outputs": [
        {
          "output_type": "execute_result",
          "data": {
            "text/plain": [
              "[0]"
            ]
          },
          "metadata": {
            "tags": []
          },
          "execution_count": 7
        }
      ]
    },
    {
      "cell_type": "markdown",
      "metadata": {
        "id": "4_qUcgB6a8Cw"
      },
      "source": [
        "리스트 전체를 0 하나로 교체 할 시 교체할 값의 수는 일치하지 않아도 됨"
      ]
    },
    {
      "cell_type": "code",
      "metadata": {
        "colab": {
          "base_uri": "https://localhost:8080/"
        },
        "id": "X5qM9BhEbDJf",
        "outputId": "f16a2e1d-36bd-444a-e1aa-34ba8da343f6"
      },
      "source": [
        "st = []   #빈리스트 생성\r\n",
        "st"
      ],
      "execution_count": null,
      "outputs": [
        {
          "output_type": "execute_result",
          "data": {
            "text/plain": [
              "[]"
            ]
          },
          "metadata": {
            "tags": []
          },
          "execution_count": 8
        }
      ]
    },
    {
      "cell_type": "code",
      "metadata": {
        "colab": {
          "base_uri": "https://localhost:8080/"
        },
        "id": "7xJNn6jTbHtY",
        "outputId": "3c3ef494-266b-43e5-9242-d873049a5555"
      },
      "source": [
        "st = [1, 2, 3, 4, 5]\r\n",
        "st[:] = []   #리스트의 전체 내용 삭제\r\n",
        "st"
      ],
      "execution_count": null,
      "outputs": [
        {
          "output_type": "execute_result",
          "data": {
            "text/plain": [
              "[]"
            ]
          },
          "metadata": {
            "tags": []
          },
          "execution_count": 9
        }
      ]
    },
    {
      "cell_type": "markdown",
      "metadata": {
        "id": "NWAZhnJ4bXX6"
      },
      "source": [
        "리스트 내용을 빈 리스트로 대체했기에 리스트 내용삭제가 됨"
      ]
    },
    {
      "cell_type": "code",
      "metadata": {
        "colab": {
          "base_uri": "https://localhost:8080/"
        },
        "id": "pV9i5b1abbOv",
        "outputId": "63855a78-e758-4fc8-ddef-49eb9e7264df"
      },
      "source": [
        "#5-6 리스트에서 두 칸씩 뛰면서 저장된 값들 꺼내기\r\n",
        "st1 = [1, 2, 3, 4, 5, 6, 7, 8, 9, 10, 11, 12, 13, 14, 15]\r\n",
        "st2 = st1[0:9:2]   #st1[0]~st1[8]까지 2칸씩 뛰면서\r\n",
        "st2"
      ],
      "execution_count": null,
      "outputs": [
        {
          "output_type": "execute_result",
          "data": {
            "text/plain": [
              "[1, 3, 5, 7, 9]"
            ]
          },
          "metadata": {
            "tags": []
          },
          "execution_count": 10
        }
      ]
    },
    {
      "cell_type": "markdown",
      "metadata": {
        "id": "xPN7-_fJbyLq"
      },
      "source": [
        "끝에 :2를 넣어주면 2칸씩 뛰면서 값을 꺼내준다"
      ]
    },
    {
      "cell_type": "code",
      "metadata": {
        "colab": {
          "base_uri": "https://localhost:8080/"
        },
        "id": "ZDYDFBnob2Y9",
        "outputId": "c9d5a06f-b893-448f-9112-15c3a455a42b"
      },
      "source": [
        "st1 = [1, 2, 3, 4, 5, 6, 7, 8, 9, 10, 11, 12, 13, 14, 15]\r\n",
        "st2 = st1[0:9:3]   #st1[0]~st1[8]까지 3칸씩 뛰면서\r\n",
        "st2"
      ],
      "execution_count": null,
      "outputs": [
        {
          "output_type": "execute_result",
          "data": {
            "text/plain": [
              "[1, 4, 7]"
            ]
          },
          "metadata": {
            "tags": []
          },
          "execution_count": 11
        }
      ]
    },
    {
      "cell_type": "code",
      "metadata": {
        "colab": {
          "base_uri": "https://localhost:8080/"
        },
        "id": "MR8R49UMb8GT",
        "outputId": "fa8409b3-ccea-48cb-9069-014a4e716134"
      },
      "source": [
        "#연습문제 05-2 1번문제\r\n",
        "st = [1, 2, 3, 4, 5]\r\n",
        "st[1:4] = [3]\r\n",
        "st"
      ],
      "execution_count": null,
      "outputs": [
        {
          "output_type": "execute_result",
          "data": {
            "text/plain": [
              "[1, 3, 5]"
            ]
          },
          "metadata": {
            "tags": []
          },
          "execution_count": 12
        }
      ]
    },
    {
      "cell_type": "code",
      "metadata": {
        "colab": {
          "base_uri": "https://localhost:8080/"
        },
        "id": "INY8Hxw4cP6E",
        "outputId": "a2c5e623-4e58-49cf-e488-eeafaa9cd459"
      },
      "source": [
        "#연습문제 05-2 2번문제\r\n",
        "st = [1, 2, 3, 4, 5]\r\n",
        "st[2:3] = [3, 3.5]\r\n",
        "st"
      ],
      "execution_count": null,
      "outputs": [
        {
          "output_type": "execute_result",
          "data": {
            "text/plain": [
              "[1, 2, 3, 3.5, 4, 5]"
            ]
          },
          "metadata": {
            "tags": []
          },
          "execution_count": 13
        }
      ]
    },
    {
      "cell_type": "code",
      "metadata": {
        "colab": {
          "base_uri": "https://localhost:8080/"
        },
        "id": "mCPWz7c_cQ6F",
        "outputId": "bc1c13e3-506f-4382-baba-90a4738b1d16"
      },
      "source": [
        "#연습문제 05-2 3번문제\r\n",
        "st = [1, 2, 3, 4, 5]\r\n",
        "st[1:4] = []\r\n",
        "st"
      ],
      "execution_count": null,
      "outputs": [
        {
          "output_type": "execute_result",
          "data": {
            "text/plain": [
              "[1, 5]"
            ]
          },
          "metadata": {
            "tags": []
          },
          "execution_count": 14
        }
      ]
    },
    {
      "cell_type": "code",
      "metadata": {
        "colab": {
          "base_uri": "https://localhost:8080/"
        },
        "id": "wjYgYjqIcSDp",
        "outputId": "910abbdf-3dcb-476f-89f6-21e239b856d3"
      },
      "source": [
        "#연습문제 05-2 4번문제\r\n",
        "st = [1, 2, 3, 4, 5]\r\n",
        "st[:] = []\r\n",
        "st"
      ],
      "execution_count": null,
      "outputs": [
        {
          "output_type": "execute_result",
          "data": {
            "text/plain": [
              "[]"
            ]
          },
          "metadata": {
            "tags": []
          },
          "execution_count": 15
        }
      ]
    },
    {
      "cell_type": "code",
      "metadata": {
        "colab": {
          "base_uri": "https://localhost:8080/"
        },
        "id": "jF563Wj5cR_n",
        "outputId": "a708e84b-0c0a-469e-c2e4-838da417d67b"
      },
      "source": [
        "#연습문제 05-2 5번문제\r\n",
        "st = [1, 2, 3, 4, 5, 6, 7, 8, 9, 10]\r\n",
        "nt = st[0:9:2]   #st[::2]이렇게 표현해도 됨\r\n",
        "nt"
      ],
      "execution_count": null,
      "outputs": [
        {
          "output_type": "execute_result",
          "data": {
            "text/plain": [
              "[1, 3, 5, 7, 9]"
            ]
          },
          "metadata": {
            "tags": []
          },
          "execution_count": 16
        }
      ]
    },
    {
      "cell_type": "code",
      "metadata": {
        "colab": {
          "base_uri": "https://localhost:8080/"
        },
        "id": "eha6SGPpcRps",
        "outputId": "a164d2cd-5e68-4c6f-90fb-09e52fa7ff50"
      },
      "source": [
        "#연습문제 05-2 6번문제\r\n",
        "st = [1, 2, 3, 4, 5, 6, 7, 8, 9, 10]\r\n",
        "nt = st[1:10:2]  #st[1::2]이렇게 표현가능\r\n",
        "nt"
      ],
      "execution_count": null,
      "outputs": [
        {
          "output_type": "execute_result",
          "data": {
            "text/plain": [
              "[2, 4, 6, 8, 10]"
            ]
          },
          "metadata": {
            "tags": []
          },
          "execution_count": 30
        }
      ]
    },
    {
      "cell_type": "code",
      "metadata": {
        "colab": {
          "base_uri": "https://localhost:8080/",
          "height": 35
        },
        "id": "CIdKX4zNfKna",
        "outputId": "cd5e8c89-18d9-4cf9-d71a-1a83d163aca7"
      },
      "source": [
        "#5-7 스트링형 데이터 : 문자열\r\n",
        "type(\"what1\")\r\n",
        "type('what2')\r\n",
        "\"123\""
      ],
      "execution_count": null,
      "outputs": [
        {
          "output_type": "execute_result",
          "data": {
            "application/vnd.google.colaboratory.intrinsic+json": {
              "type": "string"
            },
            "text/plain": [
              "'123'"
            ]
          },
          "metadata": {
            "tags": []
          },
          "execution_count": 33
        }
      ]
    },
    {
      "cell_type": "markdown",
      "metadata": {
        "id": "h_wTMYW2fb6-"
      },
      "source": [
        "큰따옴표든 작은따옴표든관계없이 묶일 수 있다\r\n",
        "숫자도 따옴표러 묶으면 문자열로 인식된다   \r\n",
        "str은 string의 약자로서 문자열을 뜻한다 문자열이란 하나 이상의 값을 묶어서 만들어지는 데이터이다 (리스트와 유사) 그래서 리스트 연산을 문자열 대상으로도 가능함"
      ]
    },
    {
      "cell_type": "code",
      "metadata": {
        "colab": {
          "base_uri": "https://localhost:8080/",
          "height": 35
        },
        "id": "4aGwpd7Efxzc",
        "outputId": "d8d9a256-0725-4a2c-ba9e-1827fe0f3c33"
      },
      "source": [
        "[1, 2] + [3, 4]   #[1, 2, 3, 4]  두 리스트를 합한 결과\r\n",
        "\"Hello\" +\"Everybody\"  #HelloEverybody 두 문자열을 합한 결과"
      ],
      "execution_count": null,
      "outputs": [
        {
          "output_type": "execute_result",
          "data": {
            "application/vnd.google.colaboratory.intrinsic+json": {
              "type": "string"
            },
            "text/plain": [
              "'HelloEverybody'"
            ]
          },
          "metadata": {
            "tags": []
          },
          "execution_count": 36
        }
      ]
    },
    {
      "cell_type": "code",
      "metadata": {
        "colab": {
          "base_uri": "https://localhost:8080/",
          "height": 35
        },
        "id": "tV315Ho9gfRN",
        "outputId": "2b843497-6386-49f8-eacb-a66958bb8552"
      },
      "source": [
        "[1, 2] * 3  #[1, 2, 1, 2, 1, 2] 리스트를 세 배 늘린 결과\r\n",
        "\"AZ\" * 3  #'AZAZAZ' 문자열을 세 배 늘린 결과"
      ],
      "execution_count": null,
      "outputs": [
        {
          "output_type": "execute_result",
          "data": {
            "application/vnd.google.colaboratory.intrinsic+json": {
              "type": "string"
            },
            "text/plain": [
              "'AZAZAZ'"
            ]
          },
          "metadata": {
            "tags": []
          },
          "execution_count": 37
        }
      ]
    },
    {
      "cell_type": "code",
      "metadata": {
        "colab": {
          "base_uri": "https://localhost:8080/",
          "height": 35
        },
        "id": "zzYhMB1ygsEu",
        "outputId": "3b0d6629-5e29-4e76-81da-400a51c11d38"
      },
      "source": [
        "st = [1, 2, 3, 4, 5]\r\n",
        "st[2]  #3  세 번째 위치 값만 뽑아냄\r\n",
        "str = \"SIMPLE\"\r\n",
        "str[2] #M  세 번째 위치 값만(문자만) 뽑아냄"
      ],
      "execution_count": null,
      "outputs": [
        {
          "output_type": "execute_result",
          "data": {
            "application/vnd.google.colaboratory.intrinsic+json": {
              "type": "string"
            },
            "text/plain": [
              "'M'"
            ]
          },
          "metadata": {
            "tags": []
          },
          "execution_count": 38
        }
      ]
    },
    {
      "cell_type": "code",
      "metadata": {
        "colab": {
          "base_uri": "https://localhost:8080/",
          "height": 35
        },
        "id": "mPnDZ_PPhHit",
        "outputId": "8fa8731a-b984-4709-d249-b232b5569e66"
      },
      "source": [
        "st = [1, 2, 3, 4, 5, 6, 7]\r\n",
        "st[2:5]   #[3, 4, 5]인덱스 값이 2~4인 위치의 값을 뽑아냄\r\n",
        "str = \"SIMPLEST\"  \r\n",
        "str[2:5]  #'MPL' 인덱스 값이 2~4인 위치의 값을 뽑아냄"
      ],
      "execution_count": null,
      "outputs": [
        {
          "output_type": "execute_result",
          "data": {
            "application/vnd.google.colaboratory.intrinsic+json": {
              "type": "string"
            },
            "text/plain": [
              "'MPL'"
            ]
          },
          "metadata": {
            "tags": []
          },
          "execution_count": 39
        }
      ]
    },
    {
      "cell_type": "markdown",
      "metadata": {
        "id": "VbtWXau7hBCq"
      },
      "source": [
        "리스트와 마찬가지로 문자열을 가지고도 인덱싱연산과 슬라이싱 연산을 할 수 있다 하는 방법도 동일"
      ]
    },
    {
      "cell_type": "code",
      "metadata": {
        "colab": {
          "base_uri": "https://localhost:8080/",
          "height": 188
        },
        "id": "3CaulJNLhhah",
        "outputId": "d552b960-5cc5-44d1-9f72-51b23f948ab9"
      },
      "source": [
        "str = \"Happy\"\r\n",
        "str[0] =\"D\" "
      ],
      "execution_count": null,
      "outputs": [
        {
          "output_type": "error",
          "ename": "TypeError",
          "evalue": "ignored",
          "traceback": [
            "\u001b[0;31m---------------------------------------------------------------------------\u001b[0m",
            "\u001b[0;31mTypeError\u001b[0m                                 Traceback (most recent call last)",
            "\u001b[0;32m<ipython-input-40-b25c5c57c51e>\u001b[0m in \u001b[0;36m<module>\u001b[0;34m()\u001b[0m\n\u001b[1;32m      1\u001b[0m \u001b[0mstr\u001b[0m \u001b[0;34m=\u001b[0m \u001b[0;34m\"Happy\"\u001b[0m\u001b[0;34m\u001b[0m\u001b[0;34m\u001b[0m\u001b[0m\n\u001b[0;32m----> 2\u001b[0;31m \u001b[0mstr\u001b[0m\u001b[0;34m[\u001b[0m\u001b[0;36m0\u001b[0m\u001b[0;34m]\u001b[0m \u001b[0;34m=\u001b[0m\u001b[0;34m\"D\"\u001b[0m\u001b[0;34m\u001b[0m\u001b[0;34m\u001b[0m\u001b[0m\n\u001b[0m",
            "\u001b[0;31mTypeError\u001b[0m: 'str' object does not support item assignment"
          ]
        }
      ]
    },
    {
      "cell_type": "markdown",
      "metadata": {
        "id": "0EL4y5QnjX0x"
      },
      "source": [
        "문자열이 리스트와 다른 점은 그 내용을 바꾸진 못한다. 중요! "
      ]
    },
    {
      "cell_type": "code",
      "metadata": {
        "colab": {
          "base_uri": "https://localhost:8080/",
          "height": 35
        },
        "id": "g-SwVfAKjjQX",
        "outputId": "b8b694a6-bef1-448c-c594-cf178565baf3"
      },
      "source": [
        "#연습문제 05-3\r\n",
        "str = \"Hello\"\r\n",
        "#str = str + \"Python\"\r\n",
        "str += \"Python\"\r\n",
        "str"
      ],
      "execution_count": null,
      "outputs": [
        {
          "output_type": "execute_result",
          "data": {
            "application/vnd.google.colaboratory.intrinsic+json": {
              "type": "string"
            },
            "text/plain": [
              "'HelloPython'"
            ]
          },
          "metadata": {
            "tags": []
          },
          "execution_count": 46
        }
      ]
    },
    {
      "cell_type": "code",
      "metadata": {
        "colab": {
          "base_uri": "https://localhost:8080/"
        },
        "id": "Qm2feg80kIs0",
        "outputId": "230a9e25-81f9-4af9-e0cd-d95e0ca89604"
      },
      "source": [
        "#5-8 리스트와 for루프 그리고 문자열과 for루프\r\n",
        "for i in [1, 2, 3]:\r\n",
        "  print(i, end = ' ')  #줄바꿈대신 공백\r\n"
      ],
      "execution_count": null,
      "outputs": [
        {
          "output_type": "stream",
          "text": [
            "1 2 3 "
          ],
          "name": "stdout"
        }
      ]
    },
    {
      "cell_type": "code",
      "metadata": {
        "colab": {
          "base_uri": "https://localhost:8080/"
        },
        "id": "2xYk3lmgkaTL",
        "outputId": "42eaf1c7-03bd-481f-f458-fe7b0ca3a5b0"
      },
      "source": [
        "for i in 'Happy':\r\n",
        "  print(i, end = ' ')\r\n"
      ],
      "execution_count": null,
      "outputs": [
        {
          "output_type": "stream",
          "text": [
            "H a p p y "
          ],
          "name": "stdout"
        }
      ]
    },
    {
      "cell_type": "markdown",
      "metadata": {
        "id": "5nHAd3VZkk-x"
      },
      "source": [
        "리스트가 아닌 문자열을 이용해서 for 루프 사용가능"
      ]
    },
    {
      "cell_type": "code",
      "metadata": {
        "colab": {
          "base_uri": "https://localhost:8080/"
        },
        "id": "ae5i-6aJkrRu",
        "outputId": "16aedcd1-ce1a-4ca9-edc5-4aa7123d5b54"
      },
      "source": [
        "#5-9 리스트와 문자열을 인자로 전달받는 함수 len(s) 는 리스트 s의 길이(저장된 값의 수) 반환의 뜻\r\n",
        "st = [1, 2, 3]\r\n",
        "len(st)  #3 st에 몇 개의 값이 저장되어 있는가\r\n",
        "sr = 'HaHaHa~'\r\n",
        "len(sr) #문자열로도 가능하다"
      ],
      "execution_count": null,
      "outputs": [
        {
          "output_type": "execute_result",
          "data": {
            "text/plain": [
              "7"
            ]
          },
          "metadata": {
            "tags": []
          },
          "execution_count": 50
        }
      ]
    },
    {
      "cell_type": "code",
      "metadata": {
        "colab": {
          "base_uri": "https://localhost:8080/"
        },
        "id": "M_hik6OPlNK0",
        "outputId": "a9f4ff7a-cc8d-4e63-8b2b-57890ed6c2ce"
      },
      "source": [
        "st = [1, 2, 3]\r\n",
        "n = len(st)\r\n",
        "n"
      ],
      "execution_count": null,
      "outputs": [
        {
          "output_type": "execute_result",
          "data": {
            "text/plain": [
              "3"
            ]
          },
          "metadata": {
            "tags": []
          },
          "execution_count": 51
        }
      ]
    },
    {
      "cell_type": "markdown",
      "metadata": {
        "id": "8GKctPHUlVaO"
      },
      "source": [
        "len함수가 반환하는 값을 따로 변수에 저장하지 않아서 그 값이 그대로 출력되는데, 이와같이 변환하는 값을 저장할 수도 있다"
      ]
    },
    {
      "cell_type": "code",
      "metadata": {
        "colab": {
          "base_uri": "https://localhost:8080/"
        },
        "id": "-cBrMwjLlfIu",
        "outputId": "0876b608-e646-45bc-edcc-f73d3253a738"
      },
      "source": [
        "#5-10 리스트와 문자열을 인자로 전달하고 반환하기\r\n",
        "def so_simple1(num):   #매개변수 num을 통해 값을 받음\r\n",
        "  return num + 1       #num +1의 결과 반환\r\n",
        "n = so_simple1(7)\r\n",
        "n"
      ],
      "execution_count": null,
      "outputs": [
        {
          "output_type": "execute_result",
          "data": {
            "text/plain": [
              "8"
            ]
          },
          "metadata": {
            "tags": []
          },
          "execution_count": 52
        }
      ]
    },
    {
      "cell_type": "markdown",
      "metadata": {
        "id": "C78Wo1vZl_JZ"
      },
      "source": [
        "int형의 값을 전달받거나 반환"
      ]
    },
    {
      "cell_type": "code",
      "metadata": {
        "colab": {
          "base_uri": "https://localhost:8080/"
        },
        "id": "cAE98so2l9BQ",
        "outputId": "7bc19bcf-0a3a-4f41-b8ef-a28bec6c7ef5"
      },
      "source": [
        "def so_simple2(st):\r\n",
        "  print(st)     #매개변수 st로 전달된 대상을 출력함\r\n",
        "so_simple2([1, 2, 3])  #리스트를 전달하면서 함수 호출"
      ],
      "execution_count": null,
      "outputs": [
        {
          "output_type": "stream",
          "text": [
            "[1, 2, 3]\n"
          ],
          "name": "stdout"
        }
      ]
    },
    {
      "cell_type": "markdown",
      "metadata": {
        "id": "7DuMgF7DmSFH"
      },
      "source": [
        "위와 마찬가지로 함수의 매개변수에 리스트도 인자로 전달할 수 있음"
      ]
    },
    {
      "cell_type": "code",
      "metadata": {
        "colab": {
          "base_uri": "https://localhost:8080/"
        },
        "id": "lLvVFcD9mXN8",
        "outputId": "8bd54e93-76ef-41f6-d400-0fd5bdb60e0c"
      },
      "source": [
        "def so_simple3():\r\n",
        "  st = [1, 2, 3, 4, 5]\r\n",
        "  return st  #리스트를 반환한다\r\n",
        "r = so_simple3()  #반환되는 리스트를 변수r에 저장\r\n",
        "r"
      ],
      "execution_count": null,
      "outputs": [
        {
          "output_type": "execute_result",
          "data": {
            "text/plain": [
              "[1, 2, 3, 4, 5]"
            ]
          },
          "metadata": {
            "tags": []
          },
          "execution_count": 54
        }
      ]
    },
    {
      "cell_type": "markdown",
      "metadata": {
        "id": "m-nLREammrsF"
      },
      "source": [
        "함수 내에서 리스트를 반환할 수도 있다"
      ]
    },
    {
      "cell_type": "code",
      "metadata": {
        "colab": {
          "base_uri": "https://localhost:8080/",
          "height": 52
        },
        "id": "xNpMnHBPmy7N",
        "outputId": "1e971834-9b27-4724-9750-937dd85b22d9"
      },
      "source": [
        "def so_simple4(s):\r\n",
        "  print(s)\r\n",
        "  return \"Bye~\"   #문자열 \"Bye~\"를 반환\r\n",
        "r = so_simple4(\"Hello\")  #문자열 \"Hello\"를 전달, 그리고 반환되는 값 r에 자징\r\n",
        "r  #반환된 결과물 출력함"
      ],
      "execution_count": null,
      "outputs": [
        {
          "output_type": "stream",
          "text": [
            "Hello\n"
          ],
          "name": "stdout"
        },
        {
          "output_type": "execute_result",
          "data": {
            "application/vnd.google.colaboratory.intrinsic+json": {
              "type": "string"
            },
            "text/plain": [
              "'Bye~'"
            ]
          },
          "metadata": {
            "tags": []
          },
          "execution_count": 62
        }
      ]
    },
    {
      "cell_type": "markdown",
      "metadata": {
        "id": "sO7Qr0HPoCbT"
      },
      "source": [
        "문자열도 함수에 전달이 가능하고 반환도 가능"
      ]
    },
    {
      "cell_type": "code",
      "metadata": {
        "colab": {
          "base_uri": "https://localhost:8080/"
        },
        "id": "u8x_m5OjoFw3",
        "outputId": "a6c988ec-07b0-466a-f8da-f58eab47084d"
      },
      "source": [
        "#연습문제 05-4 문제1\r\n",
        "def sum_all(st):\r\n",
        "  sum = 0\r\n",
        "  for i in range(len(st)):\r\n",
        "    sum += st[i]\r\n",
        "  return sum\r\n",
        "sum_all([1, 2, 3, 4, 5])"
      ],
      "execution_count": null,
      "outputs": [
        {
          "output_type": "execute_result",
          "data": {
            "text/plain": [
              "15"
            ]
          },
          "metadata": {
            "tags": []
          },
          "execution_count": 68
        }
      ]
    },
    {
      "cell_type": "code",
      "metadata": {
        "colab": {
          "base_uri": "https://localhost:8080/"
        },
        "id": "WfhfKQdzoKn9",
        "outputId": "50301b71-2248-41b8-b7b3-2d598dc11fc8"
      },
      "source": [
        "#연습문제 05-4 문제2\r\n",
        "def show_reverse(st):\r\n",
        "  for i in range(len(st)):\r\n",
        "    print(st[(i+1)*-1], end = ' ')\r\n",
        "show_reverse([1, 2, 3, 4, 5])"
      ],
      "execution_count": null,
      "outputs": [
        {
          "output_type": "stream",
          "text": [
            "5 4 3 2 1 "
          ],
          "name": "stdout"
        }
      ]
    },
    {
      "cell_type": "code",
      "metadata": {
        "colab": {
          "base_uri": "https://localhost:8080/"
        },
        "id": "NFvN2SStqHJG",
        "outputId": "a493a9d4-aa58-4638-9ce4-19b6af54500e"
      },
      "source": [
        "#연습문제 05-4 문제2\r\n",
        "def show_reverse(st):\r\n",
        "  for i in range(len(st)):\r\n",
        "    print(st[(i+1)*-1], end = ' ')\r\n",
        "show_reverse(\"ABCDEFG\")"
      ],
      "execution_count": null,
      "outputs": [
        {
          "output_type": "stream",
          "text": [
            "G F E D C B A "
          ],
          "name": "stdout"
        }
      ]
    },
    {
      "cell_type": "code",
      "metadata": {
        "colab": {
          "base_uri": "https://localhost:8080/"
        },
        "id": "KNxgLADormW9",
        "outputId": "2d88d7db-b631-4db6-ee60-bef55b2a7898"
      },
      "source": [
        "#6-1 리스트와 함수들\r\n",
        "st = [1, 3, 5, 7, 9]\r\n",
        "num = len(st)    #len 함수는 리스트에 저장된 값의 개수를 반환 \r\n",
        "num"
      ],
      "execution_count": null,
      "outputs": [
        {
          "output_type": "execute_result",
          "data": {
            "text/plain": [
              "5"
            ]
          },
          "metadata": {
            "tags": []
          },
          "execution_count": 1
        }
      ]
    },
    {
      "cell_type": "markdown",
      "metadata": {
        "id": "G0mS8-D8kfev"
      },
      "source": [
        "len(s) 리스트 s의 길이(값의 수)를 반환   \r\n",
        "min(s) 리스트 s의 저장된 값 중 가장 작은 값 반환   \r\n",
        "max(s) 리스트 s의 저장된 값 중 가장 큰 값 반환"
      ]
    },
    {
      "cell_type": "code",
      "metadata": {
        "colab": {
          "base_uri": "https://localhost:8080/"
        },
        "id": "QFhqAxzqkd6g",
        "outputId": "1a145afe-39c4-4321-8ebd-113af91b1bf6"
      },
      "source": [
        "st = [2, 5, 3, 7, 4]\r\n",
        "min(st)  #2 가장 작은 값\r\n",
        "max(st)  #7 가장 큰 값"
      ],
      "execution_count": null,
      "outputs": [
        {
          "output_type": "execute_result",
          "data": {
            "text/plain": [
              "7"
            ]
          },
          "metadata": {
            "tags": []
          },
          "execution_count": 3
        }
      ]
    },
    {
      "cell_type": "code",
      "metadata": {
        "colab": {
          "base_uri": "https://localhost:8080/"
        },
        "id": "2kSpF0UZk7m9",
        "outputId": "2c0fe369-eac4-492b-b7a7-069bfe623985"
      },
      "source": [
        "st = [1, 2, 3]\r\n",
        "st.remove(2)   #리스트에서 2를 찾아서 삭제\r\n",
        "st"
      ],
      "execution_count": null,
      "outputs": [
        {
          "output_type": "execute_result",
          "data": {
            "text/plain": [
              "[1, 3]"
            ]
          },
          "metadata": {
            "tags": []
          },
          "execution_count": 4
        }
      ]
    },
    {
      "cell_type": "markdown",
      "metadata": {
        "id": "d_wNJKUulRYd"
      },
      "source": [
        "리스트 안에 값만 존재하는 게 아니라 함수도 존재한다   \r\n",
        "우리는 리스트를 {1, 2, 3} 이렇게 생각하지만, 실질적 리스트 내부는>>{1, 2, 3 remove(x)} 이렇게 데이터와(값과) 함수가 묶여 존재하는 덩어리를 가리켜 객체라고 한다. 리스트 = 객체   \r\n",
        "리스트는 함수와 데이터가 함께 존재하는 객체이다"
      ]
    },
    {
      "cell_type": "code",
      "metadata": {
        "id": "A9KMz-UElLlE"
      },
      "source": [
        "st = [1, 2, 3]\r\n",
        "st.remove(2)   #st에 저장된 객체의(리스트의) remove 함수 호출"
      ],
      "execution_count": null,
      "outputs": []
    },
    {
      "cell_type": "markdown",
      "metadata": {
        "id": "t6fGIz4xmSM9"
      },
      "source": [
        "st에 저장된 객체의 remove함수가 호출됨.   \r\n",
        "객체 안에 존재하는 함수는 같은 객체에 있는 데이터를 대상으로 일을 한다.   \r\n",
        "위 코드에서 remove(2)를 호출했으니 삭제 후 리스트 내부는 {1, 3 remove(x)} 이렇게 된다\r\n",
        "이렇게 remove뿐아니라 여러 함수가 함께 존재한다    \r\n",
        "s.append(x) 리스트 s의 끝에 x를 추가(데이터)    \r\n",
        "s.extend(x) 리스트 s의 끝에 리스트 t의 내용 전부를 추가    \r\n",
        "s.clear()   리스트 s의 내용물 전부 삭제(remove는 일부삭제)    \r\n",
        "s.insert(i, x) s[i]에 x를 저장(삽입) (여기서 i는 위치를 말함)    \r\n",
        "s.pop(i)       s[i]를 반환 및 삭제(여기 i도 위치)(리무브와 다르게 위치지정해서 삭제가능)    \r\n",
        "s.remove(x)  리스트 s에서 제일 앞에 등장하는 x를 하나만 삭제   \r\n",
        "s.count(x)   리스트 s에 등장하는 x의 개수 반환    \r\n",
        "s.index(x)   리스트 s에 처음 등장하는 x의 인덱스 값 반환(인덱스값=위치)"
      ]
    },
    {
      "cell_type": "code",
      "metadata": {
        "colab": {
          "base_uri": "https://localhost:8080/"
        },
        "id": "taveWM9sn-b6",
        "outputId": "0640ec8e-ed47-431b-da77-1238e3184987"
      },
      "source": [
        "st = [1, 2, 3]\r\n",
        "st.append(4)  #st끝에 4추가\r\n",
        "st.extend([5, 6])  #st 끝에 [5,6]내용 추가\r\n",
        "st"
      ],
      "execution_count": null,
      "outputs": [
        {
          "output_type": "execute_result",
          "data": {
            "text/plain": [
              "[1, 2, 3, 4, 5, 6]"
            ]
          },
          "metadata": {
            "tags": []
          },
          "execution_count": 7
        }
      ]
    },
    {
      "cell_type": "code",
      "metadata": {
        "colab": {
          "base_uri": "https://localhost:8080/"
        },
        "id": "FX-sI5-RoPOw",
        "outputId": "d5ecf0ce-4bbf-4997-c7cc-0456db960766"
      },
      "source": [
        "st = [1, 2, 4]\r\n",
        "st.insert(2, 3)  #인덱스 값 2의 위치에 3저장\r\n",
        "st    #[1, 2, 3, 4]\r\n",
        "st.clear()   #리스트 내용 전부 삭제\r\n",
        "st"
      ],
      "execution_count": null,
      "outputs": [
        {
          "output_type": "execute_result",
          "data": {
            "text/plain": [
              "[]"
            ]
          },
          "metadata": {
            "tags": []
          },
          "execution_count": 9
        }
      ]
    },
    {
      "cell_type": "code",
      "metadata": {
        "colab": {
          "base_uri": "https://localhost:8080/"
        },
        "id": "-o_XEQxKoNnP",
        "outputId": "fa6be878-0f82-4ccd-99fa-25680f300f58"
      },
      "source": [
        "st = []  #빈 리스트 생성\r\n",
        "st.append(1)  #리스트 끝에 1추가\r\n",
        "st.append(9)  #리스트 끝에 9추가\r\n",
        "st"
      ],
      "execution_count": null,
      "outputs": [
        {
          "output_type": "execute_result",
          "data": {
            "text/plain": [
              "[1, 9]"
            ]
          },
          "metadata": {
            "tags": []
          },
          "execution_count": 10
        }
      ]
    },
    {
      "cell_type": "code",
      "metadata": {
        "colab": {
          "base_uri": "https://localhost:8080/"
        },
        "id": "583SN-1XoyRa",
        "outputId": "d8bf822d-b97b-4661-b147-510c56e27832"
      },
      "source": [
        "st = [1, 2, 3, 4, 5]\r\n",
        "st.pop(0)   #1  인덱스 값 0의 위치에 저장된 데이터 반환 및 삭제\r\n",
        "st   #[2, 3, 4, 5]\r\n",
        "st.remove(5)    #리스트에서 5를 삭제\r\n",
        "st"
      ],
      "execution_count": null,
      "outputs": [
        {
          "output_type": "execute_result",
          "data": {
            "text/plain": [
              "[2, 3, 4]"
            ]
          },
          "metadata": {
            "tags": []
          },
          "execution_count": 13
        }
      ]
    },
    {
      "cell_type": "code",
      "metadata": {
        "colab": {
          "base_uri": "https://localhost:8080/"
        },
        "id": "Q0Zf9b7EpKnk",
        "outputId": "2bf74f90-3eb0-4528-a0d1-0dd5ce1cc7ff"
      },
      "source": [
        "st = [1, 2, 3, 1, 2]\r\n",
        "st.count(1)   #2   1이 몇 번 등장하는지 세어라\r\n",
        "st.index(2)   #1   처음 2가 등장하는 위치의 인덱스 값은?"
      ],
      "execution_count": null,
      "outputs": [
        {
          "output_type": "execute_result",
          "data": {
            "text/plain": [
              "1"
            ]
          },
          "metadata": {
            "tags": []
          },
          "execution_count": 15
        }
      ]
    },
    {
      "cell_type": "code",
      "metadata": {
        "colab": {
          "base_uri": "https://localhost:8080/"
        },
        "id": "NXbUTmgzoM9Y",
        "outputId": "5eb2eac9-1831-47ec-9ddd-1c5fb04f79ca"
      },
      "source": [
        "#연습문제 06-1 문제1\r\n",
        "st = []\r\n",
        "st.append(1)\r\n",
        "st.append(2)\r\n",
        "st.append(3)\r\n",
        "st             #[1, 2, 3]\r\n",
        "st.pop(0)      #1\r\n",
        "st.pop(0)      #2\r\n",
        "st.pop(0)      #3\r\n",
        "st"
      ],
      "execution_count": null,
      "outputs": [
        {
          "output_type": "execute_result",
          "data": {
            "text/plain": [
              "[]"
            ]
          },
          "metadata": {
            "tags": []
          },
          "execution_count": 21
        }
      ]
    },
    {
      "cell_type": "code",
      "metadata": {
        "colab": {
          "base_uri": "https://localhost:8080/"
        },
        "id": "8RTQRtX8p8jB",
        "outputId": "ea5ce3a3-090e-4811-f99b-3e16dd27daec"
      },
      "source": [
        "#연습문제 06-1 문제2\r\n",
        "st = []\r\n",
        "st.append(1)\r\n",
        "st.append(2)\r\n",
        "st.append(3)\r\n",
        "st.pop(2)\r\n",
        "st.pop(1)\r\n",
        "st.pop(0)"
      ],
      "execution_count": null,
      "outputs": [
        {
          "output_type": "execute_result",
          "data": {
            "text/plain": [
              "1"
            ]
          },
          "metadata": {
            "tags": []
          },
          "execution_count": 24
        }
      ]
    },
    {
      "cell_type": "code",
      "metadata": {
        "colab": {
          "base_uri": "https://localhost:8080/"
        },
        "id": "hUsPblGyvgFL",
        "outputId": "52278af5-cc00-4309-c30b-9d1218b34519"
      },
      "source": [
        "#연습문제 06-1 문제2\r\n",
        "st = []\r\n",
        "st.append(1)\r\n",
        "st.append(2)\r\n",
        "st.append(3)\r\n",
        "st.pop(-1)\r\n",
        "st.pop(-1)\r\n",
        "st.pop(0)"
      ],
      "execution_count": null,
      "outputs": [
        {
          "output_type": "execute_result",
          "data": {
            "text/plain": [
              "1"
            ]
          },
          "metadata": {
            "tags": []
          },
          "execution_count": 27
        }
      ]
    },
    {
      "cell_type": "code",
      "metadata": {
        "colab": {
          "base_uri": "https://localhost:8080/"
        },
        "id": "PtygxBR3plqD",
        "outputId": "1be7932f-6975-43f0-a3dd-3368503db1b3"
      },
      "source": [
        "#연습문제 06-1 문제3\r\n",
        "st = [1, 2, 3, 4]\r\n",
        "st[:] = []\r\n",
        "st"
      ],
      "execution_count": null,
      "outputs": [
        {
          "output_type": "execute_result",
          "data": {
            "text/plain": [
              "[]"
            ]
          },
          "metadata": {
            "tags": []
          },
          "execution_count": 28
        }
      ]
    },
    {
      "cell_type": "code",
      "metadata": {
        "colab": {
          "base_uri": "https://localhost:8080/"
        },
        "id": "txNSnSUzv3Mg",
        "outputId": "11741436-2fc4-4245-b79c-2101a921ea05"
      },
      "source": [
        "#연습문제 06-1 문제4\r\n",
        "st = []\r\n",
        "for i in range(10):\r\n",
        "  st.append(i+1)\r\n",
        "st    "
      ],
      "execution_count": null,
      "outputs": [
        {
          "output_type": "execute_result",
          "data": {
            "text/plain": [
              "[1, 2, 3, 4, 5, 6, 7, 8, 9, 10]"
            ]
          },
          "metadata": {
            "tags": []
          },
          "execution_count": 39
        }
      ]
    },
    {
      "cell_type": "code",
      "metadata": {
        "colab": {
          "base_uri": "https://localhost:8080/"
        },
        "id": "QRrhRI0gwTNM",
        "outputId": "d42a2cef-29b5-4333-fbd2-c50194e0511d"
      },
      "source": [
        "#연습문제 06-1 문제4\r\n",
        "st = [1, 2, 3, 4, 5, 6, 7, 8, 9, 10]\r\n",
        "for i in range(10):\r\n",
        "  st.pop(0)\r\n",
        "st"
      ],
      "execution_count": null,
      "outputs": [
        {
          "output_type": "execute_result",
          "data": {
            "text/plain": [
              "[]"
            ]
          },
          "metadata": {
            "tags": []
          },
          "execution_count": 44
        }
      ]
    },
    {
      "cell_type": "code",
      "metadata": {
        "colab": {
          "base_uri": "https://localhost:8080/"
        },
        "id": "dfkWrznfxi__",
        "outputId": "230e995d-dc20-4f49-e2eb-1ee08f078302"
      },
      "source": [
        "#연습문제 06-1 문제5\r\n",
        "st = []\r\n",
        "for i in range(10):\r\n",
        "  st.append(i+1)\r\n",
        "st"
      ],
      "execution_count": null,
      "outputs": [
        {
          "output_type": "execute_result",
          "data": {
            "text/plain": [
              "[1, 2, 3, 4, 5, 6, 7, 8, 9, 10]"
            ]
          },
          "metadata": {
            "tags": []
          },
          "execution_count": 48
        }
      ]
    },
    {
      "cell_type": "code",
      "metadata": {
        "id": "q5CWPMA0xxRd"
      },
      "source": [
        "st = [1, 2, 3, 4, 5, 6, 7, 8, 9, 10]\r\n",
        "for i in range(10):\r\n",
        "  st.pop(-1)"
      ],
      "execution_count": null,
      "outputs": []
    },
    {
      "cell_type": "code",
      "metadata": {
        "colab": {
          "base_uri": "https://localhost:8080/"
        },
        "id": "IYxV3Qo3xbIA",
        "outputId": "3296c826-7dbb-475c-b38e-6dfd9420098f"
      },
      "source": [
        "#연습문제 06-1 문제6\r\n",
        "st = [1, 2]\r\n",
        "st.extend([3, 4, 5])\r\n",
        "st"
      ],
      "execution_count": null,
      "outputs": [
        {
          "output_type": "execute_result",
          "data": {
            "text/plain": [
              "[1, 2, 3, 4, 5]"
            ]
          },
          "metadata": {
            "tags": []
          },
          "execution_count": 52
        }
      ]
    },
    {
      "cell_type": "code",
      "metadata": {
        "colab": {
          "base_uri": "https://localhost:8080/"
        },
        "id": "TnqwAUslxY75",
        "outputId": "3c740a29-1155-4d26-9382-3e0a26717dc6"
      },
      "source": [
        "#연습문제 06-1 문제6\r\n",
        "st = [1, 2]\r\n",
        "st[2:] = [3, 4, 5]   #st[2:3]으로 해도 가능\r\n",
        "st"
      ],
      "execution_count": null,
      "outputs": [
        {
          "output_type": "execute_result",
          "data": {
            "text/plain": [
              "[1, 2, 3, 4, 5]"
            ]
          },
          "metadata": {
            "tags": []
          },
          "execution_count": 54
        }
      ]
    },
    {
      "cell_type": "markdown",
      "metadata": {
        "id": "DIT_-HyKzytQ"
      },
      "source": [
        "6-2 두 가지 유형의 함수가 갖는 특징들    \r\n",
        "객체 안에 존재하는 함수들은 해당 객체에 특화되어 있지만 객체 밖에 있는 함수들은 특정에 특화되어 있지 않아 다양한 값이나 객체들을 대상으로 동작한다"
      ]
    },
    {
      "cell_type": "code",
      "metadata": {
        "colab": {
          "base_uri": "https://localhost:8080/",
          "height": 35
        },
        "id": "P5uqvDSaxVQE",
        "outputId": "be2cf2e6-cf5c-485f-fa95-748c054eef33"
      },
      "source": [
        "#6-2 두 가지 유형의 함수가 갖는 특징들\r\n",
        "str = 'Python'\r\n",
        "len(str)  #6\r\n",
        "min(str)  #p 알파벳 순서상 가장 앞에 있는 문자\r\n",
        "max(str)  #y 알파벳 순서상 가장 뒤에 있는 문자"
      ],
      "execution_count": null,
      "outputs": [
        {
          "output_type": "execute_result",
          "data": {
            "application/vnd.google.colaboratory.intrinsic+json": {
              "type": "string"
            },
            "text/plain": [
              "'y'"
            ]
          },
          "metadata": {
            "tags": []
          },
          "execution_count": 57
        }
      ]
    },
    {
      "cell_type": "markdown",
      "metadata": {
        "id": "Q0UY3Pfp1kTw"
      },
      "source": [
        "객체 밖에 있는 함수를 만드는 이유는    \r\n",
        "1. 둘 이상의 다양한 종류의 값을 대상으로 동작하는 함수를 만들고자 하였다    \r\n",
        "2. 또는 만들기 편하고 사용하기도 편해서    \r\n",
        "객체 안에 있는 함수를 만드는 이유는    \r\n",
        "1. 해당 객체에 특화된 형태로 함수를 만들기 위해"
      ]
    },
    {
      "cell_type": "markdown",
      "metadata": {
        "id": "fOetSPPH2Ety"
      },
      "source": [
        "문자열도 리스트와 마찬가지로 객체이다. 문자열 안에도 다음 함수들이 존재한다    \r\n",
        "s.count(sub)   문자열 s에 sub가 등장하는 횟수 반환   \r\n",
        "s.lower()      문자열 s의 내용을 전부 소문자로 바꾼 문자열 반환    \r\n",
        "s.upper()      문자열 s의 내용을 전부 대문자로 바꾼 문자열 반환    \r\n",
        "s.lstrip()     문자열 s의 앞에 위치한 공백을 모두 제거한 문자열 반환  \r\n",
        "s.rstrip() 문자열 s의 뒤에 위치한 공백을 모두 제거한 문자열 반환     \r\n",
        "s.strip()      문자열 s의 앞과 뒤에 위치한 공백을 모두 제거한 문자열 반환    \r\n",
        "s.replace(old, new)문자열 s의 old를 new로 교체한 문자열 반환    \r\n",
        "s.split()      문자열 s를 공백 기준으로 나눠서 리스트에 담아서 반환   "
      ]
    },
    {
      "cell_type": "code",
      "metadata": {
        "colab": {
          "base_uri": "https://localhost:8080/"
        },
        "id": "QvmCAYiD1_FJ",
        "outputId": "770c8673-7f75-4789-ed1b-48c3371e1b00"
      },
      "source": [
        "#6-3 문자열과 함수들\r\n",
        "str = 'YoonSungWoo'\r\n",
        "str.count('o')   #4 'o'가 몇 번 등장?\r\n",
        "str.count('oo')  #2 'oo'가 몇 번 등장?"
      ],
      "execution_count": null,
      "outputs": [
        {
          "output_type": "execute_result",
          "data": {
            "text/plain": [
              "2"
            ]
          },
          "metadata": {
            "tags": []
          },
          "execution_count": 58
        }
      ]
    },
    {
      "cell_type": "code",
      "metadata": {
        "colab": {
          "base_uri": "https://localhost:8080/",
          "height": 35
        },
        "id": "OSjnzdTL3Xk9",
        "outputId": "99ae2491-e458-4f60-e476-8fa73b97cd6b"
      },
      "source": [
        "org = 'Yoon'\r\n",
        "lcp = org.lower()  #yoon 모든 문자를 소문자로 바꿔서 전환\r\n",
        "lcp  #yoon\r\n",
        "ucp = org.upper()  #YOON 모든 문자를 대문자로 바꿔서 전환\r\n",
        "ucp  #YOON\r\n",
        "org    #원문은 그대로 존재!! "
      ],
      "execution_count": null,
      "outputs": [
        {
          "output_type": "execute_result",
          "data": {
            "application/vnd.google.colaboratory.intrinsic+json": {
              "type": "string"
            },
            "text/plain": [
              "'Yoon'"
            ]
          },
          "metadata": {
            "tags": []
          },
          "execution_count": 63
        }
      ]
    },
    {
      "cell_type": "markdown",
      "metadata": {
        "id": "90l6JWBP4nb5"
      },
      "source": [
        "lower과 upper는 문자열을 수정하는 함수가 아니고 수정된 내용의 새로운 문자열을 생성해서 반환하는 함수 (문자열은 어떤 함수든 수정 자체가 불가능)"
      ]
    },
    {
      "cell_type": "code",
      "metadata": {
        "colab": {
          "base_uri": "https://localhost:8080/",
          "height": 35
        },
        "id": "BLTaSJKs34og",
        "outputId": "33b50488-1265-4675-d860-5c77e1cca212"
      },
      "source": [
        "org = ' MIDDLE '\r\n",
        "cp1 = org.lstrip()  #MIDDLE  앞쪽 공백 모두 제거\r\n",
        "cp2 = org.rstrip()  # MIDDLE 뒤쪽 공백 모두 제거\r\n",
        "org  # MIDDLE 원문 그대로"
      ],
      "execution_count": null,
      "outputs": [
        {
          "output_type": "execute_result",
          "data": {
            "application/vnd.google.colaboratory.intrinsic+json": {
              "type": "string"
            },
            "text/plain": [
              "' MIDDLE '"
            ]
          },
          "metadata": {
            "tags": []
          },
          "execution_count": 74
        }
      ]
    },
    {
      "cell_type": "code",
      "metadata": {
        "colab": {
          "base_uri": "https://localhost:8080/",
          "height": 35
        },
        "id": "ugmBPsJy5b6R",
        "outputId": "a5ad4ded-6adb-4b5c-d6f6-6d8576585bb0"
      },
      "source": [
        "org = ' MIDDLE '\r\n",
        "cpy = org.strip()  #앞 뒤 공백 모두 제거\r\n",
        "cpy"
      ],
      "execution_count": null,
      "outputs": [
        {
          "output_type": "execute_result",
          "data": {
            "application/vnd.google.colaboratory.intrinsic+json": {
              "type": "string"
            },
            "text/plain": [
              "'MIDDLE'"
            ]
          },
          "metadata": {
            "tags": []
          },
          "execution_count": 76
        }
      ]
    },
    {
      "cell_type": "code",
      "metadata": {
        "colab": {
          "base_uri": "https://localhost:8080/",
          "height": 35
        },
        "id": "f_i02_On5Bn5",
        "outputId": "084e275e-e7c5-4d5a-a3cf-7a62bf64eaa7"
      },
      "source": [
        "org = 'YoonSungWoo'\r\n",
        "rps = org.replace('oo', 'ee')   #'oo'를 전부 'ee'로 교체\r\n",
        "rps"
      ],
      "execution_count": null,
      "outputs": [
        {
          "output_type": "execute_result",
          "data": {
            "application/vnd.google.colaboratory.intrinsic+json": {
              "type": "string"
            },
            "text/plain": [
              "'YeenSungWee'"
            ]
          },
          "metadata": {
            "tags": []
          },
          "execution_count": 77
        }
      ]
    },
    {
      "cell_type": "code",
      "metadata": {
        "colab": {
          "base_uri": "https://localhost:8080/",
          "height": 35
        },
        "id": "Kuzs3rJ44_ZX",
        "outputId": "07630c7f-50bf-471c-8700-177f431c9594"
      },
      "source": [
        "org = 'YoonSungWoo'\r\n",
        "rps = org.replace('oo', 'ee', 1)   #첫 번째로 등장하는'oo' 하나를 'ee'로 교체\r\n",
        "rps"
      ],
      "execution_count": null,
      "outputs": [
        {
          "output_type": "execute_result",
          "data": {
            "application/vnd.google.colaboratory.intrinsic+json": {
              "type": "string"
            },
            "text/plain": [
              "'YeenSungWoo'"
            ]
          },
          "metadata": {
            "tags": []
          },
          "execution_count": 78
        }
      ]
    },
    {
      "cell_type": "code",
      "metadata": {
        "colab": {
          "base_uri": "https://localhost:8080/"
        },
        "id": "iFLTjNom4Pdx",
        "outputId": "d3966c08-1cd8-4b5c-d0ec-ded93885efbf"
      },
      "source": [
        "org = 'ab cd ef'\r\n",
        "ret = org.split()   #공백을 기준으로 문자열을 쪼개 리스트에 담아줌\r\n",
        "ret"
      ],
      "execution_count": null,
      "outputs": [
        {
          "output_type": "execute_result",
          "data": {
            "text/plain": [
              "['ab', 'cd', 'ef']"
            ]
          },
          "metadata": {
            "tags": []
          },
          "execution_count": 79
        }
      ]
    },
    {
      "cell_type": "code",
      "metadata": {
        "colab": {
          "base_uri": "https://localhost:8080/"
        },
        "id": "vljqkGr033A7",
        "outputId": "92b8f299-7e03-4812-e21b-dd533f54ad25"
      },
      "source": [
        "org = 'ab_cd_ef'\r\n",
        "ret = org.split('_')   #'_'를 기준으로 문자열을 쪼개 리스트에 담아줌\r\n",
        "ret"
      ],
      "execution_count": null,
      "outputs": [
        {
          "output_type": "execute_result",
          "data": {
            "text/plain": [
              "['ab', 'cd', 'ef']"
            ]
          },
          "metadata": {
            "tags": []
          },
          "execution_count": 80
        }
      ]
    },
    {
      "cell_type": "code",
      "metadata": {
        "colab": {
          "base_uri": "https://localhost:8080/",
          "height": 35
        },
        "id": "nNnVekMm3qiJ",
        "outputId": "b6ee797d-0feb-4ad4-c419-acd9d3bfa933"
      },
      "source": [
        "#연습문제 06-2 1번문제\r\n",
        "str = 'The Espresso Spirit'\r\n",
        "a = str.lower() \r\n",
        "a #the espresso spirit\r\n",
        "b = str.upper()\r\n",
        "b #THE ESPRESSO SPIRIT\r\n",
        "str"
      ],
      "execution_count": null,
      "outputs": [
        {
          "output_type": "execute_result",
          "data": {
            "application/vnd.google.colaboratory.intrinsic+json": {
              "type": "string"
            },
            "text/plain": [
              "'The Espresso Spirit'"
            ]
          },
          "metadata": {
            "tags": []
          },
          "execution_count": 84
        }
      ]
    },
    {
      "cell_type": "code",
      "metadata": {
        "colab": {
          "base_uri": "https://localhost:8080/",
          "height": 35
        },
        "id": "1v1D5-8M69iV",
        "outputId": "259274d2-0b3d-4a87-ae6f-3771423de5a7"
      },
      "source": [
        "#연습문제 06-2 2번문제\r\n",
        "def birth_only(pn):\r\n",
        "  ret = pn.split('-')\r\n",
        "  return ret[0]   #첫 번째 저장된 것만 변환\r\n",
        "p1 = '070609-2011xxx'\r\n",
        "p1 = birth_only(p1)\r\n",
        "p1"
      ],
      "execution_count": null,
      "outputs": [
        {
          "output_type": "execute_result",
          "data": {
            "application/vnd.google.colaboratory.intrinsic+json": {
              "type": "string"
            },
            "text/plain": [
              "'070609'"
            ]
          },
          "metadata": {
            "tags": []
          },
          "execution_count": 86
        }
      ]
    },
    {
      "cell_type": "code",
      "metadata": {
        "colab": {
          "base_uri": "https://localhost:8080/",
          "height": 35
        },
        "id": "L_dJmEK03j6S",
        "outputId": "c3b850a6-724a-4ced-8761-5815a124d71c"
      },
      "source": [
        "#연습문제 06-2 2번문제\r\n",
        "def birth_only(pn):\r\n",
        "  ret = pn.split('-')\r\n",
        "  return ret[0]   #첫 번째 저장된 것만 변환\r\n",
        "p2 = '090716-1012xxx'\r\n",
        "p2 = birth_only(p2)\r\n",
        "p2"
      ],
      "execution_count": null,
      "outputs": [
        {
          "output_type": "execute_result",
          "data": {
            "application/vnd.google.colaboratory.intrinsic+json": {
              "type": "string"
            },
            "text/plain": [
              "'090716'"
            ]
          },
          "metadata": {
            "tags": []
          },
          "execution_count": 87
        }
      ]
    },
    {
      "cell_type": "markdown",
      "metadata": {
        "id": "3QxxysP-Bz2D"
      },
      "source": [
        "s.find(sub)  문자열 s에 sub가 있으면 그 위치의 인덱스 값, 없으면 -1 반환    \r\n",
        "s.rfind(sub) s.find는 앞에서부터 sub를 찾으면 rfind는 뒤에서부터 찾는다"
      ]
    },
    {
      "cell_type": "code",
      "metadata": {
        "colab": {
          "base_uri": "https://localhost:8080/"
        },
        "id": "L9At-qcL9A6C",
        "outputId": "30e7157b-25f8-4872-bd39-40adddc24516"
      },
      "source": [
        "#6-4 문자열의 탐색 관련 함수들\r\n",
        "str = 'What is important is that you should choose what is best for you'\r\n",
        "str.find('is')  #맨 처음 나온 is가 있는 위치의 인덱스 값은?"
      ],
      "execution_count": null,
      "outputs": [
        {
          "output_type": "execute_result",
          "data": {
            "text/plain": [
              "5"
            ]
          },
          "metadata": {
            "tags": []
          },
          "execution_count": 88
        }
      ]
    },
    {
      "cell_type": "code",
      "metadata": {
        "colab": {
          "base_uri": "https://localhost:8080/"
        },
        "id": "pWaMymUgCJQD",
        "outputId": "98f35b53-dc1a-47a8-a637-58fb51d19a48"
      },
      "source": [
        "str = 'What is important is that you should choose what is best for you'\r\n",
        "str.rfind('is')  #마지막 is가 있는 위치의 인덱스 값은?"
      ],
      "execution_count": null,
      "outputs": [
        {
          "output_type": "execute_result",
          "data": {
            "text/plain": [
              "49"
            ]
          },
          "metadata": {
            "tags": []
          },
          "execution_count": 89
        }
      ]
    },
    {
      "cell_type": "markdown",
      "metadata": {
        "id": "IyiEnA4DCpPU"
      },
      "source": [
        "몇몇 문자 조합 = 이스케이프 문자"
      ]
    },
    {
      "cell_type": "code",
      "metadata": {
        "colab": {
          "base_uri": "https://localhost:8080/"
        },
        "id": "FvgS0sKJCPXb",
        "outputId": "9131b2a3-42d7-463d-9819-6ac85b1824de"
      },
      "source": [
        "#6-5 문자열의 일부로 포함이 되는 이스케이프 문자\r\n",
        "str = 'escape\\ncharacters'  #이스케이프 문자 \\n 중간 삽입\r\n",
        "print(str)"
      ],
      "execution_count": null,
      "outputs": [
        {
          "output_type": "stream",
          "text": [
            "escape\n",
            "characters\n"
          ],
          "name": "stdout"
        }
      ]
    },
    {
      "cell_type": "markdown",
      "metadata": {
        "id": "EdggCtoXC3tW"
      },
      "source": [
        "\\n 줄바꿈 \\t 탭 \\\\' 작은따옴표 출력 \\\\\" 큰따옴표 *출력*"
      ]
    },
    {
      "cell_type": "code",
      "metadata": {
        "colab": {
          "base_uri": "https://localhost:8080/",
          "height": 134
        },
        "id": "QvEx3L_6C1Cu",
        "outputId": "7b0d32c2-a453-4b6f-8703-ecaa5e8544bb"
      },
      "source": [
        "str = '제가 마음속으로 그랬습니다. '이건아니야.' 라고 말이죠'\r\n",
        "print(str)"
      ],
      "execution_count": null,
      "outputs": [
        {
          "output_type": "error",
          "ename": "SyntaxError",
          "evalue": "ignored",
          "traceback": [
            "\u001b[0;36m  File \u001b[0;32m\"<ipython-input-94-fc192c770510>\"\u001b[0;36m, line \u001b[0;32m1\u001b[0m\n\u001b[0;31m    str = '제가 마음속으로 그랬습니다. '이건아니야.' 라고 말이죠'\u001b[0m\n\u001b[0m                                ^\u001b[0m\n\u001b[0;31mSyntaxError\u001b[0m\u001b[0;31m:\u001b[0m invalid syntax\n"
          ]
        }
      ]
    },
    {
      "cell_type": "code",
      "metadata": {
        "colab": {
          "base_uri": "https://localhost:8080/",
          "height": 134
        },
        "id": "Ku_Qiu7TD8jc",
        "outputId": "a6f2084a-dbfe-4a93-d927-b10ea944cfaa"
      },
      "source": [
        "str = '제가 마음속으로 그랬습니다. \"이건아니야.' 라고 말이죠'\r\n",
        "print(str)"
      ],
      "execution_count": null,
      "outputs": [
        {
          "output_type": "error",
          "ename": "SyntaxError",
          "evalue": "ignored",
          "traceback": [
            "\u001b[0;36m  File \u001b[0;32m\"<ipython-input-96-b58fce18ca25>\"\u001b[0;36m, line \u001b[0;32m1\u001b[0m\n\u001b[0;31m    str = '제가 마음속으로 그랬습니다. \"이건아니야.' 라고 말이죠'\u001b[0m\n\u001b[0m                                     ^\u001b[0m\n\u001b[0;31mSyntaxError\u001b[0m\u001b[0;31m:\u001b[0m invalid syntax\n"
          ]
        }
      ]
    },
    {
      "cell_type": "markdown",
      "metadata": {
        "id": "DdffptNnDv_O"
      },
      "source": [
        "작은따옴표로 문자열을 묶고 그안에도 작음 따옴표를 쓰면 오류가 발생해 큰 따옴표로 묶어야한다(반대도마찬가지)"
      ]
    },
    {
      "cell_type": "code",
      "metadata": {
        "colab": {
          "base_uri": "https://localhost:8080/"
        },
        "id": "CKNh9nMJDmhU",
        "outputId": "17db2cd3-2339-4088-94ed-d3e6dff1fb60"
      },
      "source": [
        "str = \"제가 마음속으로 그랬습니다. '이건아니야.' 라고 말이죠\"\r\n",
        "print(str)"
      ],
      "execution_count": null,
      "outputs": [
        {
          "output_type": "stream",
          "text": [
            "제가 마음속으로 그랬습니다. '이건아니야.' 라고 말이죠\n"
          ],
          "name": "stdout"
        }
      ]
    },
    {
      "cell_type": "code",
      "metadata": {
        "colab": {
          "base_uri": "https://localhost:8080/"
        },
        "id": "tQJ-YTelEMss",
        "outputId": "287301a8-ee98-4999-beef-1e405c1a2219"
      },
      "source": [
        "s1 = '제가 마음속으로 그랬습니다. \\'이건아니야.\\' 라고 말이죠'  #제가 마음속으로 그랬습니다. '이건아니야.' 라고 말이죠\r\n",
        "s2 = \"제가 소리 질렀습니다. \\\"이건 아니야!\\\"라고 말이죠.\"   #제가 소리 질렀습니다. \"이건 아니야!\"라고 말이죠.\r\n",
        "print(s1)\r\n",
        "print(s2)"
      ],
      "execution_count": null,
      "outputs": [
        {
          "output_type": "stream",
          "text": [
            "제가 마음속으로 그랬습니다. '이건아니야.' 라고 말이죠\n",
            "제가 소리 질렀습니다. \"이건 아니야!\"라고 말이죠.\n"
          ],
          "name": "stdout"
        }
      ]
    },
    {
      "cell_type": "markdown",
      "metadata": {
        "id": "6LtF5SKJEuFI"
      },
      "source": [
        "이스케이프 문자 \\\\'  \\\\\"을 사용하면, 문자열을 무엇으로 묶던 상관하지 않고 큰따옴표와 작은따옴표를 문자열에 포함시킬 수 있다 "
      ]
    },
    {
      "cell_type": "code",
      "metadata": {
        "id": "OXJ2psnaEjkN"
      },
      "source": [
        "#6-6 함수가 아닌 del 명령\r\n",
        "st = [1, 2, 3, 4, 5]\r\n",
        "st.clear() #리스트의 모든 값 삭제\r\n",
        "st[:] = [] #리스트의 모든 값 삭제\r\n",
        "st[2:] = [] #인덱스 2 이후로 전부 삭제"
      ],
      "execution_count": null,
      "outputs": []
    },
    {
      "cell_type": "markdown",
      "metadata": {
        "id": "4kJ_odHAFYTI"
      },
      "source": [
        "이렇게 다양하게 리스트의 삭제가 가능하다(문자열은 불가)"
      ]
    },
    {
      "cell_type": "code",
      "metadata": {
        "colab": {
          "base_uri": "https://localhost:8080/"
        },
        "id": "-6zZxAKvFXar",
        "outputId": "07832101-530c-46eb-900c-4a9076eea3d5"
      },
      "source": [
        "st = [1, 2, 3, 4, 5]\r\n",
        "del st[:]  #리스트에 저장된 값 모두 삭제\r\n",
        "st"
      ],
      "execution_count": null,
      "outputs": [
        {
          "output_type": "execute_result",
          "data": {
            "text/plain": [
              "[]"
            ]
          },
          "metadata": {
            "tags": []
          },
          "execution_count": 99
        }
      ]
    },
    {
      "cell_type": "code",
      "metadata": {
        "colab": {
          "base_uri": "https://localhost:8080/"
        },
        "id": "IZCLBl6eFkqC",
        "outputId": "0297fa13-0f60-461b-9cee-c157e30214f5"
      },
      "source": [
        "st = [1, 2, 3, 4, 5]\r\n",
        "del st[3:]  #st[3]부터 그뒤까지 모두 삭제\r\n",
        "del st[0]   #st[0] 하나만 삭제\r\n",
        "st"
      ],
      "execution_count": null,
      "outputs": [
        {
          "output_type": "execute_result",
          "data": {
            "text/plain": [
              "[2, 3]"
            ]
          },
          "metadata": {
            "tags": []
          },
          "execution_count": 100
        }
      ]
    },
    {
      "cell_type": "code",
      "metadata": {
        "id": "I-vahXJNFxxo"
      },
      "source": [
        "st = [1, 2, 3, 4, 5]\r\n",
        "del st"
      ],
      "execution_count": null,
      "outputs": []
    },
    {
      "cell_type": "markdown",
      "metadata": {
        "id": "PN6VlylDF1x4"
      },
      "source": [
        "리스트를 통째로! 자체를 삭제할 때!"
      ]
    },
    {
      "cell_type": "markdown",
      "metadata": {
        "id": "xKX_Dj-5GHgw"
      },
      "source": [
        "True 참을 의미. 질문 내용이 맞는 경우 대답이되기도함   \r\n",
        "False 거짓을 의미. 질문 내용이 맞지 않는 경우 대답이 되기도 함\r\n"
      ]
    },
    {
      "cell_type": "code",
      "metadata": {
        "colab": {
          "base_uri": "https://localhost:8080/"
        },
        "id": "U07ipbWWF1A3",
        "outputId": "d5bcc600-6cd3-4e2a-8cb6-ac2b1091d60b"
      },
      "source": [
        "#7-1 참과 거짓을 의미하는 값(데이터)\r\n",
        "3>10 #False\r\n",
        "3<10 #True"
      ],
      "execution_count": null,
      "outputs": [
        {
          "output_type": "execute_result",
          "data": {
            "text/plain": [
              "True"
            ]
          },
          "metadata": {
            "tags": []
          },
          "execution_count": 104
        }
      ]
    },
    {
      "cell_type": "code",
      "metadata": {
        "colab": {
          "base_uri": "https://localhost:8080/"
        },
        "id": "EVRDY0xgGXDZ",
        "outputId": "da729a50-efc6-4029-bc24-dbd12b96fca6"
      },
      "source": [
        "r = 3 < 10  # < 연산의 결과인 true 가 변수 r에 저장됨\r\n",
        "r"
      ],
      "execution_count": null,
      "outputs": [
        {
          "output_type": "execute_result",
          "data": {
            "text/plain": [
              "True"
            ]
          },
          "metadata": {
            "tags": []
          },
          "execution_count": 105
        }
      ]
    },
    {
      "cell_type": "code",
      "metadata": {
        "colab": {
          "base_uri": "https://localhost:8080/"
        },
        "id": "OnGmY0YMGDwX",
        "outputId": "354975be-ccdb-4f69-b3ba-f71aa0be6265"
      },
      "source": [
        "type(True) #bool\r\n",
        "type(False) #bool"
      ],
      "execution_count": null,
      "outputs": [
        {
          "output_type": "execute_result",
          "data": {
            "text/plain": [
              "bool"
            ]
          },
          "metadata": {
            "tags": []
          },
          "execution_count": 107
        }
      ]
    },
    {
      "cell_type": "markdown",
      "metadata": {
        "id": "LW1UbEl5G49b"
      },
      "source": [
        "True, False = bool bool은 부울형 데이터, 부울형 값이라 한다    \r\n",
        "데이터 종류: int형 데이터, float형 데이터, 리스트형 데이터, 스트링형 데이터(문자), 부울형 데이터"
      ]
    },
    {
      "cell_type": "code",
      "metadata": {
        "colab": {
          "base_uri": "https://localhost:8080/"
        },
        "id": "OtKpANSEGu16",
        "outputId": "41bdccde-998d-43fb-b7f7-92aa67bc35f7"
      },
      "source": [
        "#7-2 소스파일에 main 함수 만들기\r\n",
        "#main.py\r\n",
        "def main():   #main 함수의 정의\r\n",
        "  print('Simple Frame')\r\n",
        "main()                 #main 함수의 호출을 명령"
      ],
      "execution_count": null,
      "outputs": [
        {
          "output_type": "stream",
          "text": [
            "Simple Frame\n"
          ],
          "name": "stdout"
        }
      ]
    },
    {
      "cell_type": "code",
      "metadata": {
        "colab": {
          "base_uri": "https://localhost:8080/"
        },
        "id": "sPAGXwJdHllF",
        "outputId": "82b10a70-3a50-4743-9f73-66e18f42ee8a"
      },
      "source": [
        "#7-3 if문: 조건이 맞으면 실행을 해라.\r\n",
        "#if_positive.py\r\n",
        "def main():   #main함수 정의\r\n",
        "  num = int(input(\"정수 입력: \"))\r\n",
        "  if num > 0:\r\n",
        "    print(\"양의 정수입니다.\")\r\n",
        "\r\n",
        "main()"
      ],
      "execution_count": null,
      "outputs": [
        {
          "output_type": "stream",
          "text": [
            "정수 입력: 2\n",
            "양의 정수입니다.\n"
          ],
          "name": "stdout"
        }
      ]
    },
    {
      "cell_type": "code",
      "metadata": {
        "colab": {
          "base_uri": "https://localhost:8080/"
        },
        "id": "Bb4Nv4nsc85g",
        "outputId": "d6678da6-38ed-48da-a518-1fc81c31ede6"
      },
      "source": [
        "num = 2\r\n",
        "if num > 0: print(\"양의 정수입니다.\")  #위에 내용을 한 줄에 모두담은 경우"
      ],
      "execution_count": null,
      "outputs": [
        {
          "output_type": "stream",
          "text": [
            "양의 정수입니다.\n"
          ],
          "name": "stdout"
        }
      ]
    },
    {
      "cell_type": "code",
      "metadata": {
        "colab": {
          "base_uri": "https://localhost:8080/"
        },
        "id": "Kb4GkqzLc7mB",
        "outputId": "85a98bf3-0155-4b0c-d8fb-1da16bc882a5"
      },
      "source": [
        "#7-4 if~else문: 이쪽 길! 아니면 저쪽 길!\r\n",
        "#if_else.py\r\n",
        "def main():\r\n",
        "  num = int(input(\"정수 입력: \"))\r\n",
        "  if num > 0:\r\n",
        "    print(\"0보다 큰 수입니다.\")   #num이 0보다 크면 이 문장 실행\r\n",
        "  else:\r\n",
        "    print(\"0보다 크지 않은 수입니다\")   #num이 0보다 크지 않으면 이 문장 실행\r\n",
        "main()"
      ],
      "execution_count": null,
      "outputs": [
        {
          "output_type": "stream",
          "text": [
            "정수 입력: -7\n",
            "0보다 크지 않은 수입니다\n"
          ],
          "name": "stdout"
        }
      ]
    },
    {
      "cell_type": "code",
      "metadata": {
        "colab": {
          "base_uri": "https://localhost:8080/"
        },
        "id": "aHc-UolJeflw",
        "outputId": "41ade405-ec06-42f8-a1be-89cda244df49"
      },
      "source": [
        "#7-5 if~elif~else문: 여러 길 중에서 하나의 길만 선택!\r\n",
        "#if_elif_else.py\r\n",
        "def main():                      #조건에 따라서 아래 문장 1, 2, 3중 하나만 실행이 된다\r\n",
        "  num = int(input(\"정수 입력: \"))\r\n",
        "  if num > 0:\r\n",
        "    print(\"0보다 큰 수입니다.\")\r\n",
        "  elif num < 0:\r\n",
        "    pirnt(\"0보다 작은 수입니다.\")\r\n",
        "  else:\r\n",
        "    print(\"0으로 판단이 됩니다\")\r\n",
        "main()"
      ],
      "execution_count": null,
      "outputs": [
        {
          "output_type": "stream",
          "text": [
            "정수 입력: 0\n",
            "0으로 판단이 됩니다\n"
          ],
          "name": "stdout"
        }
      ]
    },
    {
      "cell_type": "markdown",
      "metadata": {
        "id": "D3fhm61of63_"
      },
      "source": [
        "A >= Z  A가 Z보다 크거나 같으면 TRUE아니면 FALSE   \r\n",
        "A <= Z  A가 Z보다 작거나 같으면 FALSE 아니면 TRUE    \r\n",
        "A == Z  A와 Z가 같으면 TRUE, 같지 않으면 FALSE를 반환    \r\n",
        "A != Z  A와 Z가 같지 않으면 TRUE, 같으면 FLASE반환"
      ]
    },
    {
      "cell_type": "code",
      "metadata": {
        "colab": {
          "base_uri": "https://localhost:8080/"
        },
        "id": "dch7M769fpXP",
        "outputId": "698e2839-e2f5-48d4-c532-78176ddff604"
      },
      "source": [
        "#7-6 True 또는 False를 반환하는 연산들\r\n",
        "#if_elif_else2.py\r\n",
        "def main():\r\n",
        "  num = int(input(\"정수 입력: \"))\r\n",
        "  if num == 1:                 \r\n",
        "    print(\"1을 입력했습니다.\")\r\n",
        "  elif num == 2:\r\n",
        "    print(\"2를 입력했습니다.\")\r\n",
        "  elif num == 3:\r\n",
        "    print(\"3을 입력했습니다.\")\r\n",
        "  else:\r\n",
        "    print(\"1, 2, 3 아닌 정수 입력했습니다.\")\r\n",
        "main()"
      ],
      "execution_count": null,
      "outputs": [
        {
          "output_type": "stream",
          "text": [
            "정수 입력: 4\n",
            "1, 2, 3 아닌 정수 입력했습니다.\n"
          ],
          "name": "stdout"
        }
      ]
    },
    {
      "cell_type": "code",
      "metadata": {
        "colab": {
          "base_uri": "https://localhost:8080/"
        },
        "id": "ArHqvp_fhLe4",
        "outputId": "d71d434b-9318-495b-c4e6-1ad7780413e8"
      },
      "source": [
        "#if_and_if.py\r\n",
        "def main():\r\n",
        "  num = int(input(\"2의 배수이면서 3의 배수인 수 입력: \"))\r\n",
        "  if num % 2 == 0:  #연산 순서 구분되게 (num % 2) == 0으로 입력 가능\r\n",
        "    if num % 3 == 0:  #연산 순서 구분되게 (num % 3) == 0으로 입력 가능\r\n",
        "      print(\"ok!\")\r\n",
        "    else:\r\n",
        "      print(\"no!\")\r\n",
        "  else:\r\n",
        "    print(\"no!\")\r\n",
        "main()"
      ],
      "execution_count": null,
      "outputs": [
        {
          "output_type": "stream",
          "text": [
            "2의 배수이면서 3의 배수인 수 입력: 12\n",
            "ok!\n"
          ],
          "name": "stdout"
        }
      ]
    },
    {
      "cell_type": "markdown",
      "metadata": {
        "id": "rQJ0ZAF_iaJb"
      },
      "source": [
        "if~ *else문* 영역 안에 또 하나의 if~ else문이 들어가 있는 구조"
      ]
    },
    {
      "cell_type": "code",
      "metadata": {
        "colab": {
          "base_uri": "https://localhost:8080/"
        },
        "id": "EuDCjWU6iRMd",
        "outputId": "6101fc01-3a14-48b4-af65-563ebadd1c81"
      },
      "source": [
        "True and True  #True 이 문장에서 ture는 값, and는 연산자"
      ],
      "execution_count": null,
      "outputs": [
        {
          "output_type": "execute_result",
          "data": {
            "text/plain": [
              "True"
            ]
          },
          "metadata": {
            "tags": []
          },
          "execution_count": 15
        }
      ]
    },
    {
      "cell_type": "code",
      "metadata": {
        "colab": {
          "base_uri": "https://localhost:8080/"
        },
        "id": "iIW3aS2KiypB",
        "outputId": "75d3d3db-1084-4042-c25d-1d404211fd63"
      },
      "source": [
        "True and False #이 문장에서 true, false는 값이고 and는 연산자"
      ],
      "execution_count": null,
      "outputs": [
        {
          "output_type": "execute_result",
          "data": {
            "text/plain": [
              "False"
            ]
          },
          "metadata": {
            "tags": []
          },
          "execution_count": 16
        }
      ]
    },
    {
      "cell_type": "code",
      "metadata": {
        "colab": {
          "base_uri": "https://localhost:8080/"
        },
        "id": "lRdllwoZjAH4",
        "outputId": "24ff6514-c3dd-42d4-8e8f-317e5e89b777"
      },
      "source": [
        "True or False #True\r\n",
        "False or False #False\r\n",
        "not False #True\r\n",
        "not True #False "
      ],
      "execution_count": null,
      "outputs": [
        {
          "output_type": "execute_result",
          "data": {
            "text/plain": [
              "False"
            ]
          },
          "metadata": {
            "tags": []
          },
          "execution_count": 18
        }
      ]
    },
    {
      "cell_type": "markdown",
      "metadata": {
        "id": "9w99VLFtjVlO"
      },
      "source": [
        "A and Z  A와 Z가 모두 TRUE면 TURE, 그렇지 않으면 FALSE반환    \r\n",
        "A or Z   A와 Z 둘 중 하나라도 TURE면 TURE, 그렇지 않으면 FALSE 반환    \r\n",
        "not A     A가 TURE면 FLASE, A가 FALSE면 TRUE 반환"
      ]
    },
    {
      "cell_type": "code",
      "metadata": {
        "colab": {
          "base_uri": "https://localhost:8080/"
        },
        "id": "BVUJthN5jKwj",
        "outputId": "8c3e57f3-5550-4bf7-8a60-26083ec387bf"
      },
      "source": [
        "num = 6\r\n",
        "(num % 2) == 0 and (num % 3) == 0  #소괄호 없어도 됨"
      ],
      "execution_count": null,
      "outputs": [
        {
          "output_type": "execute_result",
          "data": {
            "text/plain": [
              "True"
            ]
          },
          "metadata": {
            "tags": []
          },
          "execution_count": 19
        }
      ]
    },
    {
      "cell_type": "code",
      "metadata": {
        "colab": {
          "base_uri": "https://localhost:8080/"
        },
        "id": "dFcpFYn4j95i",
        "outputId": "e73b5f42-555f-467f-885c-ef06a4e0e6a1"
      },
      "source": [
        "#and.py\r\n",
        "def main():\r\n",
        "  num = int(input(\"2의 배수이면서 3의 배수인 수 입력: \"))\r\n",
        "  if (num % 2) == 0 and (num % 3) == 0:  #num이 2와 3의 배수이면 조건 true\r\n",
        "    print(\"ok!\")\r\n",
        "  else:\r\n",
        "    print(\"no!\")\r\n",
        "main()"
      ],
      "execution_count": null,
      "outputs": [
        {
          "output_type": "stream",
          "text": [
            "2의 배수이면서 3의 배수인 수 입력: 24\n",
            "ok!\n"
          ],
          "name": "stdout"
        }
      ]
    },
    {
      "cell_type": "code",
      "metadata": {
        "colab": {
          "base_uri": "https://localhost:8080/"
        },
        "id": "lvCj9ysdkk73",
        "outputId": "18bb058f-2a08-422c-a512-1b9f22827105"
      },
      "source": [
        "#연습문제 07-1 문제1\r\n",
        "def main():\r\n",
        "  num = int(input())\r\n",
        "  if num >= 0:\r\n",
        "    print(\"입력한 값은 0이거나 0보다 큽니다\")\r\n",
        "  else:\r\n",
        "    print(\"입력한 값은 0보다 작습니다\")\r\n",
        "main()"
      ],
      "execution_count": null,
      "outputs": [
        {
          "output_type": "stream",
          "text": [
            "2\n",
            "입력한 값은 0이거나 0보다 큽니다\n"
          ],
          "name": "stdout"
        }
      ]
    },
    {
      "cell_type": "code",
      "metadata": {
        "colab": {
          "base_uri": "https://localhost:8080/"
        },
        "id": "SMothGdSlbuq",
        "outputId": "b74e9500-7cf3-4142-cee8-c142cbe8e40d"
      },
      "source": [
        "#연습문제 07-1 문제2\r\n",
        "num = 3\r\n",
        "num > 1 and num < 5"
      ],
      "execution_count": null,
      "outputs": [
        {
          "output_type": "execute_result",
          "data": {
            "text/plain": [
              "True"
            ]
          },
          "metadata": {
            "tags": []
          },
          "execution_count": 30
        }
      ]
    },
    {
      "cell_type": "code",
      "metadata": {
        "colab": {
          "base_uri": "https://localhost:8080/"
        },
        "id": "6mfDUh1EmGnx",
        "outputId": "d2950148-7aac-428f-c417-6b6ad29d3631"
      },
      "source": [
        "#연습문제 07-1 문제3\r\n",
        "num = 12\r\n",
        "num <3 or num > 10"
      ],
      "execution_count": null,
      "outputs": [
        {
          "output_type": "execute_result",
          "data": {
            "text/plain": [
              "True"
            ]
          },
          "metadata": {
            "tags": []
          },
          "execution_count": 31
        }
      ]
    },
    {
      "cell_type": "code",
      "metadata": {
        "colab": {
          "base_uri": "https://localhost:8080/"
        },
        "id": "9dV5oj8NmaUE",
        "outputId": "7e0d948c-7e9f-4c48-822a-2e57caaf9f94"
      },
      "source": [
        "#연습문제 07-1 문제4\r\n",
        "num = 4\r\n",
        "num % 2 == 0 and num % 3!= 0"
      ],
      "execution_count": null,
      "outputs": [
        {
          "output_type": "execute_result",
          "data": {
            "text/plain": [
              "True"
            ]
          },
          "metadata": {
            "tags": []
          },
          "execution_count": 45
        }
      ]
    },
    {
      "cell_type": "code",
      "metadata": {
        "id": "11HMqLswn0rx"
      },
      "source": [
        ""
      ],
      "execution_count": null,
      "outputs": []
    },
    {
      "cell_type": "code",
      "metadata": {
        "colab": {
          "base_uri": "https://localhost:8080/"
        },
        "id": "YEjCwcrollLh",
        "outputId": "9360b658-819c-4029-dab0-ab0f81f790fb"
      },
      "source": [
        "#연습문제 07-1 문제5\r\n",
        "def main():\r\n",
        "  num = int(input())\r\n",
        "  if num < 0:\r\n",
        "    print(\"입력한 값은 0보다 작습니다\")\r\n",
        "  elif 0 <= num < 10:\r\n",
        "    print(\"입력한 값은 0 이상 10 미만입니다.\")\r\n",
        "  elif 10 <= num < 20:\r\n",
        "    print(\"입력한 값은 10이상 20 미만입니다\")\r\n",
        "  else:\r\n",
        "    print(\"입력한 값은 20 이상입니다.\")\r\n",
        "main()"
      ],
      "execution_count": null,
      "outputs": [
        {
          "output_type": "stream",
          "text": [
            "30\n",
            "입력한 값은 20 이상입니다.\n"
          ],
          "name": "stdout"
        }
      ]
    },
    {
      "cell_type": "code",
      "metadata": {
        "colab": {
          "base_uri": "https://localhost:8080/"
        },
        "id": "F0_O66tZjDZi",
        "outputId": "2eb72629-0341-47f9-f770-3fca608a3562"
      },
      "source": [
        "#7-7 리스트와 문자열을 대상으로도 동작하는 >=, <=, ==, !=\r\n",
        "'abc' == 'abc'  #true 두 문자열이 같은가?\r\n",
        "'abc' != 'abc'  #flase 두 문자열이 다른가?"
      ],
      "execution_count": null,
      "outputs": [
        {
          "output_type": "execute_result",
          "data": {
            "text/plain": [
              "False"
            ]
          },
          "metadata": {
            "tags": []
          },
          "execution_count": 46
        }
      ]
    },
    {
      "cell_type": "code",
      "metadata": {
        "colab": {
          "base_uri": "https://localhost:8080/"
        },
        "id": "KSrPYE9epIaY",
        "outputId": "fdc943cd-aedb-4fe8-ae62-21be0946cdb4"
      },
      "source": [
        "[1, 2, 3] == [1, 2]  #flase 두 리스트가 같은가?\r\n",
        "[1, 2, 3] != [1, 2]  #true 두 리스트가 다른가?"
      ],
      "execution_count": null,
      "outputs": [
        {
          "output_type": "execute_result",
          "data": {
            "text/plain": [
              "True"
            ]
          },
          "metadata": {
            "tags": []
          },
          "execution_count": 47
        }
      ]
    },
    {
      "cell_type": "markdown",
      "metadata": {
        "id": "tez-9o7apdng"
      },
      "source": [
        "s.isdigit()  문자열 s가 숫자로만 이뤄져 있으면 true, 아니면 false 반환    \r\n",
        "s.isalpha()  문자열 s가 알파벳으로만 이뤄져 있으면 true, 아니면 false 반환    \r\n",
        "s.startswith(prefix)  문자열 s가 prefix로 시작하면 true, 아니면 false 반환    \r\n",
        "s.endswith(suffix)  문자열 s가 suffix로 끝나면 true, 아니면 false 반환"
      ]
    },
    {
      "cell_type": "code",
      "metadata": {
        "colab": {
          "base_uri": "https://localhost:8080/"
        },
        "id": "gCtVde1NpTeA",
        "outputId": "7bef6281-1435-4168-931a-c44f8ae1a546"
      },
      "source": [
        "#7-8 true 또는 false 로 답하는 함수들\r\n",
        "st1 = '123'\r\n",
        "st2 = 'OneTwoThree'\r\n",
        "st1.isdigit()  #True 숫자로만 이루어졌는지\r\n",
        "st2.isdigit()  #False 숫자로만 이루어졌는지"
      ],
      "execution_count": null,
      "outputs": [
        {
          "output_type": "execute_result",
          "data": {
            "text/plain": [
              "False"
            ]
          },
          "metadata": {
            "tags": []
          },
          "execution_count": 2
        }
      ]
    },
    {
      "cell_type": "code",
      "metadata": {
        "colab": {
          "base_uri": "https://localhost:8080/"
        },
        "id": "xAM6wr1GBrId",
        "outputId": "9bf62cb8-febd-412f-e9bf-185e672c4fa6"
      },
      "source": [
        "st1 = '123'\r\n",
        "st2 = 'OneTwoThree'\r\n",
        "st1.isdigit()  #True 숫자로만 이루어졌는지\r\n",
        "st2.isalpha()  #true 알파벳으로만 이루어졌는지"
      ],
      "execution_count": null,
      "outputs": [
        {
          "output_type": "execute_result",
          "data": {
            "text/plain": [
              "True"
            ]
          },
          "metadata": {
            "tags": []
          },
          "execution_count": 3
        }
      ]
    },
    {
      "cell_type": "code",
      "metadata": {
        "colab": {
          "base_uri": "https://localhost:8080/"
        },
        "id": "cUi2SCX-CEl_",
        "outputId": "4a8700b2-3150-4cbf-92df-184a56c312a0"
      },
      "source": [
        "str = 'Supersprint'\r\n",
        "str.startswith(\"Super\")  #true 문자열이 super로 시작하느지\r\n",
        "str.endswith('int')   #true 문자열이 int로 끝나는지"
      ],
      "execution_count": null,
      "outputs": [
        {
          "output_type": "execute_result",
          "data": {
            "text/plain": [
              "True"
            ]
          },
          "metadata": {
            "tags": []
          },
          "execution_count": 5
        }
      ]
    },
    {
      "cell_type": "code",
      "metadata": {
        "colab": {
          "base_uri": "https://localhost:8080/"
        },
        "id": "hoD8dseZCWvW",
        "outputId": "d5c1095b-16ed-45e9-c759-46953e55037c"
      },
      "source": [
        "#is_phone_num.py\r\n",
        "def main():\r\n",
        "  pnum = input(\"스마트폰 번호 입력: \")\r\n",
        "  if pnum.isdigit() and pnum.startswith(\"010\"):\r\n",
        "    print(\"정상적인 입력입니다.\")\r\n",
        "  else:\r\n",
        "    print(\"정상적이지 않은 입력입니다.\")\r\n",
        "main()"
      ],
      "execution_count": null,
      "outputs": [
        {
          "output_type": "stream",
          "text": [
            "스마트폰 번호 입력: 01023993999\n",
            "정상적인 입력입니다.\n"
          ],
          "name": "stdout"
        }
      ]
    },
    {
      "cell_type": "code",
      "metadata": {
        "colab": {
          "base_uri": "https://localhost:8080/"
        },
        "id": "zszMkwZpC1fa",
        "outputId": "2f95d410-66bc-4f69-f47a-53405886ea48"
      },
      "source": [
        "#7-9 in, not in\r\n",
        "s = \"Tomato spaghetti\"\r\n",
        "if s.find(\"ghe\") != -1:       #ghe 가 없으면 find함수는 -1을 반환하기때문에 사용 not != 를 씀\r\n",
        "  print(\"있습니다.\")\r\n",
        "else:\r\n",
        "  print(\"없습니다.\")"
      ],
      "execution_count": null,
      "outputs": [
        {
          "output_type": "stream",
          "text": [
            "있습니다.\n"
          ],
          "name": "stdout"
        }
      ]
    },
    {
      "cell_type": "markdown",
      "metadata": {
        "id": "gjuka_H9D74u"
      },
      "source": [
        "ghe 가 없으면 find함수는 -1을 반환하기때문에 반환하는 값이 -1인지 확인하는 방식으로 사용 not != 를 씀\r\n"
      ]
    },
    {
      "cell_type": "code",
      "metadata": {
        "colab": {
          "base_uri": "https://localhost:8080/"
        },
        "id": "ryb2k8x6DeV-",
        "outputId": "08eae3b1-41d5-4a5f-a261-35556fecc2f5"
      },
      "source": [
        "s = \"Tomato spaghetti\"\r\n",
        "if 'ghe' in s:\r\n",
        "  print(\"있습니다.\")\r\n",
        "else:\r\n",
        "  print(\"없습니다.\")"
      ],
      "execution_count": null,
      "outputs": [
        {
          "output_type": "stream",
          "text": [
            "있습니다.\n"
          ],
          "name": "stdout"
        }
      ]
    },
    {
      "cell_type": "markdown",
      "metadata": {
        "id": "F87bdomfEHa8"
      },
      "source": [
        "find 함수대신 in 연산자를 사용해서 확인하는 방법도  있다 (존재의 유무만 확인하고자는 in연산자가 좋지만 찾는 내용의 위치 정보가 필요하다면 find 함수를 사용하는 게 좋음)"
      ]
    },
    {
      "cell_type": "code",
      "metadata": {
        "colab": {
          "base_uri": "https://localhost:8080/"
        },
        "id": "XqP0juYdD1g3",
        "outputId": "e5d7629d-cb2a-48e3-8ca3-c64616716243"
      },
      "source": [
        "3 in [1, 2, 3]  #True 리스트 안에 3이 있는가\r\n",
        "4 in [1, 2, 3]  #false 리스트 안에 4가 있는가"
      ],
      "execution_count": null,
      "outputs": [
        {
          "output_type": "execute_result",
          "data": {
            "text/plain": [
              "False"
            ]
          },
          "metadata": {
            "tags": []
          },
          "execution_count": 12
        }
      ]
    },
    {
      "cell_type": "markdown",
      "metadata": {
        "id": "jIaApe0NEkJw"
      },
      "source": [
        "e in S   S에 e가 있으면 true, 없으면 false를 반환  \r\n",
        "e not in S   S에 e가 없으면 true, 있으면 flase를 반환"
      ]
    },
    {
      "cell_type": "code",
      "metadata": {
        "colab": {
          "base_uri": "https://localhost:8080/"
        },
        "id": "lX9MMmUxEbSH",
        "outputId": "e8eb1cec-ac23-4a50-b67e-b528259d976e"
      },
      "source": [
        "3 not in [1, 2, 3]  #false 리스트 안에 3이 없는가\r\n",
        "4 not in [1, 2, 3]  #true 리스트 안에 4가 없는가\r\n",
        "'he' not in \"hello\" #false he는 hello의 일부가 아닌가\r\n",
        "'oo' not in 'hello' #true  oo는 hello의 일부가 아닌가"
      ],
      "execution_count": null,
      "outputs": [
        {
          "output_type": "execute_result",
          "data": {
            "text/plain": [
              "True"
            ]
          },
          "metadata": {
            "tags": []
          },
          "execution_count": 13
        }
      ]
    },
    {
      "cell_type": "markdown",
      "metadata": {
        "id": "jAlhsbTmFNOl"
      },
      "source": [
        "and 둘 다 true인가, or 둘 중 하나라도 true인가, not 바꿔라!, in 들어 있는가, not in 들어 있지 않은가"
      ]
    },
    {
      "cell_type": "code",
      "metadata": {
        "colab": {
          "base_uri": "https://localhost:8080/"
        },
        "id": "joVZ45DCCQMr",
        "outputId": "c08efae4-5753-400b-f6ed-70da45f069fa"
      },
      "source": [
        "#연습문제 7-2 \r\n",
        "def main():\r\n",
        "  num = input(\"정수 입력: \")\r\n",
        "  if num.isdigit():\r\n",
        "    print(int(num)**2)\r\n",
        "  else:\r\n",
        "    print(\"정수가 아닙니다.\")\r\n",
        "main()"
      ],
      "execution_count": null,
      "outputs": [
        {
          "output_type": "stream",
          "text": [
            "정수 입력: 5\n",
            "25\n"
          ],
          "name": "stdout"
        }
      ]
    },
    {
      "cell_type": "code",
      "metadata": {
        "colab": {
          "base_uri": "https://localhost:8080/"
        },
        "id": "8V37Il3xF5nQ",
        "outputId": "4ceec0d5-c492-4db6-fd0c-ba713fc226df"
      },
      "source": [
        "#7-10 수(number)를 true와 false로 인식하는 방법\r\n",
        "if True:\r\n",
        "  print(\"사실입니다.\")\r\n"
      ],
      "execution_count": null,
      "outputs": [
        {
          "output_type": "stream",
          "text": [
            "사실입니다.\n"
          ],
          "name": "stdout"
        }
      ]
    },
    {
      "cell_type": "markdown",
      "metadata": {
        "id": "wvH1eFNZGoGc"
      },
      "source": [
        "앞서 배운 if문은 조건에 맞춰 true나 false가 나왓지만 필요하다면 위와 같이 조건 위치에 직접 true나 false를 넣어도 됨"
      ]
    },
    {
      "cell_type": "code",
      "metadata": {
        "colab": {
          "base_uri": "https://localhost:8080/"
        },
        "id": "BUX6RJRvBi_p",
        "outputId": "f119855c-9692-4eed-9d0c-4e4542db26e9"
      },
      "source": [
        "what = True\r\n",
        "if what:\r\n",
        "  print(\"사실입니다.\")"
      ],
      "execution_count": null,
      "outputs": [
        {
          "output_type": "stream",
          "text": [
            "사실입니다.\n"
          ],
          "name": "stdout"
        }
      ]
    },
    {
      "cell_type": "markdown",
      "metadata": {
        "id": "Vp0vqL3MHJlA"
      },
      "source": [
        "위와같이 true를 변수에 담아서 조건에 넣어도 됨"
      ]
    },
    {
      "cell_type": "code",
      "metadata": {
        "colab": {
          "base_uri": "https://localhost:8080/"
        },
        "id": "IFHkJXaWHIWv",
        "outputId": "cf95494e-0fb8-4ad2-adfc-3bce47ee0ad3"
      },
      "source": [
        "num = 1\r\n",
        "if num:\r\n",
        "  print(\"0이 아닙니다.\")\r\n"
      ],
      "execution_count": null,
      "outputs": [
        {
          "output_type": "stream",
          "text": [
            "0이 아닙니다.\n"
          ],
          "name": "stdout"
        }
      ]
    },
    {
      "cell_type": "code",
      "metadata": {
        "colab": {
          "base_uri": "https://localhost:8080/"
        },
        "id": "RWoXhlQaHsv3",
        "outputId": "54e4e15a-2ede-4d26-b9b3-f3e9c80d3e3c"
      },
      "source": [
        "num = 5\r\n",
        "if num:\r\n",
        "  print(\"0 아닙니다.\")\r\n",
        "else:\r\n",
        "  print(\"0이 맞습니다.\")"
      ],
      "execution_count": null,
      "outputs": [
        {
          "output_type": "stream",
          "text": [
            "0 아닙니다.\n"
          ],
          "name": "stdout"
        }
      ]
    },
    {
      "cell_type": "markdown",
      "metadata": {
        "id": "NhEOPFS0H4hx"
      },
      "source": [
        "true나 false가 와야할 위치에 수가 등장하면     \r\n",
        "0이 오는 경우 false가 오는 것으로 간주    \r\n",
        " 0아닌 수가 오는 경우 true가 온 것으로 간주"
      ]
    },
    {
      "cell_type": "code",
      "metadata": {
        "colab": {
          "base_uri": "https://localhost:8080/"
        },
        "id": "7eEfVxL_H1Po",
        "outputId": "8c741d94-7aa3-4d75-b981-44d773b3cc87"
      },
      "source": [
        "num = 1\r\n",
        "if num != 0:  #0 아니라면 true\r\n",
        "  print(\"num은 0 아닙니다.\")"
      ],
      "execution_count": null,
      "outputs": [
        {
          "output_type": "stream",
          "text": [
            "num은 0 아닙니다.\n"
          ],
          "name": "stdout"
        }
      ]
    },
    {
      "cell_type": "code",
      "metadata": {
        "colab": {
          "base_uri": "https://localhost:8080/"
        },
        "id": "RuoRKIWdJ_oE",
        "outputId": "77602c9c-821f-459c-9e34-6d7149f53d57"
      },
      "source": [
        "num = 1\r\n",
        "if num:\r\n",
        "  print(\"num은 0 아닙니다.\")"
      ],
      "execution_count": null,
      "outputs": [
        {
          "output_type": "stream",
          "text": [
            "num은 0 아닙니다.\n"
          ],
          "name": "stdout"
        }
      ]
    },
    {
      "cell_type": "code",
      "metadata": {
        "colab": {
          "base_uri": "https://localhost:8080/"
        },
        "id": "5xuzcNyDKGDG",
        "outputId": "23449541-d4bc-44ee-9476-4c8bf6f05b0b"
      },
      "source": [
        "bool(5)"
      ],
      "execution_count": null,
      "outputs": [
        {
          "output_type": "execute_result",
          "data": {
            "text/plain": [
              "True"
            ]
          },
          "metadata": {
            "tags": []
          },
          "execution_count": 27
        }
      ]
    },
    {
      "cell_type": "code",
      "metadata": {
        "colab": {
          "base_uri": "https://localhost:8080/"
        },
        "id": "kU62ZCfgKONB",
        "outputId": "477415ae-f393-41c1-f000-78f79c6b4061"
      },
      "source": [
        "bool(\"what\")  #True\r\n",
        "bool(\"\")    #False 텅 빈 문자열은 false"
      ],
      "execution_count": null,
      "outputs": [
        {
          "output_type": "execute_result",
          "data": {
            "text/plain": [
              "False"
            ]
          },
          "metadata": {
            "tags": []
          },
          "execution_count": 30
        }
      ]
    },
    {
      "cell_type": "code",
      "metadata": {
        "colab": {
          "base_uri": "https://localhost:8080/"
        },
        "id": "dU--4wLoKRAC",
        "outputId": "748dd4cf-240a-4e82-93af-f43d61c5aac6"
      },
      "source": [
        "bool([1, 2, 3]) #True\r\n",
        "bool([])  #False"
      ],
      "execution_count": null,
      "outputs": [
        {
          "output_type": "execute_result",
          "data": {
            "text/plain": [
              "False"
            ]
          },
          "metadata": {
            "tags": []
          },
          "execution_count": 32
        }
      ]
    },
    {
      "cell_type": "markdown",
      "metadata": {
        "id": "VtWe8Ap6KmIR"
      },
      "source": [
        "빈 문자열, 리스트는 false, 비어 있지 않은 문자열, 리스트는 true"
      ]
    },
    {
      "cell_type": "code",
      "metadata": {
        "colab": {
          "base_uri": "https://localhost:8080/"
        },
        "id": "IQ62IoftK0Iv",
        "outputId": "ec9eb428-3545-4fde-f33d-611027eff429"
      },
      "source": [
        "#8-1 for루프에 대한 복습\r\n",
        "#for_sum.py\r\n",
        "def main():\r\n",
        "  sum = 0\r\n",
        "  for i in [1, 2, 3, 4, 5, 6, 7, 8, 9,10]:\r\n",
        "    sum = sum + i  #sum에 저장된 값을 i에 저장된 값만큼 증가시킴\r\n",
        "  print(\"sum =\", sum, end = ' ')\r\n",
        "main()"
      ],
      "execution_count": null,
      "outputs": [
        {
          "output_type": "stream",
          "text": [
            "sum = 55\n"
          ],
          "name": "stdout"
        }
      ]
    },
    {
      "cell_type": "code",
      "metadata": {
        "colab": {
          "base_uri": "https://localhost:8080/"
        },
        "id": "BiKZvWiHLN1X",
        "outputId": "0a34e0d0-4ef6-47c8-bddd-cd42d72f3095"
      },
      "source": [
        "#for_sum_range.py\r\n",
        "def main():\r\n",
        "  sum = 0\r\n",
        "  for i in range(1, 11):  #변수 i에 1부터 11이전의 값까지 넣어가며 반복\r\n",
        "   sum = sum + i\r\n",
        "  print(\"sum =\", sum, end = \" \")\r\n",
        "main()"
      ],
      "execution_count": null,
      "outputs": [
        {
          "output_type": "stream",
          "text": [
            "sum = 55 "
          ],
          "name": "stdout"
        }
      ]
    },
    {
      "cell_type": "markdown",
      "metadata": {
        "id": "oBIptZgkL8qu"
      },
      "source": [
        "while 루프는 \r\n",
        "while <조건>:\r\n",
        "  <조건이 true인 경우 반복 실행할 문장>"
      ]
    },
    {
      "cell_type": "code",
      "metadata": {
        "colab": {
          "base_uri": "https://localhost:8080/"
        },
        "id": "mOzxUP-TLy6D",
        "outputId": "5fe9e20f-a5ff-48d8-fa76-6bcc09ad45d6"
      },
      "source": [
        "#8-2 true가 될 때까지 반복하는 while 루프\r\n",
        "#while_baisc.py\r\n",
        "def main():\r\n",
        "  cnt = 0\r\n",
        "  while cnt < 3:  #cnt의 값이 3보다 작으면 반복\r\n",
        "    print(cnt, end = \" \")  #뒤에 end를 안붙이면 줄바꿈이 됨\r\n",
        "    cnt = cnt + 1  #cnt에 저장된 값을 1 증가\r\n",
        "main()"
      ],
      "execution_count": null,
      "outputs": [
        {
          "output_type": "stream",
          "text": [
            "0 1 2 "
          ],
          "name": "stdout"
        }
      ]
    },
    {
      "cell_type": "markdown",
      "metadata": {
        "id": "L2NOfSuzMmjf"
      },
      "source": [
        "cnt가 0이기에 조건이 true라서 1, 2가 될 때까지 반복하다가 3이되면 false 라서 루프를 탈출    \r\n",
        "while루프의 조건은 반복을 위한 조건"
      ]
    },
    {
      "cell_type": "code",
      "metadata": {
        "colab": {
          "base_uri": "https://localhost:8080/"
        },
        "id": "GUZwdLQaMaCt",
        "outputId": "be43c6d3-602a-4353-ede9-61b9eeb6ccba"
      },
      "source": [
        "#8-3 for 루프와 while 루프의 비교\r\n",
        "#while_sum.py\r\n",
        "def main():\r\n",
        "  i = 1\r\n",
        "  sum = 0  #1부터 10까지의 합이 이 변수에 저장된다\r\n",
        "  while i < 11:\r\n",
        "    sum = sum + i  #sum의 값을 i 만큼 증가\r\n",
        "    i = i + 1  #i 값을 1만큼 증가\r\n",
        "  print(\"sum =\", sum, end = \" \")\r\n",
        "main()"
      ],
      "execution_count": null,
      "outputs": [
        {
          "output_type": "stream",
          "text": [
            "sum = 55 "
          ],
          "name": "stdout"
        }
      ]
    },
    {
      "cell_type": "code",
      "metadata": {
        "colab": {
          "base_uri": "https://localhost:8080/"
        },
        "id": "7aECgC5WNdOZ",
        "outputId": "18b63349-fe36-40e8-d980-de90774c051c"
      },
      "source": [
        "#while_over100.py\r\n",
        "def main():\r\n",
        "  i = 1\r\n",
        "  sum = 0\r\n",
        "  while sum <= 100: #sum의 값이 100 이하인 경우에만 반복을 해라!\r\n",
        "    sum = sum + i\r\n",
        "    i = i + 1\r\n",
        "  print(i, \"더했을 때의 합\", sum, end = ' ')\r\n",
        "main()"
      ],
      "execution_count": null,
      "outputs": [
        {
          "output_type": "stream",
          "text": [
            "15 더했을 때의 합 105 "
          ],
          "name": "stdout"
        }
      ]
    },
    {
      "cell_type": "markdown",
      "metadata": {
        "id": "vOorB1ExN8xc"
      },
      "source": [
        "1부터 더해 나가다가 몀ㅊ을 더했을 때 처음으로 100을 넘기는 순간은?    \r\n",
        "이렇듯 반복의 횟수가 정해지지 않은경우 while루프를 이용하는 것이 더 자연스럽다"
      ]
    },
    {
      "cell_type": "code",
      "metadata": {
        "colab": {
          "base_uri": "https://localhost:8080/"
        },
        "id": "XuqOwkdJOaML",
        "outputId": "76511dcb-55c8-47c1-99d4-cf44f7fd5a0c"
      },
      "source": [
        "#연습문제 08-1 1번문제\r\n",
        "i = 0\r\n",
        "while i < 10:\r\n",
        "  print(i, end=' ')\r\n",
        "  i = i + 1"
      ],
      "execution_count": null,
      "outputs": [
        {
          "output_type": "stream",
          "text": [
            "0 1 2 3 4 5 6 7 8 9 "
          ],
          "name": "stdout"
        }
      ]
    },
    {
      "cell_type": "code",
      "metadata": {
        "colab": {
          "base_uri": "https://localhost:8080/"
        },
        "id": "MMkINIC4OeT_",
        "outputId": "3cd48248-577e-440b-daaa-94c389a7c24d"
      },
      "source": [
        "#연습문제 08-1 2번문제\r\n",
        "num = 9\r\n",
        "while num >= 0:\r\n",
        "  print(num, end=' ')\r\n",
        "  num = num -1"
      ],
      "execution_count": null,
      "outputs": [
        {
          "output_type": "stream",
          "text": [
            "9 8 7 6 5 4 3 2 1 0 "
          ],
          "name": "stdout"
        }
      ]
    },
    {
      "cell_type": "code",
      "metadata": {
        "colab": {
          "base_uri": "https://localhost:8080/"
        },
        "id": "5VQmXWloOeqH",
        "outputId": "3d7517d6-ed10-446a-a8c0-b70b31b60d4f"
      },
      "source": [
        "#연습문제 08-1 3번문제\r\n",
        "num = 0\r\n",
        "i = 0\r\n",
        "while i != 63:\r\n",
        "  num = num + 1\r\n",
        "  i = 3*num / 2\r\n",
        "\r\n",
        "num"
      ],
      "execution_count": null,
      "outputs": [
        {
          "output_type": "execute_result",
          "data": {
            "text/plain": [
              "42"
            ]
          },
          "metadata": {
            "tags": []
          },
          "execution_count": 17
        }
      ]
    },
    {
      "cell_type": "code",
      "metadata": {
        "id": "1gwEX5-dOe_X",
        "colab": {
          "base_uri": "https://localhost:8080/"
        },
        "outputId": "49e4adc6-e75d-405c-827e-9438d758b2dd"
      },
      "source": [
        " #8-4 break\r\n",
        " #while_break.py\r\n",
        " def main():\r\n",
        "   i = 0\r\n",
        "   while i <100:\r\n",
        "     print(i, end =' ')\r\n",
        "     i = i + 1\r\n",
        "     if i == 20:\r\n",
        "       break\r\n",
        "main()\r\n",
        "     "
      ],
      "execution_count": 1,
      "outputs": [
        {
          "output_type": "stream",
          "text": [
            "0 1 2 3 4 5 6 7 8 9 10 11 12 13 14 15 16 17 18 19 "
          ],
          "name": "stdout"
        }
      ]
    },
    {
      "cell_type": "code",
      "metadata": {
        "colab": {
          "base_uri": "https://localhost:8080/"
        },
        "id": "GsHrbIDo0IJZ",
        "outputId": "ad099ff7-e3a6-4028-ce66-3b409e529cd1"
      },
      "source": [
        "#while_over100_break.py\r\n",
        "def main():\r\n",
        "  i = 1\r\n",
        "  sum = 0\r\n",
        "  while True:   #무한루프 = 조건이 true일 경우 반복 실행할 문장들\r\n",
        "    sum = sum + i\r\n",
        "    if sum > 100:\r\n",
        "      print(i, '더했을 때의 합', sum, end = ' ')\r\n",
        "      break\r\n",
        "    i = i + 1\r\n",
        "main()"
      ],
      "execution_count": 3,
      "outputs": [
        {
          "output_type": "stream",
          "text": [
            "14 더했을 때의 합 105 "
          ],
          "name": "stdout"
        }
      ]
    },
    {
      "cell_type": "code",
      "metadata": {
        "colab": {
          "base_uri": "https://localhost:8080/"
        },
        "id": "u3ezXViF49-3",
        "outputId": "d6ce4a08-513a-4c6a-f21f-d1a4e5509585"
      },
      "source": [
        "#연습문제 08-2 1번문제\r\n",
        "_1cm = 0\r\n",
        "mini = 45\r\n",
        "while True:\r\n",
        "  if (mini % 6 ==0 and mini % 45 ==0):\r\n",
        "    _1cm = mini\r\n",
        "    break\r\n",
        "  mini = mini + 1\r\n",
        "_1cm"
      ],
      "execution_count": 19,
      "outputs": [
        {
          "output_type": "execute_result",
          "data": {
            "text/plain": [
              "90"
            ]
          },
          "metadata": {
            "tags": []
          },
          "execution_count": 19
        }
      ]
    },
    {
      "cell_type": "code",
      "metadata": {
        "colab": {
          "base_uri": "https://localhost:8080/"
        },
        "id": "hn0U9gHN3nW3",
        "outputId": "ebdf9d00-0b28-493d-8eac-2df631701ea5"
      },
      "source": [
        "#연습문제 08-2 2번문제\r\n",
        "gcm = 0\r\n",
        "n = 42\r\n",
        "while True:\r\n",
        "\tif 42 % n == 0 and 120 % n == 0:\r\n",
        "\t\tgcm = n\r\n",
        "\t\tbreak\r\n",
        "\tn = n - 1\r\n",
        "\r\n",
        "gcm"
      ],
      "execution_count": 30,
      "outputs": [
        {
          "output_type": "execute_result",
          "data": {
            "text/plain": [
              "6"
            ]
          },
          "metadata": {
            "tags": []
          },
          "execution_count": 30
        }
      ]
    },
    {
      "cell_type": "code",
      "metadata": {
        "colab": {
          "base_uri": "https://localhost:8080/"
        },
        "id": "nCivEIXWApFc",
        "outputId": "19204bae-5add-4f0c-b10c-93c3d9240559"
      },
      "source": [
        "#8-5 continue\r\n",
        "for i in range(1, 11):\r\n",
        "  print(i, end = ' ')"
      ],
      "execution_count": 46,
      "outputs": [
        {
          "output_type": "stream",
          "text": [
            "1 2 3 4 5 6 7 8 9 10 "
          ],
          "name": "stdout"
        }
      ]
    },
    {
      "cell_type": "code",
      "metadata": {
        "colab": {
          "base_uri": "https://localhost:8080/"
        },
        "id": "j7TBaWLiA4Rl",
        "outputId": "c09a471b-c2f8-4f18-cc5b-2a3c908680ff"
      },
      "source": [
        "for i in range(1, 11):\r\n",
        "  if i % 2==0:\r\n",
        "    continue    #프린트하지 말고 아래문장을 건너 뛰어 다시 다음 숫자로 for문 가기\r\n",
        "  print(i, end=' ')"
      ],
      "execution_count": 47,
      "outputs": [
        {
          "output_type": "stream",
          "text": [
            "1 3 5 7 9 "
          ],
          "name": "stdout"
        }
      ]
    },
    {
      "cell_type": "markdown",
      "metadata": {
        "id": "z2B5QjN0BMqh"
      },
      "source": [
        "break는 for 루프를 빠져나가지만 continue는 빠져나가지 않는다   \r\n",
        "continue가 실행되면 for 루프에 속한 나머지 문장들을 건너 뛰고 그 다음 반복을 이어가게 된다"
      ]
    },
    {
      "cell_type": "code",
      "metadata": {
        "colab": {
          "base_uri": "https://localhost:8080/"
        },
        "id": "wGpCv82_Bek6",
        "outputId": "7054ef0d-16e9-499c-e15d-8d9d53688b34"
      },
      "source": [
        "i = 0\r\n",
        "while i < 10:\r\n",
        "  i = i + 1\r\n",
        "  if i % 3 ==0:     #if i % 3 ==0: continue  if에 속한 문장이하나라 이렇게 한 줄에 표현도 가능\r\n",
        "    continue     \r\n",
        "  print(i, end=' ')"
      ],
      "execution_count": 50,
      "outputs": [
        {
          "output_type": "stream",
          "text": [
            "1 2 4 5 7 8 10 "
          ],
          "name": "stdout"
        }
      ]
    },
    {
      "cell_type": "code",
      "metadata": {
        "colab": {
          "base_uri": "https://localhost:8080/"
        },
        "id": "Uj9zWaoFCIQY",
        "outputId": "62385340-3405-45fa-ce1a-0eec4bf92177"
      },
      "source": [
        "#연습문제 08-3 1번문제\r\n",
        "i = 1\r\n",
        "for i in range(1, 10):\r\n",
        "  i = i * 7\r\n",
        "  if i % 2:\r\n",
        "    continue\r\n",
        "  print(i, end=' ')"
      ],
      "execution_count": 76,
      "outputs": [
        {
          "output_type": "stream",
          "text": [
            "14 28 42 56 "
          ],
          "name": "stdout"
        }
      ]
    },
    {
      "cell_type": "code",
      "metadata": {
        "colab": {
          "base_uri": "https://localhost:8080/"
        },
        "id": "LvbhwU7iGEvv",
        "outputId": "4ef6e300-87a2-4e07-c9cc-bfad5eced586"
      },
      "source": [
        "#연습문제 08-3 1번문제 교제답\r\n",
        "for i in range(1, 10):\r\n",
        "  if (7* i) % 2:  \r\n",
        "    continue\r\n",
        "  print(7*i, end=' ') "
      ],
      "execution_count": 77,
      "outputs": [
        {
          "output_type": "stream",
          "text": [
            "14 28 42 56 "
          ],
          "name": "stdout"
        }
      ]
    },
    {
      "cell_type": "code",
      "metadata": {
        "colab": {
          "base_uri": "https://localhost:8080/"
        },
        "id": "PYeaQV17CLvd",
        "outputId": "e015c020-f1e6-4791-939c-caaa063129f4"
      },
      "source": [
        "#연습문제 08-3 2번문제\r\n",
        "num = 1\r\n",
        "while num <100 :\r\n",
        "  num +=1\r\n",
        "  if (num % 2 != 0 and num %3 != 0):\r\n",
        "    print(num, end=' ')\r\n",
        "\r\n"
      ],
      "execution_count": 82,
      "outputs": [
        {
          "output_type": "stream",
          "text": [
            "5 7 11 13 17 19 23 25 29 31 35 37 41 43 47 49 53 55 59 61 65 67 71 73 77 79 83 85 89 91 95 97 "
          ],
          "name": "stdout"
        }
      ]
    },
    {
      "cell_type": "code",
      "metadata": {
        "colab": {
          "base_uri": "https://localhost:8080/"
        },
        "id": "_rCmpr00CMwM",
        "outputId": "34a4136c-0759-4ee3-caad-4d1ffe60e3cb"
      },
      "source": [
        "#연습문제 08-3 3번문제\r\n",
        "num = 1\r\n",
        "while num <100 :\r\n",
        "  num +=1\r\n",
        "  if (num % 2 == 0 or num %3 == 0): \r\n",
        "    continue\r\n",
        "  print(num, end=' ')\r\n"
      ],
      "execution_count": 88,
      "outputs": [
        {
          "output_type": "stream",
          "text": [
            "5 7 11 13 17 19 23 25 29 31 35 37 41 43 47 49 53 55 59 61 65 67 71 73 77 79 83 85 89 91 95 97 "
          ],
          "name": "stdout"
        }
      ]
    },
    {
      "cell_type": "code",
      "metadata": {
        "colab": {
          "base_uri": "https://localhost:8080/"
        },
        "id": "ZI2KxHOeHrQP",
        "outputId": "a47c81fe-9130-4ce4-82bf-98502a4355b1"
      },
      "source": [
        "#8-6 이중 for 루프\r\n",
        "for i in [1,2]:   #바깥쪽 for 루프\r\n",
        "  for j in ['a', 'b', 'c']:\r\n",
        "    print(j * i, end = ' ')"
      ],
      "execution_count": 89,
      "outputs": [
        {
          "output_type": "stream",
          "text": [
            "a b c aa bb cc "
          ],
          "name": "stdout"
        }
      ]
    },
    {
      "cell_type": "markdown",
      "metadata": {
        "id": "Z6OeHx79H_C1"
      },
      "source": [
        "분석의 시작은 바깥쪽 for루프에서 시작됨. 바깥 for루프에 의해서 그 안쪽에 위치한 for루프가 반복 실행되는 구조   \r\n",
        "즉 변수 i가 1일 때  for 루프가 실행    \r\n",
        "print(j* 1, end=' ') 이렇게 실행되어 a a a 가 나오고   \r\n",
        "다음 변수 i 가 2일 때     \r\n",
        "print(j*2, end=' ') 가 실행되어 aa bb cc로 나옴"
      ]
    },
    {
      "cell_type": "code",
      "metadata": {
        "colab": {
          "base_uri": "https://localhost:8080/"
        },
        "id": "_f5EyVvPImuF",
        "outputId": "be239140-1b53-4a53-b6e3-09440019d77a"
      },
      "source": [
        "sr = ['father', 'mother', 'brother']\r\n",
        "cnt = 0   #'r'이 등장하는 횟수를 세기 위한 변수\r\n",
        "for s in sr:  #변수 s에 문자열이 하나씩 담김\r\n",
        "  for c in s:  #변수 c에 문자가!!!! 하나씩 담김\r\n",
        "    if c == 'r':\r\n",
        "      cnt += 1\r\n",
        "cnt"
      ],
      "execution_count": 95,
      "outputs": [
        {
          "output_type": "execute_result",
          "data": {
            "text/plain": [
              "4"
            ]
          },
          "metadata": {
            "tags": []
          },
          "execution_count": 95
        }
      ]
    },
    {
      "cell_type": "markdown",
      "metadata": {
        "id": "LNoOzYPHKf-1"
      },
      "source": [
        "for s in sr: 여기서 담긴 변수 s는 'father', 'mother', 'brother' 이 순서대로 문자열에 담는다   \r\n",
        "그 다음 안쪽 for루프들은   \r\n",
        "for c in 'mother':   \r\n",
        "  if c == 'r':   \r\n",
        "    cnt += 1    \r\n",
        "이런식으로 문자열이 하나씩 s자리에 들어가게 되어 3번을 반복한다"
      ]
    },
    {
      "cell_type": "code",
      "metadata": {
        "colab": {
          "base_uri": "https://localhost:8080/"
        },
        "id": "CFiQwfDsLEAa",
        "outputId": "ffde30ad-fb9f-4305-e697-bf6939a0adfd"
      },
      "source": [
        "#연습문제 08-4 \r\n",
        "for i in range(2, 10):\r\n",
        "  for j in range(1, 10):\r\n",
        "    print(i * j, end=' ')\r\n",
        "  print('\\n', end = ' ')"
      ],
      "execution_count": 103,
      "outputs": [
        {
          "output_type": "stream",
          "text": [
            "2 4 6 8 10 12 14 16 18 \n",
            " 3 6 9 12 15 18 21 24 27 \n",
            " 4 8 12 16 20 24 28 32 36 \n",
            " 5 10 15 20 25 30 35 40 45 \n",
            " 6 12 18 24 30 36 42 48 54 \n",
            " 7 14 21 28 35 42 49 56 63 \n",
            " 8 16 24 32 40 48 56 64 72 \n",
            " 9 18 27 36 45 54 63 72 81 \n",
            " "
          ],
          "name": "stdout"
        }
      ]
    }
  ]
}