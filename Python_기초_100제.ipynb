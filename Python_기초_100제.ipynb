{
  "nbformat": 4,
  "nbformat_minor": 0,
  "metadata": {
    "colab": {
      "name": "Python 기초 100제.ipynb",
      "provenance": [],
      "authorship_tag": "ABX9TyNgNFAzCodUdgN9KTuduk9z",
      "include_colab_link": true
    },
    "kernelspec": {
      "name": "python3",
      "display_name": "Python 3"
    },
    "language_info": {
      "name": "python"
    }
  },
  "cells": [
    {
      "cell_type": "markdown",
      "metadata": {
        "id": "view-in-github",
        "colab_type": "text"
      },
      "source": [
        "<a href=\"https://colab.research.google.com/github/sera0911/python_basic/blob/main/Python_%EA%B8%B0%EC%B4%88_100%EC%A0%9C.ipynb\" target=\"_parent\"><img src=\"https://colab.research.google.com/assets/colab-badge.svg\" alt=\"Open In Colab\"/></a>"
      ]
    },
    {
      "cell_type": "code",
      "metadata": {
        "colab": {
          "base_uri": "https://localhost:8080/"
        },
        "id": "EL0Cl6nJu9TL",
        "outputId": "193e266d-09de-43c5-a0df-aa05fff5e3b1"
      },
      "source": [
        "print('Hello')"
      ],
      "execution_count": null,
      "outputs": [
        {
          "output_type": "stream",
          "text": [
            "Hello\n"
          ],
          "name": "stdout"
        }
      ]
    },
    {
      "cell_type": "code",
      "metadata": {
        "colab": {
          "base_uri": "https://localhost:8080/"
        },
        "id": "DvvS4SP8vcTf",
        "outputId": "77b6fbc3-29ab-4bbc-9931-273194b6dfbb"
      },
      "source": [
        "print('Hello World')"
      ],
      "execution_count": null,
      "outputs": [
        {
          "output_type": "stream",
          "text": [
            "Hello World\n"
          ],
          "name": "stdout"
        }
      ]
    },
    {
      "cell_type": "code",
      "metadata": {
        "colab": {
          "base_uri": "https://localhost:8080/"
        },
        "id": "lBh1eJp4vcl3",
        "outputId": "f46b08f7-f19e-46e4-eb54-29739f62a6e8"
      },
      "source": [
        "print('Hello')\n",
        "print('World')"
      ],
      "execution_count": null,
      "outputs": [
        {
          "output_type": "stream",
          "text": [
            "Hello\n",
            "World\n"
          ],
          "name": "stdout"
        }
      ]
    },
    {
      "cell_type": "code",
      "metadata": {
        "colab": {
          "base_uri": "https://localhost:8080/"
        },
        "id": "zbImU-xivcub",
        "outputId": "11816911-7ebf-4243-de90-b856016fa9c0"
      },
      "source": [
        "print(\"'Hello'\")"
      ],
      "execution_count": null,
      "outputs": [
        {
          "output_type": "stream",
          "text": [
            "'Hello'\n"
          ],
          "name": "stdout"
        }
      ]
    },
    {
      "cell_type": "code",
      "metadata": {
        "colab": {
          "base_uri": "https://localhost:8080/"
        },
        "id": "ZOu2B03gv0iq",
        "outputId": "58a0a856-5592-478a-a00a-541d743664cf"
      },
      "source": [
        "print('\"Hello World\"')"
      ],
      "execution_count": null,
      "outputs": [
        {
          "output_type": "stream",
          "text": [
            "\"Hello World\"\n"
          ],
          "name": "stdout"
        }
      ]
    },
    {
      "cell_type": "code",
      "metadata": {
        "colab": {
          "base_uri": "https://localhost:8080/"
        },
        "id": "ogXhF138vc4J",
        "outputId": "c79690e5-5e69-4eb1-b94b-42a102a95c59"
      },
      "source": [
        "print('\\\"!@#$%^&*()\\'')"
      ],
      "execution_count": null,
      "outputs": [
        {
          "output_type": "stream",
          "text": [
            "\"!@#$%^&*()'\n"
          ],
          "name": "stdout"
        }
      ]
    },
    {
      "cell_type": "code",
      "metadata": {
        "colab": {
          "base_uri": "https://localhost:8080/"
        },
        "id": "oPmS3M_lwNRm",
        "outputId": "36a40c74-087c-418d-f682-1aaae279dce8"
      },
      "source": [
        "print('print(\"Hello\\\\nWorld\")')\n"
      ],
      "execution_count": null,
      "outputs": [
        {
          "output_type": "stream",
          "text": [
            "print(\"Hello\\nWorld\")\n"
          ],
          "name": "stdout"
        }
      ]
    },
    {
      "cell_type": "code",
      "metadata": {
        "colab": {
          "base_uri": "https://localhost:8080/"
        },
        "id": "YN9ljOt-wNYY",
        "outputId": "b429b5af-791d-4f78-cb6c-26720e9f7c90"
      },
      "source": [
        "c = input()\n",
        "print(c)"
      ],
      "execution_count": null,
      "outputs": [
        {
          "output_type": "stream",
          "text": [
            "a\n",
            "a\n"
          ],
          "name": "stdout"
        }
      ]
    },
    {
      "cell_type": "code",
      "metadata": {
        "colab": {
          "base_uri": "https://localhost:8080/"
        },
        "id": "R3b0T2BIwNb2",
        "outputId": "caca6a0a-5d35-44db-c625-0aad3f6b3d8e"
      },
      "source": [
        "n = input()\n",
        "n = int(n)\n",
        "print(n)"
      ],
      "execution_count": null,
      "outputs": [
        {
          "output_type": "stream",
          "text": [
            "1\n",
            "1\n"
          ],
          "name": "stdout"
        }
      ]
    },
    {
      "cell_type": "code",
      "metadata": {
        "colab": {
          "base_uri": "https://localhost:8080/"
        },
        "id": "I-d-Fcc5wNfZ",
        "outputId": "82881176-7383-45b9-bacd-aa90e6d1f5b4"
      },
      "source": [
        "f = input()\n",
        "f = float(f)\n",
        "print(f)"
      ],
      "execution_count": null,
      "outputs": [
        {
          "output_type": "stream",
          "text": [
            "1.5\n",
            "1.5\n"
          ],
          "name": "stdout"
        }
      ]
    },
    {
      "cell_type": "code",
      "metadata": {
        "colab": {
          "base_uri": "https://localhost:8080/"
        },
        "id": "NSy7Rj-OwN9Q",
        "outputId": "dc5c5c90-9c9e-447a-95d2-c9bf1039db64"
      },
      "source": [
        "a = input() \n",
        "b = input()\n",
        "print(a)\n",
        "print(b)"
      ],
      "execution_count": null,
      "outputs": [
        {
          "output_type": "stream",
          "text": [
            "5\n",
            "6\n",
            "5\n",
            "6\n"
          ],
          "name": "stdout"
        }
      ]
    },
    {
      "cell_type": "code",
      "metadata": {
        "colab": {
          "base_uri": "https://localhost:8080/"
        },
        "id": "xnt1dWVc2G29",
        "outputId": "732ae8af-968b-4c2d-c389-211a7800547a"
      },
      "source": [
        "a = input() \n",
        "b = input()\n",
        "print(b)\n",
        "print(a)"
      ],
      "execution_count": null,
      "outputs": [
        {
          "output_type": "stream",
          "text": [
            "abc\n",
            "bca\n",
            "bca\n",
            "abc\n"
          ],
          "name": "stdout"
        }
      ]
    },
    {
      "cell_type": "code",
      "metadata": {
        "colab": {
          "base_uri": "https://localhost:8080/"
        },
        "id": "RMivxAk-2UVs",
        "outputId": "0df20ec4-eb56-4e99-f69e-14a6380ffb0b"
      },
      "source": [
        "a = float(input()) \n",
        "print(a)\n",
        "print(a)\n",
        "print(a)"
      ],
      "execution_count": null,
      "outputs": [
        {
          "output_type": "stream",
          "text": [
            "1.5\n",
            "1.5\n",
            "1.5\n",
            "1.5\n"
          ],
          "name": "stdout"
        }
      ]
    },
    {
      "cell_type": "code",
      "metadata": {
        "colab": {
          "base_uri": "https://localhost:8080/"
        },
        "id": "vYMxalrG2UO0",
        "outputId": "4b98664d-a9e0-4517-9e3a-68bc53223cf9"
      },
      "source": [
        "a, b = input().split()\n",
        "print(a)\n",
        "print(b)"
      ],
      "execution_count": null,
      "outputs": [
        {
          "output_type": "stream",
          "text": [
            "3 5\n",
            "3\n",
            "5\n"
          ],
          "name": "stdout"
        }
      ]
    },
    {
      "cell_type": "code",
      "metadata": {
        "colab": {
          "base_uri": "https://localhost:8080/"
        },
        "id": "EApSWSXx2UC2",
        "outputId": "e2e6ecd8-f57a-4059-e6c8-5680a07f1cba"
      },
      "source": [
        "a, b = input().split()\n",
        "print(b, a)"
      ],
      "execution_count": null,
      "outputs": [
        {
          "output_type": "stream",
          "text": [
            "3 5\n",
            "5 3\n"
          ],
          "name": "stdout"
        }
      ]
    },
    {
      "cell_type": "code",
      "metadata": {
        "colab": {
          "base_uri": "https://localhost:8080/"
        },
        "id": "GBtkxEpc2T74",
        "outputId": "3efda96a-35f7-4491-ed5e-a7372e85a9a2"
      },
      "source": [
        "s = input()\n",
        "print(s, s, s)"
      ],
      "execution_count": null,
      "outputs": [
        {
          "output_type": "stream",
          "text": [
            "세경\n",
            "세경 세경 세경\n"
          ],
          "name": "stdout"
        }
      ]
    },
    {
      "cell_type": "code",
      "metadata": {
        "colab": {
          "base_uri": "https://localhost:8080/"
        },
        "id": "XvrvdOzg3QWT",
        "outputId": "a7cfd44f-3595-4bb4-dac3-b0df78945b0a"
      },
      "source": [
        "a, b = input().split(':')\n",
        "print(a, b, sep=':')"
      ],
      "execution_count": null,
      "outputs": [
        {
          "output_type": "stream",
          "text": [
            "12:34\n",
            "12:34\n"
          ],
          "name": "stdout"
        }
      ]
    },
    {
      "cell_type": "code",
      "metadata": {
        "colab": {
          "base_uri": "https://localhost:8080/"
        },
        "id": "cUnMR3hc3QeG",
        "outputId": "032dadbf-03fa-4515-e5a1-4fbd959489c4"
      },
      "source": [
        "y, m, d = input().split('.')\n",
        "print(d, m, y, sep='-')"
      ],
      "execution_count": null,
      "outputs": [
        {
          "output_type": "stream",
          "text": [
            "21.03.24\n",
            "24-03-21\n"
          ],
          "name": "stdout"
        }
      ]
    },
    {
      "cell_type": "code",
      "metadata": {
        "colab": {
          "base_uri": "https://localhost:8080/"
        },
        "id": "fEIP9BgC3QmZ",
        "outputId": "7304900f-1300-4090-c2f5-5c9284d5747e"
      },
      "source": [
        "a, b = input().split('-')\n",
        "print(a, b, sep = '')"
      ],
      "execution_count": null,
      "outputs": [
        {
          "output_type": "stream",
          "text": [
            "000907-1121112\n",
            "0009071121112\n"
          ],
          "name": "stdout"
        }
      ]
    },
    {
      "cell_type": "code",
      "metadata": {
        "colab": {
          "base_uri": "https://localhost:8080/"
        },
        "id": "dVtVdtgt3Qs7",
        "outputId": "73e89134-99bd-419b-808e-0bf2b7ec556d"
      },
      "source": [
        "s = input()\n",
        "print(s[0])\n",
        "print(s[1])\n",
        "print(s[2])\n",
        "print(s[3])\n",
        "print(s[4])\n"
      ],
      "execution_count": null,
      "outputs": [
        {
          "output_type": "stream",
          "text": [
            "ab123\n",
            "a\n",
            "b\n",
            "1\n",
            "2\n",
            "3\n"
          ],
          "name": "stdout"
        }
      ]
    },
    {
      "cell_type": "code",
      "metadata": {
        "colab": {
          "base_uri": "https://localhost:8080/"
        },
        "id": "ml_iX1VN3QyM",
        "outputId": "66c3cb6a-7d2e-4465-b0f1-f5b6d3d7a14c"
      },
      "source": [
        "s = input()\n",
        "print(s[0:2])\n",
        "print(s[2:4])\n",
        "print(s[4:6])"
      ],
      "execution_count": null,
      "outputs": [
        {
          "output_type": "stream",
          "text": [
            "yymmdd\n",
            "yy\n",
            "mm\n",
            "dd\n"
          ],
          "name": "stdout"
        }
      ]
    },
    {
      "cell_type": "code",
      "metadata": {
        "colab": {
          "base_uri": "https://localhost:8080/"
        },
        "id": "5VvilxB33Q4k",
        "outputId": "00850d36-322d-44bd-c840-e6011186f4e7"
      },
      "source": [
        "a,b,c = input().split(':')\n",
        "print(b)"
      ],
      "execution_count": null,
      "outputs": [
        {
          "output_type": "stream",
          "text": [
            "17:23:57\n",
            "23\n"
          ],
          "name": "stdout"
        }
      ]
    },
    {
      "cell_type": "code",
      "metadata": {
        "colab": {
          "base_uri": "https://localhost:8080/"
        },
        "id": "da_M5klI6Ws0",
        "outputId": "f68004bd-8448-44ac-e8d6-3db1ce54ea5d"
      },
      "source": [
        "w1, w2 = input().split()\n",
        "s = w1 + w2\n",
        "print(s)"
      ],
      "execution_count": null,
      "outputs": [
        {
          "output_type": "stream",
          "text": [
            "se se\n",
            "sese\n"
          ],
          "name": "stdout"
        }
      ]
    },
    {
      "cell_type": "code",
      "metadata": {
        "colab": {
          "base_uri": "https://localhost:8080/"
        },
        "id": "QRFGsdvN6W69",
        "outputId": "023d4df5-ab37-4dd7-ce53-bfe63c7a279c"
      },
      "source": [
        "a, b = input().split()\n",
        "c = int(a) + int(b)\n",
        "print(c)"
      ],
      "execution_count": null,
      "outputs": [
        {
          "output_type": "stream",
          "text": [
            "2 4\n",
            "6\n"
          ],
          "name": "stdout"
        }
      ]
    },
    {
      "cell_type": "code",
      "metadata": {
        "colab": {
          "base_uri": "https://localhost:8080/"
        },
        "id": "e3My6O0p6XDz",
        "outputId": "0a86a518-6690-461c-b965-5ceffe13bcec"
      },
      "source": [
        "a= float(input())\n",
        "b= float(input())\n",
        "c = a + b\n",
        "print(c)"
      ],
      "execution_count": null,
      "outputs": [
        {
          "output_type": "stream",
          "text": [
            "0.9\n",
            "0.1\n",
            "1.0\n"
          ],
          "name": "stdout"
        }
      ]
    },
    {
      "cell_type": "code",
      "metadata": {
        "colab": {
          "base_uri": "https://localhost:8080/"
        },
        "id": "eyH_4txO6XNC",
        "outputId": "c4f8c7a8-7a9d-475f-c330-6a156e62e3e0"
      },
      "source": [
        "a = input()\n",
        "n = int(a)         \n",
        "print('%x'% n)  #십진법을 16진법으로 변환"
      ],
      "execution_count": null,
      "outputs": [
        {
          "output_type": "stream",
          "text": [
            "255\n",
            "ff\n"
          ],
          "name": "stdout"
        }
      ]
    },
    {
      "cell_type": "code",
      "metadata": {
        "id": "OnEqT_4u6Xhz",
        "colab": {
          "base_uri": "https://localhost:8080/"
        },
        "outputId": "ff9f53d1-1155-45b6-c95a-c3493553cf5f"
      },
      "source": [
        "a = input()\n",
        "n = int(a)  \n",
        "print('%X' % n) "
      ],
      "execution_count": null,
      "outputs": [
        {
          "output_type": "stream",
          "text": [
            "255\n",
            "FF\n"
          ],
          "name": "stdout"
        }
      ]
    },
    {
      "cell_type": "code",
      "metadata": {
        "colab": {
          "base_uri": "https://localhost:8080/"
        },
        "id": "9cXV2-IkatQI",
        "outputId": "1f161541-4511-47b6-e3d7-abb8b543eda1"
      },
      "source": [
        "a = input()\n",
        "n = int(a, 16)      #입력된 a를 16진수로 인식해 변수 n에 저장\n",
        "print('%o' % n)  #n에 저장되어있는 값을 8진수(octal) 형태 문자열로 출력"
      ],
      "execution_count": null,
      "outputs": [
        {
          "output_type": "stream",
          "text": [
            "f\n",
            "17\n"
          ],
          "name": "stdout"
        }
      ]
    },
    {
      "cell_type": "code",
      "metadata": {
        "colab": {
          "base_uri": "https://localhost:8080/"
        },
        "id": "8cMY9L7SbFBG",
        "outputId": "a8cd8375-6fe0-4e10-accf-3f7c19f9681c"
      },
      "source": [
        "#n = ord(input())  #입력받은 문자를 10진수 유니코드 값으로 변환한 후, n에 저장한다.\n",
        "n = ord(input())\n",
        "print(n)"
      ],
      "execution_count": null,
      "outputs": [
        {
          "output_type": "stream",
          "text": [
            "a\n",
            "97\n"
          ],
          "name": "stdout"
        }
      ]
    },
    {
      "cell_type": "code",
      "metadata": {
        "colab": {
          "base_uri": "https://localhost:8080/"
        },
        "id": "kwbP6wqxbUws",
        "outputId": "0730becd-27ea-4bbe-fcf8-ff6cc38f33c1"
      },
      "source": [
        "#정수 입력받아 유니코드 문자로 변환하기\n",
        "c = int(input())\n",
        "print(chr(c))  #c에 저장되어 있는 정수 값을 유니코드 문자(chracter)로 바꿔 출력한다. "
      ],
      "execution_count": null,
      "outputs": [
        {
          "output_type": "stream",
          "text": [
            "5\n",
            "\u0005\n"
          ],
          "name": "stdout"
        }
      ]
    },
    {
      "cell_type": "code",
      "metadata": {
        "colab": {
          "base_uri": "https://localhost:8080/"
        },
        "id": "lrfVKHkDbnik",
        "outputId": "629b99ad-6bf4-4086-bf1f-056d37bb091e"
      },
      "source": [
        "#정수 1개 입력받아 부호 바꾸기\n",
        "n = int(input())\n",
        "print(-n) "
      ],
      "execution_count": null,
      "outputs": [
        {
          "output_type": "stream",
          "text": [
            "-1\n",
            "1\n"
          ],
          "name": "stdout"
        }
      ]
    },
    {
      "cell_type": "code",
      "metadata": {
        "colab": {
          "base_uri": "https://localhost:8080/"
        },
        "id": "nuq7p6DrbnUE",
        "outputId": "3f6d25d2-2e59-402f-c7cc-b7917e538a7e"
      },
      "source": [
        "#문자 1개 입력받아 다음 문자 출력하기\n",
        "n = ord(input())     #입력받은 문자를 10진수 유니코드 값으로 변환한 후, n에 저장한다.\n",
        "print(chr(n+1))  #저장되어 있는 값을 유니코드 문자(chracter)로 바꿔 출력한다. "
      ],
      "execution_count": null,
      "outputs": [
        {
          "output_type": "stream",
          "text": [
            "a\n",
            "b\n"
          ],
          "name": "stdout"
        }
      ]
    },
    {
      "cell_type": "code",
      "metadata": {
        "colab": {
          "base_uri": "https://localhost:8080/"
        },
        "id": "k6B7mT4WdXIM",
        "outputId": "0cb471f8-a4fa-44e4-fcc6-532ed79aa4be"
      },
      "source": [
        "#정수 2개 입력받아 차 계산하기\n",
        "a, b = input().split()\n",
        "c = int(a) - int(b)\n",
        "print(c)"
      ],
      "execution_count": null,
      "outputs": [
        {
          "output_type": "stream",
          "text": [
            "5 3\n",
            "2\n"
          ],
          "name": "stdout"
        }
      ]
    },
    {
      "cell_type": "code",
      "metadata": {
        "colab": {
          "base_uri": "https://localhost:8080/"
        },
        "id": "Q2GEMBt0eUN4",
        "outputId": "af73ffcb-aebb-41e5-a730-c24a389f26f9"
      },
      "source": [
        "#실수 2개 입력받아 곱 계산하기\n",
        "f1, f2 = input().split()\n",
        "m = float(f1) * float(f2)\n",
        "print(m)"
      ],
      "execution_count": null,
      "outputs": [
        {
          "output_type": "stream",
          "text": [
            "5 3\n",
            "15.0\n"
          ],
          "name": "stdout"
        }
      ]
    },
    {
      "cell_type": "code",
      "metadata": {
        "colab": {
          "base_uri": "https://localhost:8080/"
        },
        "id": "qDxTFT4JetYn",
        "outputId": "e2366f6a-da85-42de-d0d8-ae14037476a5"
      },
      "source": [
        "#단어 여러 번 출력하기\n",
        "w, n = input().split()\n",
        "print(w*int(n))"
      ],
      "execution_count": null,
      "outputs": [
        {
          "output_type": "stream",
          "text": [
            "5 3\n",
            "555\n"
          ],
          "name": "stdout"
        }
      ]
    },
    {
      "cell_type": "code",
      "metadata": {
        "colab": {
          "base_uri": "https://localhost:8080/"
        },
        "id": "YUYYi7s6e4wc",
        "outputId": "619c3776-ac70-4e27-efe0-9829571719da"
      },
      "source": [
        "# 문장 여러 번 출력하기\n",
        "n = input()\n",
        "s = input()\n",
        "print(int(n)*s)\n"
      ],
      "execution_count": null,
      "outputs": [
        {
          "output_type": "stream",
          "text": [
            "3\n",
            "i love cs\n",
            "i love csi love csi love cs\n"
          ],
          "name": "stdout"
        }
      ]
    },
    {
      "cell_type": "code",
      "metadata": {
        "colab": {
          "base_uri": "https://localhost:8080/"
        },
        "id": "bDBNj50Ce5EJ",
        "outputId": "2dc8368a-fb6f-4253-9fab-720e99d35888"
      },
      "source": [
        "#정수 2개 입력받아 거듭제곱 계산하기\n",
        "a, b = input().split()\n",
        "c = int(a)**int(b)    # **는 거듭제곱 연산자\n",
        "print(c)"
      ],
      "execution_count": null,
      "outputs": [
        {
          "output_type": "stream",
          "text": [
            "2 3\n",
            "8\n"
          ],
          "name": "stdout"
        }
      ]
    },
    {
      "cell_type": "code",
      "metadata": {
        "colab": {
          "base_uri": "https://localhost:8080/"
        },
        "id": "A3NMU3NkfV2r",
        "outputId": "792d9187-22d8-4809-891c-e47389e34c57"
      },
      "source": [
        "#실수 2개 입력받아 거듭제곱 계산하기\n",
        "a, b = input().split()\n",
        "c = float(a)**float(b)    # **는 거듭제곱 연산자\n",
        "print(c)"
      ],
      "execution_count": null,
      "outputs": [
        {
          "output_type": "stream",
          "text": [
            "2 5\n",
            "32.0\n"
          ],
          "name": "stdout"
        }
      ]
    },
    {
      "cell_type": "code",
      "metadata": {
        "colab": {
          "base_uri": "https://localhost:8080/"
        },
        "id": "PWhZkYSUfWD0",
        "outputId": "902497a8-d936-46b2-eeff-5b025a29ae7d"
      },
      "source": [
        "#정수 2개 입력받아 나눈 몫 계산하기\n",
        "a, b = map(int, input().split())    #map 은 함수b를 a에 적용한다는 뜻\n",
        "print(a//b)    # //나눈 몫을 계산하는 연산자"
      ],
      "execution_count": null,
      "outputs": [
        {
          "output_type": "stream",
          "text": [
            "25 3\n",
            "8\n"
          ],
          "name": "stdout"
        }
      ]
    },
    {
      "cell_type": "code",
      "metadata": {
        "colab": {
          "base_uri": "https://localhost:8080/"
        },
        "id": "L5KmAky1fWMh",
        "outputId": "f2cef854-a502-4386-ac2d-39e50053b601"
      },
      "source": [
        "#정수 2개 입력받아 나눈 나머지 계산하기\n",
        "a, b = map(int, input().split())    #map 은 함수b를 a에 적용한다는 뜻\n",
        "print(a%b)    # % 나머지를 계산하는 연산자"
      ],
      "execution_count": null,
      "outputs": [
        {
          "output_type": "stream",
          "text": [
            "6 4\n",
            "2\n"
          ],
          "name": "stdout"
        }
      ]
    },
    {
      "cell_type": "code",
      "metadata": {
        "colab": {
          "base_uri": "https://localhost:8080/"
        },
        "id": "lld9hmh6fWTk",
        "outputId": "fc413582-3a3f-4347-dff1-e1e9a0665fe9"
      },
      "source": [
        "#실수 1개 입력받아 소숫점이하 자리 변환하기\n",
        "f = float(input())\n",
        "print(round(f, 2))    #round(수, 자릿수) 를 사용하면 원하는 자리까지의 정확도로 반올림 된 실수 값을 만들어 준다. "
      ],
      "execution_count": null,
      "outputs": [
        {
          "output_type": "stream",
          "text": [
            "3.33333\n",
            "3.33\n"
          ],
          "name": "stdout"
        }
      ]
    },
    {
      "cell_type": "code",
      "metadata": {
        "colab": {
          "base_uri": "https://localhost:8080/"
        },
        "id": "sVqVYYszfWZu",
        "outputId": "da32c9f0-bbec-4561-9f6a-c8520a0d2af2"
      },
      "source": [
        "#실수 2개 입력받아 나눈 결과 계산하기\n",
        "f1, f2 = map(float, input().split())\n",
        "f = f1 / f2\n",
        "print('%.3f'%f)   #반올림을 할 땐 print('%.2f'%n) n은 출력할 실수 변수\n"
      ],
      "execution_count": null,
      "outputs": [
        {
          "output_type": "stream",
          "text": [
            "5 3\n",
            "1.667\n"
          ],
          "name": "stdout"
        }
      ]
    },
    {
      "cell_type": "code",
      "metadata": {
        "colab": {
          "base_uri": "https://localhost:8080/"
        },
        "id": "CB1YNnIqe5lM",
        "outputId": "b339e55c-e0fb-4559-8ae2-ff551ca68b65"
      },
      "source": [
        "#정수 2개 입력받아 자동 계산하기\n",
        "a, b = map(int, input().split())\n",
        "print(a + b)\n",
        "print(a - b)\n",
        "print(a * b)\n",
        "print(a // b)\n",
        "print(a % b)\n",
        "print(round(a/b, 2)) "
      ],
      "execution_count": null,
      "outputs": [
        {
          "output_type": "stream",
          "text": [
            "10 3\n",
            "13\n",
            "7\n",
            "30\n",
            "3\n",
            "1\n",
            "3.33\n"
          ],
          "name": "stdout"
        }
      ]
    },
    {
      "cell_type": "code",
      "metadata": {
        "colab": {
          "base_uri": "https://localhost:8080/"
        },
        "id": "N_p1gXHcjtQU",
        "outputId": "ebd4f7bc-80de-4917-aada-8bc54dc1c5dd"
      },
      "source": [
        "#정수 3개 입력받아 합과 평균 출력하기\n",
        "a, b, c = map(int, input().split())\n",
        "d = a + b + c\n",
        "e = (a + b + c)/3\n",
        "print(d, ('%.2f'%e))  #반올림해 소수2번째 자리까지 출력= a + b + c\n",
        "e = (a + b + c)/3\n",
        "print(d, ('%.2f'%e))  #반올림해 소수2번째 자리까지 출력"
      ],
      "execution_count": null,
      "outputs": [
        {
          "output_type": "stream",
          "text": [
            "1 2 3\n",
            "6 2.00\n"
          ],
          "name": "stdout"
        }
      ]
    },
    {
      "cell_type": "code",
      "metadata": {
        "colab": {
          "base_uri": "https://localhost:8080/"
        },
        "id": "c-1fEYPSjtdE",
        "outputId": "57c40fd1-dd05-45a2-f1a4-665f3f494d5e"
      },
      "source": [
        "#정수 1개 입력받아 2배 곱해 출력하기\n",
        "n =int(input())\n",
        "print(n<<1)  #비트연산자 <<을 사용해서 n의 2배 값이 출력된다. >>이 연산자는 1/2로 줄어듬 이진법활용"
      ],
      "execution_count": null,
      "outputs": [
        {
          "output_type": "stream",
          "text": [
            "2\n",
            "4\n"
          ],
          "name": "stdout"
        }
      ]
    },
    {
      "cell_type": "code",
      "metadata": {
        "colab": {
          "base_uri": "https://localhost:8080/"
        },
        "id": "rb5NN7DCjtiG",
        "outputId": "f497fe40-e4d5-45bb-b742-937ae7efdaf5"
      },
      "source": [
        "#2의 거듭제곱 배로 곱해 출력하기\n",
        "a, b = map(int, input().split())\n",
        "print(a << b)    # a << b를 하면 비트연산자 <<는 a를 b제곱한 것으로 연산된다"
      ],
      "execution_count": null,
      "outputs": [
        {
          "output_type": "stream",
          "text": [
            "1 3\n",
            "8\n"
          ],
          "name": "stdout"
        }
      ]
    },
    {
      "cell_type": "code",
      "metadata": {
        "colab": {
          "base_uri": "https://localhost:8080/"
        },
        "id": "AYbx8C6_jtni",
        "outputId": "601b40b4-d0d5-4029-83df-caf7f8a74994"
      },
      "source": [
        "#정수 2개 입력받아 비교하기1\n",
        "a, b = map(int, input().split())\n",
        "if a < b:\n",
        "  print(\"True\")\n",
        "elif a >= b:\n",
        "  print(\"False\")\n"
      ],
      "execution_count": null,
      "outputs": [
        {
          "output_type": "stream",
          "text": [
            "1 9\n",
            "True\n"
          ],
          "name": "stdout"
        }
      ]
    },
    {
      "cell_type": "code",
      "metadata": {
        "colab": {
          "base_uri": "https://localhost:8080/"
        },
        "id": "iOluEj41jtve",
        "outputId": "b2b64e33-def4-41cc-db6e-87faf86b74a6"
      },
      "source": [
        "#정수 2개 입력받아 비교하기2\n",
        "a, b = map(int, input().split())\n",
        "if a == b:\n",
        "  print(\"True\")\n",
        "elif a != b :\n",
        "  print(\"False\")"
      ],
      "execution_count": null,
      "outputs": [
        {
          "output_type": "stream",
          "text": [
            "0 0\n",
            "True\n"
          ],
          "name": "stdout"
        }
      ]
    },
    {
      "cell_type": "code",
      "metadata": {
        "colab": {
          "base_uri": "https://localhost:8080/"
        },
        "id": "mgOF6bVSjtzC",
        "outputId": "ff5f235e-d4b0-4796-8c55-81adef610c9e"
      },
      "source": [
        "#정수 2개 입력받아 비교하기3\n",
        "a, b = map(int, input().split())\n",
        "if b >= a:\n",
        "  print(\"True\")\n",
        "elif b != a:\n",
        "  print(\"False\")  "
      ],
      "execution_count": null,
      "outputs": [
        {
          "output_type": "stream",
          "text": [
            "0 -1\n",
            "False\n"
          ],
          "name": "stdout"
        }
      ]
    },
    {
      "cell_type": "code",
      "metadata": {
        "colab": {
          "base_uri": "https://localhost:8080/"
        },
        "id": "EDeIltn9jt4y",
        "outputId": "9fab5889-290c-4a2f-e6ea-1153eca15ad7"
      },
      "source": [
        "#정수 2개 입력받아 비교하기4\n",
        "a, b = map(int, input().split())\n",
        "if a != b:\n",
        "  print(\"True\")\n",
        "elif a == b:\n",
        "  print(\"False\")  \n",
        "     "
      ],
      "execution_count": null,
      "outputs": [
        {
          "output_type": "stream",
          "text": [
            "0 1\n",
            "True\n"
          ],
          "name": "stdout"
        }
      ]
    },
    {
      "cell_type": "code",
      "metadata": {
        "colab": {
          "base_uri": "https://localhost:8080/"
        },
        "id": "jQUJ5LuGjt_O",
        "outputId": "7196fe86-bb4d-44a2-c4b2-425cd5ae9fe9"
      },
      "source": [
        "#정수 입력받아 참 거짓 평가하기\n",
        "n = int(input())\n",
        "print(bool(n))\n",
        "#입력된 값이 0이면 False, 0이 아니면 True 를 출력한다."
      ],
      "execution_count": null,
      "outputs": [
        {
          "output_type": "stream",
          "text": [
            "0\n",
            "False\n"
          ],
          "name": "stdout"
        }
      ]
    },
    {
      "cell_type": "code",
      "metadata": {
        "colab": {
          "base_uri": "https://localhost:8080/"
        },
        "id": "iTQE1qX3juD-",
        "outputId": "d2dbc92e-dfe7-4d22-bac6-468d8c445a26"
      },
      "source": [
        "#참 거짓 바꾸기\n",
        "a = bool(int(input()))\n",
        "print(not a)\n",
        "#참 또는 거짓의 논리값을 역(반대)으로 바꾸기 위해서 not 예약어(reserved word, keyword)를 사용"
      ],
      "execution_count": null,
      "outputs": [
        {
          "output_type": "stream",
          "text": [
            "1\n",
            "False\n"
          ],
          "name": "stdout"
        }
      ]
    },
    {
      "cell_type": "code",
      "metadata": {
        "colab": {
          "base_uri": "https://localhost:8080/"
        },
        "id": "Kp2OeEzqjuJq",
        "outputId": "4aa176cc-bbbd-4c8c-b8fc-338218222558"
      },
      "source": [
        "#둘 다 참일 경우만 참 출력하기\n",
        "a, b = input().split()\n",
        "print(bool(int(a)) and bool(int(b)))\n",
        "#and 예약어는 주어진 두 불 값이 모두 True 일 때에만 True 로 계산하고, 나머지 경우는 False 로 계산한다."
      ],
      "execution_count": null,
      "outputs": [
        {
          "output_type": "stream",
          "text": [
            "1 1\n",
            "True\n"
          ],
          "name": "stdout"
        }
      ]
    },
    {
      "cell_type": "code",
      "metadata": {
        "colab": {
          "base_uri": "https://localhost:8080/"
        },
        "id": "Ae106cc2juQu",
        "outputId": "a20b57bf-4741-4551-f1f6-ba6e442b3e76"
      },
      "source": [
        "#하나라도 참이면 참 출력하기\n",
        "a, b = input().split()\n",
        "print(bool(int(a)) or bool(int(b)))\n",
        "#or 예약어는 주어진 두 불 값 중에서 하나라도 True 이면 True 로 계산하고, 나머지 경우는 False 로 계산한다."
      ],
      "execution_count": null,
      "outputs": [
        {
          "output_type": "stream",
          "text": [
            "1 1\n",
            "True\n"
          ],
          "name": "stdout"
        }
      ]
    },
    {
      "cell_type": "code",
      "metadata": {
        "colab": {
          "base_uri": "https://localhost:8080/"
        },
        "id": "OIIjVXWf1NgQ",
        "outputId": "d40f7fb0-52fa-46b5-abb5-522b8e688374"
      },
      "source": [
        "#참/거짓이 서로 다를 때에만 참 출력하기\n",
        "a, b = input().split()\n",
        "c = bool(int(a))\n",
        "d = bool(int(b))\n",
        "print((c and (not d)) or ((not c) and d))\n",
        "#참 거짓이 서로 다를 때에만 True 로 계산하는 논리연산을 XOR(exclusive or, 배타적 논리합) 연산이라고도 부른다."
      ],
      "execution_count": null,
      "outputs": [
        {
          "output_type": "stream",
          "text": [
            "1 1\n",
            "False\n"
          ],
          "name": "stdout"
        }
      ]
    },
    {
      "cell_type": "code",
      "metadata": {
        "colab": {
          "base_uri": "https://localhost:8080/"
        },
        "id": "RVkZAYqt1NkS",
        "outputId": "c04e05dc-ca26-4294-9f70-3b1f47772897"
      },
      "source": [
        "#참/거짓이 서로 같을 때에만 참 출력하기\n",
        "a, b = input().split()\n",
        "if a == b:\n",
        "  print(True)\n",
        "elif a !=b:\n",
        "  print(False)"
      ],
      "execution_count": null,
      "outputs": [
        {
          "output_type": "stream",
          "text": [
            "1 0\n",
            "False\n"
          ],
          "name": "stdout"
        }
      ]
    },
    {
      "cell_type": "code",
      "metadata": {
        "colab": {
          "base_uri": "https://localhost:8080/"
        },
        "id": "g6eQcLgL1Nm6",
        "outputId": "43463f3f-ecce-4a74-df77-831581ae62b4"
      },
      "source": [
        "#둘 다 거짓일 경우만 참 출력하기\n",
        "a, b = input().split()\n",
        "c = bool(int(a))\n",
        "d = bool(int(b))\n",
        "if c == False and d == False:\n",
        "  print(True)\n",
        "else:\n",
        "  print(False)"
      ],
      "execution_count": null,
      "outputs": [
        {
          "output_type": "stream",
          "text": [
            "0 0\n",
            "True\n"
          ],
          "name": "stdout"
        }
      ]
    },
    {
      "cell_type": "code",
      "metadata": {
        "colab": {
          "base_uri": "https://localhost:8080/"
        },
        "id": "HDn7ND9W1Nqz",
        "outputId": "0d9d9780-3aa1-40a7-d5cd-9ecdf4601aca"
      },
      "source": [
        "#비트단위로 NOT 하여 출력하기\n",
        "b = int(input())\n",
        "print(~b)\n",
        "#~ : tilde, 틸드라고 읽는다  ~n = -n - 1, -n = ~n + 1"
      ],
      "execution_count": null,
      "outputs": [
        {
          "output_type": "stream",
          "text": [
            "2\n",
            "-3\n"
          ],
          "name": "stdout"
        }
      ]
    },
    {
      "cell_type": "code",
      "metadata": {
        "colab": {
          "base_uri": "https://localhost:8080/"
        },
        "id": "_Zpz2r741Nt2",
        "outputId": "bcc33dd8-f0fb-458c-8255-678506ce52cc"
      },
      "source": [
        "#비트단위로 AND 하여 출력하기\n",
        "a, b = map(int, input().split())\n",
        "print(a&b)\n",
        "#& = and, ampersand, 앰퍼센드라고 읽는다"
      ],
      "execution_count": null,
      "outputs": [
        {
          "output_type": "stream",
          "text": [
            "3 5\n",
            "1\n"
          ],
          "name": "stdout"
        }
      ]
    },
    {
      "cell_type": "code",
      "metadata": {
        "colab": {
          "base_uri": "https://localhost:8080/"
        },
        "id": "OXZPvVuU1Ny0",
        "outputId": "a3a5db2e-3c16-49bc-c933-7623bb1e53ff"
      },
      "source": [
        "#비트단위로 OR 하여 출력하기\n",
        "a, b = map(int, input().split())\n",
        "print(a|b)\n",
        "#| = (or, vertical bar, 버티컬바)를 사용하면 된다."
      ],
      "execution_count": null,
      "outputs": [
        {
          "output_type": "stream",
          "text": [
            "3 5\n",
            "7\n"
          ],
          "name": "stdout"
        }
      ]
    },
    {
      "cell_type": "code",
      "metadata": {
        "colab": {
          "base_uri": "https://localhost:8080/"
        },
        "id": "BdA6uZlq1N3V",
        "outputId": "92620cfd-23c9-425b-a280-522d05380f1f"
      },
      "source": [
        "#비트단위로 XOR 하여 출력하기(\n",
        "a, b = map(int, input().split())\n",
        "print(a^b)\n",
        "# ^ = (xor, circumflex/caret, 서컴플렉스/카릿)를 사용하면 된다."
      ],
      "execution_count": null,
      "outputs": [
        {
          "output_type": "stream",
          "text": [
            "3 5\n",
            "6\n"
          ],
          "name": "stdout"
        }
      ]
    },
    {
      "cell_type": "code",
      "metadata": {
        "colab": {
          "base_uri": "https://localhost:8080/"
        },
        "id": "6-1pg37X1L9c",
        "outputId": "87c39a12-a8d3-44c2-a9d4-fecf1fcd9125"
      },
      "source": [
        "#정수 2개 입력받아 큰 값 출력하기\n",
        "a, b = map(int, input().split())\n",
        "c = (a if (a>=b) else b)\n",
        "print(int(c))\n",
        "#3개의 요소로 이루어지는 3항 연산은 \"x if C else y\" 의 형태로 작성이 된다.\n",
        "\"\"\"\n",
        "- C : True 또는 False 를 평가할 조건식(conditional expression) 또는 값\n",
        "- x : C의 평가 결과가 True 일 때 사용할 값\n",
        "- y : C의 평가 결과가 True 가 아닐 때 사용할 값\n",
        "\"\"\""
      ],
      "execution_count": null,
      "outputs": [
        {
          "output_type": "stream",
          "text": [
            "123 456\n",
            "456\n"
          ],
          "name": "stdout"
        }
      ]
    },
    {
      "cell_type": "code",
      "metadata": {
        "colab": {
          "base_uri": "https://localhost:8080/"
        },
        "id": "hOG6f5en1MCR",
        "outputId": "93d3a328-5e84-4d8e-bb8a-da842a1fd7a0"
      },
      "source": [
        "#정수 3개 입력받아 가장 작은 값 출력하기\n",
        "a, b, c = map(int, input().split())\n",
        "d = (a if a<b else b) if ((a if a<b else b)<c) else c\n",
        "print(int(d))\n",
        "#변수에 어떤 값을 대입하는 대입(assign) 연산자 = 의 우선순위는 가장 낮고, 오른쪽에서 왼쪽의 결합방향을 가진다."
      ],
      "execution_count": null,
      "outputs": [
        {
          "output_type": "stream",
          "text": [
            "3 -1 5\n",
            "-1\n"
          ],
          "name": "stdout"
        }
      ]
    },
    {
      "cell_type": "code",
      "metadata": {
        "colab": {
          "base_uri": "https://localhost:8080/",
          "height": 124
        },
        "id": "rHpO1G2l1MGj",
        "outputId": "2e1218da-6fb0-411a-b6ac-3a6f3de45e3f"
      },
      "source": [
        "#정수 3개 입력받아 짝수만 출력하기\n",
        "\n",
        "a, b, c = map(int, input().split())\n",
        "if a%2==0 :  #논리적으로 한 단위로 처리해야하는 경우 콜론(:)을 찍고, 들여쓰기로 작성 한다.\n",
        "  print(a)\n",
        "\n",
        "if b%2==0 :\n",
        "  print(b) \n",
        "\n",
        "if c%2==0 :\n",
        "  print(c) \n",
        "\n",
        "\n",
        "\"\"\"\n",
        "a%2==0 은 (a%2)가 먼저 계산된 후 그 결과를 정수 0과 비교한 결과값이다.\n",
        "a를 2로 나눈 나머지가 0, 즉 짝수이면 True 가 되고, 아니면 False 로 계산된다.\n",
        "따라서,\n",
        "if a%2==0 : #a가 짝수라면 ... \n",
        "와 같은 의미가 된다. 짝수가 아니라면 들여쓰기로 작성된 부분들은 실행되지 않는다.\n",
        "\"\"\""
      ],
      "execution_count": null,
      "outputs": [
        {
          "output_type": "stream",
          "text": [
            "1 2 4\n",
            "2\n",
            "4\n"
          ],
          "name": "stdout"
        },
        {
          "output_type": "execute_result",
          "data": {
            "application/vnd.google.colaboratory.intrinsic+json": {
              "type": "string"
            },
            "text/plain": [
              "'\\na%2==0 은 (a%2)가 먼저 계산된 후 그 결과를 정수 0과 비교한 결과값이다.\\na를 2로 나눈 나머지가 0, 즉 짝수이면 True 가 되고, 아니면 False 로 계산된다.\\n따라서,\\nif a%2==0 : #a가 짝수라면 ... \\n와 같은 의미가 된다. 짝수가 아니라면 들여쓰기로 작성된 부분들은 실행되지 않는다.\\n'"
            ]
          },
          "metadata": {
            "tags": []
          },
          "execution_count": 19
        }
      ]
    },
    {
      "cell_type": "code",
      "metadata": {
        "colab": {
          "base_uri": "https://localhost:8080/"
        },
        "id": "71V7SUlx1MLT",
        "outputId": "c1c4ceee-87cb-4fbc-ef4c-9e0031590e45"
      },
      "source": [
        "#정수 3개 입력받아 짝/홀 출력하기\n",
        "a, b, c = map(int, input().split())\n",
        "if a%2==0 :\n",
        "  print(\"even\")\n",
        "else :\n",
        "  print(\"odd\") \n",
        "\n",
        "if b%2==0:\n",
        "  print(\"even\")\n",
        "else :\n",
        "  print(\"odd\") \n",
        "\n",
        "if c%2==0 :\n",
        "  print(\"even\")\n",
        "else :\n",
        "  print(\"odd\")  "
      ],
      "execution_count": null,
      "outputs": [
        {
          "output_type": "stream",
          "text": [
            "1 2 8\n",
            "odd\n",
            "even\n",
            "even\n"
          ],
          "name": "stdout"
        }
      ]
    },
    {
      "cell_type": "code",
      "metadata": {
        "colab": {
          "base_uri": "https://localhost:8080/"
        },
        "id": "mIi-fpQZ1MRu",
        "outputId": "d5b479f9-4644-4cae-8b45-61d7269b1063"
      },
      "source": [
        "#정수 1개 입력받아 분류하기\n",
        "n = int(input())\n",
        "if n<0 :\n",
        "  if n%2==0 :\n",
        "    print('A')      #주의 : 변수 A와 문자열 'A' / \"A\" 는 의미가 완전히 다르다. \n",
        "  else :\n",
        "    print('B')\n",
        "else :\n",
        "  if n%2==0 :\n",
        "    print('C')\n",
        "  else :\n",
        "    print('D')\n",
        "\n",
        "#조건/선택 실행구조 안에 다시 조건/선택 실행구조를 \"중첩\"할 수가 있다.\n",
        "#또한, 중첩된 조건은  논리연산자를 이용해 합쳐 표현할 수도 있다."
      ],
      "execution_count": null,
      "outputs": [
        {
          "output_type": "stream",
          "text": [
            "-4\n",
            "A\n"
          ],
          "name": "stdout"
        }
      ]
    },
    {
      "cell_type": "code",
      "metadata": {
        "colab": {
          "base_uri": "https://localhost:8080/"
        },
        "id": "g6AXfMeS1MW4",
        "outputId": "d7e5e174-4e0b-4b6b-b115-eec9db4c02c5"
      },
      "source": [
        "#점수 입력받아 평가 출력하기\n",
        "score = int(input())\n",
        "if score>=90 :\n",
        "  print('A')\n",
        "else :\n",
        "  if score>=70 :\n",
        "    print('B')\n",
        "  else :\n",
        "    if score>=40 :\n",
        "      print('C')\n",
        "    else :\n",
        "      print('D') "
      ],
      "execution_count": null,
      "outputs": [
        {
          "output_type": "stream",
          "text": [
            "73\n",
            "B\n"
          ],
          "name": "stdout"
        }
      ]
    },
    {
      "cell_type": "code",
      "metadata": {
        "colab": {
          "base_uri": "https://localhost:8080/"
        },
        "id": "KDSvOYMi1Mbx",
        "outputId": "339b1a8f-3cb1-41d8-8b3b-7c61934dfec1"
      },
      "source": [
        "#평가 입력받아 다르게 출력하기\n",
        "mun = input()\n",
        "if mun ==\"A\":\n",
        "  print(\"best!!!\")\n",
        "elif mun==\"B\":\n",
        "  print(\"good!!\")\n",
        "elif mun == \"C\":\n",
        "  print(\"run!\")\n",
        "elif mun==\"D\":\n",
        "  print(\"slowly~\")\n",
        "else:\n",
        "  print(\"what?\")\n"
      ],
      "execution_count": null,
      "outputs": [
        {
          "output_type": "stream",
          "text": [
            "A\n",
            "best!!!\n"
          ],
          "name": "stdout"
        }
      ]
    },
    {
      "cell_type": "code",
      "metadata": {
        "colab": {
          "base_uri": "https://localhost:8080/"
        },
        "id": "5lgXNYzZ1Mfx",
        "outputId": "a26ae52b-1862-436d-ffe6-9ded043f1588"
      },
      "source": [
        "#월 입력받아 계절 출력하기\n",
        "n = int(input())\n",
        "if n//3==1 :\n",
        "  print(\"spring\")\n",
        "elif n//3==2:\n",
        "  print(\"summer\")\n",
        "elif n//3==3:\n",
        "  print(\"fall\")\n",
        "else:\n",
        "  print(\"winter\")\n",
        "\n",
        "\n",
        "    #//는 몫을 의미"
      ],
      "execution_count": null,
      "outputs": [
        {
          "output_type": "stream",
          "text": [
            "4\n",
            "spring\n"
          ],
          "name": "stdout"
        }
      ]
    },
    {
      "cell_type": "code",
      "metadata": {
        "id": "V7w6niA-MTqM",
        "colab": {
          "base_uri": "https://localhost:8080/"
        },
        "outputId": "86c18c94-8f53-477c-e309-7a71675c5264"
      },
      "source": [
        "#0 입력될 때까지 무한 출력하기\n",
        "n = 1      #처음 조건 검사를 통과하기 위해 0 아닌 값을 임의로 저장\n",
        "while n!=0 :\n",
        "  n = int(input())\n",
        "  if n!=0 :\n",
        "    print(n)\n",
        " \n"
      ],
      "execution_count": null,
      "outputs": [
        {
          "output_type": "stream",
          "text": [
            "5\n",
            "5\n",
            "7\n",
            "7\n",
            "3\n",
            "3\n",
            "0\n"
          ],
          "name": "stdout"
        }
      ]
    },
    {
      "cell_type": "code",
      "metadata": {
        "colab": {
          "base_uri": "https://localhost:8080/"
        },
        "id": "f_-NEJnzMt7g",
        "outputId": "6666478a-4d40-4b49-92fc-299677b3de83"
      },
      "source": [
        "#정수 1개 입력받아 카운트다운 출력하기1\n",
        "n = int(input())\n",
        "while n!=0 :\n",
        "  print(n)\n",
        "  n = n-1"
      ],
      "execution_count": null,
      "outputs": [
        {
          "output_type": "stream",
          "text": [
            "3\n",
            "3\n",
            "2\n",
            "1\n"
          ],
          "name": "stdout"
        }
      ]
    },
    {
      "cell_type": "code",
      "metadata": {
        "colab": {
          "base_uri": "https://localhost:8080/"
        },
        "id": "siOOtyhWMuQJ",
        "outputId": "65d67657-1fee-45f3-e4fe-dd39f6bbeef5"
      },
      "source": [
        "#정수 1개 입력받아 카운트다운 출력하기2\n",
        "n=int(input())\n",
        "while n!=0:\n",
        "    n-=1\n",
        "    print(n)"
      ],
      "execution_count": null,
      "outputs": [
        {
          "output_type": "stream",
          "text": [
            "5\n",
            "4\n",
            "3\n",
            "2\n",
            "1\n",
            "0\n"
          ],
          "name": "stdout"
        }
      ]
    },
    {
      "cell_type": "code",
      "metadata": {
        "colab": {
          "base_uri": "https://localhost:8080/"
        },
        "id": "9E1P7YZYMulV",
        "outputId": "7b39a232-83a7-427e-e3d1-2962c3df5c63"
      },
      "source": [
        "#문자 1개 입력받아 알파벳 출력하기\n",
        "\n",
        "c = ord(input())\n",
        "t = ord('a')\n",
        "while t<=c :\n",
        "  print(chr(t), end=' ')\n",
        "  t += 1\n",
        "\n",
        "#알파벳 문자 a의 정수값은 ord('a')로 알아낼 수 있다.\n",
        "#chr(정수값)을 이용하면 유니코드 문자로 출력할 수 있다."
      ],
      "execution_count": null,
      "outputs": [
        {
          "output_type": "stream",
          "text": [
            "c\n",
            "a b c "
          ],
          "name": "stdout"
        }
      ]
    },
    {
      "cell_type": "code",
      "metadata": {
        "colab": {
          "base_uri": "https://localhost:8080/"
        },
        "id": "9T1qpF5RMuxt",
        "outputId": "5cf7da6b-99dd-4dff-d9cb-e421f79dc3fc"
      },
      "source": [
        "#정수 1개 입력받아 그 수까지 출력하기1\n",
        "n = int(input())\n",
        "a=n\n",
        "while n>=0:\n",
        "    print(a-n)\n",
        "    n-=1"
      ],
      "execution_count": null,
      "outputs": [
        {
          "output_type": "stream",
          "text": [
            "4\n",
            "0\n",
            "1\n",
            "2\n",
            "3\n",
            "4\n"
          ],
          "name": "stdout"
        }
      ]
    },
    {
      "cell_type": "code",
      "metadata": {
        "colab": {
          "base_uri": "https://localhost:8080/"
        },
        "id": "nPH2qPXDMu-Q",
        "outputId": "4ed95e95-9a24-457a-d54c-c1a26f2798ab"
      },
      "source": [
        "#정수 1개 입력받아 그 수까지 출력하기2\n",
        "n = int(input())\n",
        "for i in range(n+1) :\n",
        "  print(i)"
      ],
      "execution_count": null,
      "outputs": [
        {
          "output_type": "stream",
          "text": [
            "3\n",
            "0\n",
            "1\n",
            "2\n",
            "3\n"
          ],
          "name": "stdout"
        }
      ]
    },
    {
      "cell_type": "code",
      "metadata": {
        "colab": {
          "base_uri": "https://localhost:8080/"
        },
        "id": "3lK6sdECMvJu",
        "outputId": "26dff95e-1b5f-404f-fb25-7e2bcb5e89f1"
      },
      "source": [
        "#짝수 합 구하기\n",
        "n = int(input())\n",
        "s = 0\n",
        "for i in range(1, n+1) :\n",
        "  if i%2==0 :\n",
        "    s += i\n",
        "\n",
        "print(s)"
      ],
      "execution_count": null,
      "outputs": [
        {
          "output_type": "stream",
          "text": [
            "5\n",
            "6\n"
          ],
          "name": "stdout"
        }
      ]
    },
    {
      "cell_type": "code",
      "metadata": {
        "colab": {
          "base_uri": "https://localhost:8080/"
        },
        "id": "32wwwYSTMvTJ",
        "outputId": "fce2c4f8-7729-44c3-8acf-ad74d2291087"
      },
      "source": [
        "#원하는 문자가 입력될 때까지 반복 출력하기\n",
        " \n",
        "while True!=0 :\n",
        "  n = input()\n",
        "  print(n)\n",
        "  if n=='q' :\n",
        "    break"
      ],
      "execution_count": null,
      "outputs": [
        {
          "output_type": "stream",
          "text": [
            "r\n",
            "d\n",
            "c\n",
            "q\n"
          ],
          "name": "stdout"
        }
      ]
    },
    {
      "cell_type": "code",
      "metadata": {
        "colab": {
          "base_uri": "https://localhost:8080/"
        },
        "id": "rB-QfJfXRcP1",
        "outputId": "37315fa9-c2d0-4f9e-8715-82c9aad5a853"
      },
      "source": [
        "#언제까지 더해야 할까?\n",
        "\n",
        "sum=0\n",
        "i=0\n",
        "n = int(input())\n",
        "while True:\n",
        "    i+=1\n",
        "    sum+=i\n",
        "    if(sum>=n):\n",
        "        print(i)\n",
        "        break"
      ],
      "execution_count": null,
      "outputs": [
        {
          "output_type": "stream",
          "text": [
            "55\n",
            "10\n"
          ],
          "name": "stdout"
        }
      ]
    },
    {
      "cell_type": "code",
      "metadata": {
        "colab": {
          "base_uri": "https://localhost:8080/"
        },
        "id": "wBe-RPr9MvdP",
        "outputId": "592934fd-a87c-416a-8718-a36b4b7149ca"
      },
      "source": [
        "#주사위 2개 던지기\n",
        "n,m = map(int,input().split())\n",
        "for i in range(1, n+1) :\n",
        "  for j in range(1, m+1) :\n",
        "    print(i, j)"
      ],
      "execution_count": null,
      "outputs": [
        {
          "output_type": "stream",
          "text": [
            "2 3\n",
            "1 1\n",
            "1 2\n",
            "1 3\n",
            "2 1\n",
            "2 2\n",
            "2 3\n"
          ],
          "name": "stdout"
        }
      ]
    },
    {
      "cell_type": "code",
      "metadata": {
        "id": "DI0PviMOMvlp",
        "colab": {
          "base_uri": "https://localhost:8080/"
        },
        "outputId": "a2560f7d-1034-4ab6-88e3-0433cf19b58c"
      },
      "source": [
        "#16진수 구구단 출력하기\n",
        "n = int(input(), 16)  #16진수 값을 10진수로 변환16진수 구구단 출력하기\n",
        "n = int(input(), 16)  #16진수 값을 10진수로 변환\n",
        "for i in range(1, 16):\n",
        " print('%X'%n, '*%X'%i, '=%X'%(n*i), sep='')\n",
        "\n",
        "\n",
        " #16진수(0, 1, 2, 3, 4, 5, 6, 7, 8, 9, A, B, C, D, E, F)\n",
        " #print('%X'%n)    #n에 저장되어있는 값을 16진수(hexadecimal) 형태로 출력\n",
        "for i in range(1, 16):\n",
        " print('%X'%n, '*%X'%i, '=%X'%(n*i), sep='')\n",
        "\n",
        "\n",
        "#16진수(0, 1, 2, 3, 4, 5, 6, 7, 8, 9, A, B, C, D, E, F)\n",
        "#print('%X'%n)    #n에 저장되어있는 값을 16진수(hexadecimal) 형태로 출력"
      ],
      "execution_count": null,
      "outputs": [
        {
          "output_type": "stream",
          "text": [
            "a\n",
            "A*1=A\n",
            "A*2=14\n",
            "A*3=1E\n",
            "A*4=28\n",
            "A*5=32\n",
            "A*6=3C\n",
            "A*7=46\n",
            "A*8=50\n",
            "A*9=5A\n",
            "A*A=64\n",
            "A*B=6E\n",
            "A*C=78\n",
            "A*D=82\n",
            "A*E=8C\n",
            "A*F=96\n"
          ],
          "name": "stdout"
        }
      ]
    },
    {
      "cell_type": "code",
      "metadata": {
        "id": "INt4ZsZuMvva",
        "colab": {
          "base_uri": "https://localhost:8080/"
        },
        "outputId": "78c69a60-cb9c-4852-d14f-9d3d772cb0bb"
      },
      "source": [
        "#3 6 9 게임의 왕이 되자\n",
        "n = int(input())\n",
        "for i in range(1, n+1) :\n",
        "  if i%10==3 :\n",
        "    print(\"X\", end=' ')    #출력 후 공백문자(빈칸, ' ')로 끝냄\n",
        "  elif i%10==6 :\n",
        "    print(\"X\", end=' ') \n",
        "  elif i%10==9 :\n",
        "    print(\"X\", end=' ') \n",
        "  else:\n",
        "    print(i, end=' ')\n",
        "\n",
        "#나머지가 3, 6, 9로 끝나면 박수"
      ],
      "execution_count": null,
      "outputs": [
        {
          "output_type": "stream",
          "text": [
            "15\n",
            "1 2 X 4 5 X 7 8 X 10 11 12 X 14 15 "
          ],
          "name": "stdout"
        }
      ]
    },
    {
      "cell_type": "code",
      "metadata": {
        "id": "4ES3v4vtMv2R",
        "colab": {
          "base_uri": "https://localhost:8080/"
        },
        "outputId": "0a597d39-7506-4d50-e82d-8b0f93aa6ced"
      },
      "source": [
        "#빛 섞어 색 만들기\n",
        "r, g, b =  map(int, input().split())\n",
        "count = 0\n",
        "for i in range(r):\n",
        "  for j in range(g):\n",
        "    for k in range(0, b):\n",
        "      print('%d %d %d' %(i, j, k))\n",
        "      count+=1\n",
        "\n",
        "\n",
        "print(count)\n",
        "\n",
        "#색 별로 for문을 돌고, 십진수로 표현 "
      ],
      "execution_count": null,
      "outputs": [
        {
          "output_type": "stream",
          "text": [
            "2 2 2\n",
            "0 0 0\n",
            "0 0 1\n",
            "0 1 0\n",
            "0 1 1\n",
            "1 0 0\n",
            "1 0 1\n",
            "1 1 0\n",
            "1 1 1\n",
            "8\n"
          ],
          "name": "stdout"
        }
      ]
    },
    {
      "cell_type": "code",
      "metadata": {
        "id": "SmbcAFU-Mv_B",
        "colab": {
          "base_uri": "https://localhost:8080/"
        },
        "outputId": "373f0e06-5d34-4a05-a9c3-f6009ba15404"
      },
      "source": [
        "#소리 파일 저장용량 계산하기\n",
        "h,b,c,s = map(int,input().split())\n",
        "m = (h* b * c * s)/8/1024/1024    \n",
        "print('%.1f MB' %m)  #1f는 소숫점2번째에서 반올림"
      ],
      "execution_count": null,
      "outputs": [
        {
          "output_type": "stream",
          "text": [
            "44100 16  2 10\n",
            "1.7 MB\n"
          ],
          "name": "stdout"
        }
      ]
    },
    {
      "cell_type": "code",
      "metadata": {
        "id": "drqME3jXMwHJ",
        "colab": {
          "base_uri": "https://localhost:8080/"
        },
        "outputId": "11434cbc-0a52-42b4-ef98-7f6b51b02bf3"
      },
      "source": [
        "#그림 파일 저장용량 계산하기\n",
        "r, g, b =  map(int, input().split())\n",
        "m = (r*g*b)/8/1024/1024\n",
        "print('%.2f MB' %m)  #2f는 셋째자리에서 반올림\n",
        "\n",
        "\n"
      ],
      "execution_count": null,
      "outputs": [
        {
          "output_type": "stream",
          "text": [
            "1024 768 24\n",
            "2.25 MB\n"
          ],
          "name": "stdout"
        }
      ]
    },
    {
      "cell_type": "code",
      "metadata": {
        "id": "O3-lEnbvMwNX",
        "colab": {
          "base_uri": "https://localhost:8080/"
        },
        "outputId": "4461f98f-56f4-4eb7-bbff-dbe57c98a971"
      },
      "source": [
        "#거기까지! 이제 그만~\n",
        "n = int(input())\n",
        "c = 1   #1부터 더해져야 하니까 기본값\n",
        "s = 0   #누적 합\n",
        "while True :\n",
        "  s += c\n",
        "  c += 1\n",
        "  if s>=n :   #입력한 수보다 누적 s가 크거나 같으면 멈춤\n",
        "    break\n",
        "\n",
        "print(s)\n",
        "\n"
      ],
      "execution_count": null,
      "outputs": [
        {
          "output_type": "stream",
          "text": [
            "57\n",
            "66\n"
          ],
          "name": "stdout"
        }
      ]
    },
    {
      "cell_type": "code",
      "metadata": {
        "id": "uedXWKbaMwVe",
        "colab": {
          "base_uri": "https://localhost:8080/"
        },
        "outputId": "776553a7-c4a7-4200-98e6-79359745c066"
      },
      "source": [
        "#3의 배수는 통과\n",
        "n = int(input())\n",
        "for i in range(1, n+1) :\n",
        "  if i%3==0:   #나머지가 0 일 때 continue 넘어감\n",
        "    continue            #다음 반복 단계로 넘어간다.\n",
        "  print(i, end=' ')    #i가 짝수가 아닐 때만 실행된다.\n",
        "\n"
      ],
      "execution_count": null,
      "outputs": [
        {
          "output_type": "stream",
          "text": [
            "56\n",
            "1 2 4 5 7 8 10 11 13 14 16 17 19 20 22 23 25 26 28 29 31 32 34 35 37 38 40 41 43 44 46 47 49 50 52 53 55 56 "
          ],
          "name": "stdout"
        }
      ]
    },
    {
      "cell_type": "code",
      "metadata": {
        "id": "XHVkMiEMMwch",
        "colab": {
          "base_uri": "https://localhost:8080/"
        },
        "outputId": "d9ab4637-a9a6-4d14-9b97-e48e13c262d7"
      },
      "source": [
        "#수 나열하기1\n",
        "a, d, n =  map(int, input().split())\n",
        "total = a\n",
        "for i in range(0, n-1):\n",
        "  total = total + d\n",
        "print(total) "
      ],
      "execution_count": 8,
      "outputs": [
        {
          "output_type": "stream",
          "text": [
            "1 3 5\n",
            "13\n"
          ],
          "name": "stdout"
        }
      ]
    },
    {
      "cell_type": "code",
      "metadata": {
        "id": "2QYD08o0MwuC",
        "colab": {
          "base_uri": "https://localhost:8080/"
        },
        "outputId": "9ed0656a-9ad6-4087-b17c-7e74a18f0807"
      },
      "source": [
        "#수 나열하기2\n",
        "a, r, n =  map(int, input().split())\n",
        "total = a\n",
        "for i in range(0, n-1):\n",
        "  total = total * r\n",
        "print(total) "
      ],
      "execution_count": 9,
      "outputs": [
        {
          "output_type": "stream",
          "text": [
            "2 3 7\n",
            "1458\n"
          ],
          "name": "stdout"
        }
      ]
    },
    {
      "cell_type": "code",
      "metadata": {
        "colab": {
          "base_uri": "https://localhost:8080/"
        },
        "id": "Yq5Pq17CzAbD",
        "outputId": "56eab6f8-a720-4f76-cfd0-2cb9c7a83e85"
      },
      "source": [
        "#수 나열하기3\n",
        "a, m, d, n =  map(int, input().split())\n",
        "total = a\n",
        "for i in range(0, n-1):\n",
        "  total = total * m +d\n",
        "print(total) "
      ],
      "execution_count": 10,
      "outputs": [
        {
          "output_type": "stream",
          "text": [
            "1 -2 1 8\n",
            "-85\n"
          ],
          "name": "stdout"
        }
      ]
    },
    {
      "cell_type": "code",
      "metadata": {
        "colab": {
          "base_uri": "https://localhost:8080/"
        },
        "id": "36TFMyH2zAnn",
        "outputId": "12fe693c-219e-4ef8-d93b-bb2959a12994"
      },
      "source": [
        "#함께 문제 푸는 날\n",
        "a, b, c =  map(int, input().split())\n",
        "d = 1\n",
        "while d%a!=0 or d%b!=0 or d%c!=0 :\n",
        "  d += 1\n",
        "print(d)"
      ],
      "execution_count": 11,
      "outputs": [
        {
          "output_type": "stream",
          "text": [
            "3 7 9\n",
            "63\n"
          ],
          "name": "stdout"
        }
      ]
    },
    {
      "cell_type": "code",
      "metadata": {
        "colab": {
          "base_uri": "https://localhost:8080/"
        },
        "id": "CRqxI878zAyy",
        "outputId": "4fb3bb52-a218-4bab-e075-faf75403959f"
      },
      "source": [
        "#이상한 출석 번호 부르기1\n",
        "n = int(input())      #개수를 입력받아 n에 정수로 저장\n",
        "a = input().split()  #공백을 기준으로 잘라 a에 순서대로 저장\n",
        "\n",
        "for i in range(n) :  #0부터 n-1까지...\n",
        "  a[i] = int(a[i])       #a에 순서대로 저장되어있는 각 값을 정수로 변환해 다시 저장\n",
        "\n",
        "d = []                     #d라는 이름의 빈 리스트 [ ] 변수를 만듦. 대괄호 기호 [  ] 를 사용한다.\n",
        "for i in range(24) :  #[0, 0, 0, ... , 0, 0, 0] 과 같이 24개의 정수 값 0을 추가해 넣음\n",
        "  d.append(0)        #각 값은 d[0], d[1], d[2], ... , d[22], d[23] 으로 값을 읽고 저장할 수 있음.\n",
        "\n",
        "for i in range(n) :    #번호를 부를 때마다, 그 번호에 대한 카운트 1씩 증가\n",
        "  d[a[i]] += 1\n",
        "\n",
        "for i in range(1, 24) :  #카운트한 값을 공백을 두고 출력\n",
        "  print(d[i], end=' ')\n",
        "\n",
        "\n",
        "\n",
        "\n",
        "#- d = []              #어떤 데이터 목록(list) 을 순서대로 저장하기 위해 아무것도 없는 리스트 변수 만들기\n",
        "#- d.append(값)  #d 리스트의 마지막에 원하는 값을 추가(append)해 넣음 \n",
        "#- d[a[i]] += 1     #2중 리스트 참조 : 만약 a[i]의 값이 1이었다면? d[1] += 1 이 실행되는 것이다. 1번 카운트 1개 증가..\n"
      ],
      "execution_count": 15,
      "outputs": [
        {
          "output_type": "stream",
          "text": [
            "10\n",
            "1 2 4 19 20 17 3 5 4 3\n",
            "1 1 2 2 1 0 0 0 0 0 0 0 0 0 0 0 1 0 1 1 0 0 0 "
          ],
          "name": "stdout"
        }
      ]
    },
    {
      "cell_type": "code",
      "metadata": {
        "colab": {
          "base_uri": "https://localhost:8080/"
        },
        "id": "1QcbaGP8zA2C",
        "outputId": "c251a998-1692-42c4-e21d-6a835debac6c"
      },
      "source": [
        "#이상한 출석 번호 부르기2\n",
        "n = int(input()) \n",
        "a = input().split()\n",
        "for i in range(n-1, -1, -1) :\n",
        "  print(a[i], end=' ')"
      ],
      "execution_count": 17,
      "outputs": [
        {
          "output_type": "stream",
          "text": [
            "10\n",
            "10 4 2 3 6 6 7 9 8 5\n",
            "5 8 9 7 6 6 3 2 4 10 "
          ],
          "name": "stdout"
        }
      ]
    },
    {
      "cell_type": "code",
      "metadata": {
        "colab": {
          "base_uri": "https://localhost:8080/"
        },
        "id": "byKsf-dRzA6v",
        "outputId": "104021ae-de19-4cbb-8125-b8b572bfac90"
      },
      "source": [
        "#이상한 출석 번호 부르기3\n",
        "n = int(input()) \n",
        "print(min(map(int,input().split())))"
      ],
      "execution_count": 19,
      "outputs": [
        {
          "output_type": "stream",
          "text": [
            "10\n",
            "10 4 2 3 6 6 7 9 8 5\n",
            "2\n"
          ],
          "name": "stdout"
        }
      ]
    },
    {
      "cell_type": "code",
      "metadata": {
        "colab": {
          "base_uri": "https://localhost:8080/"
        },
        "id": "cqSCqrZJzBCz",
        "outputId": "b4200c2a-d514-422f-e6ac-e587ee035e4e"
      },
      "source": [
        "#이상한 출석 번호 부르기3\n",
        "n = int(input())\n",
        "a = list(map(int, input().split()))\n",
        "ans = a[0]\n",
        "\n",
        "for i in range(n):\n",
        "    if a[i] < ans:\n",
        "      ans = a[i]\n",
        "\n",
        "print(ans)"
      ],
      "execution_count": 22,
      "outputs": [
        {
          "output_type": "stream",
          "text": [
            "10\n",
            "10 4 2 3 6 6 7 9 8 5\n",
            "2\n"
          ],
          "name": "stdout"
        }
      ]
    },
    {
      "cell_type": "code",
      "metadata": {
        "colab": {
          "base_uri": "https://localhost:8080/"
        },
        "id": "qN0yfkfmzBJr",
        "outputId": "4b9a2d5d-1aaa-4c63-db8a-58ebcaf14085"
      },
      "source": [
        "#바둑판에 흰 돌 놓기\n",
        "d=[]                        #대괄호 [ ] 를 이용해 아무것도 없는 빈 리스트 만들기\n",
        "for i in range(20) :\n",
        "  d.append([])         #리스트 안에 다른 리스트 추가해 넣기\n",
        "  for j in range(20) : \n",
        "    d[i].append(0)    #리스트 안에 들어있는 리스트 안에 0 추가해 넣기\n",
        "\n",
        "n = int(input())\n",
        "for i in range(n) :\n",
        "  x, y = input().split()\n",
        "  d[int(x)][int(y)] = 1\n",
        "\n",
        "for i in range(1, 20) :\n",
        "  for j in range(1, 20) : \n",
        "    print(d[i][j], end=' ')    #공백을 두고 한 줄로 출력\n",
        "  print()                          #줄 바꿈\n",
        "\n",
        "#d = [[0 for j in range(20)] for i in range(20)] 이렇게도 가능 "
      ],
      "execution_count": 23,
      "outputs": [
        {
          "output_type": "stream",
          "text": [
            "5\n",
            "1 1\n",
            "2 2\n",
            "3 3\n",
            "4 4\n",
            "5 5\n",
            "1 0 0 0 0 0 0 0 0 0 0 0 0 0 0 0 0 0 0 \n",
            "0 1 0 0 0 0 0 0 0 0 0 0 0 0 0 0 0 0 0 \n",
            "0 0 1 0 0 0 0 0 0 0 0 0 0 0 0 0 0 0 0 \n",
            "0 0 0 1 0 0 0 0 0 0 0 0 0 0 0 0 0 0 0 \n",
            "0 0 0 0 1 0 0 0 0 0 0 0 0 0 0 0 0 0 0 \n",
            "0 0 0 0 0 0 0 0 0 0 0 0 0 0 0 0 0 0 0 \n",
            "0 0 0 0 0 0 0 0 0 0 0 0 0 0 0 0 0 0 0 \n",
            "0 0 0 0 0 0 0 0 0 0 0 0 0 0 0 0 0 0 0 \n",
            "0 0 0 0 0 0 0 0 0 0 0 0 0 0 0 0 0 0 0 \n",
            "0 0 0 0 0 0 0 0 0 0 0 0 0 0 0 0 0 0 0 \n",
            "0 0 0 0 0 0 0 0 0 0 0 0 0 0 0 0 0 0 0 \n",
            "0 0 0 0 0 0 0 0 0 0 0 0 0 0 0 0 0 0 0 \n",
            "0 0 0 0 0 0 0 0 0 0 0 0 0 0 0 0 0 0 0 \n",
            "0 0 0 0 0 0 0 0 0 0 0 0 0 0 0 0 0 0 0 \n",
            "0 0 0 0 0 0 0 0 0 0 0 0 0 0 0 0 0 0 0 \n",
            "0 0 0 0 0 0 0 0 0 0 0 0 0 0 0 0 0 0 0 \n",
            "0 0 0 0 0 0 0 0 0 0 0 0 0 0 0 0 0 0 0 \n",
            "0 0 0 0 0 0 0 0 0 0 0 0 0 0 0 0 0 0 0 \n",
            "0 0 0 0 0 0 0 0 0 0 0 0 0 0 0 0 0 0 0 \n"
          ],
          "name": "stdout"
        }
      ]
    },
    {
      "cell_type": "code",
      "metadata": {
        "id": "exheOjmB7tco"
      },
      "source": [
        "#바둑알 십자 뒤집기\n",
        "\n",
        "\n",
        "a = [] \n",
        "for i in range(20) :\n",
        "  a.append([])         #리스트 안에 다른 리스트 추가해 넣기\n",
        "  for j in range(20) : \n",
        "    a[i].append(0)    #리스트 안에 들어있는 리스트 안에 0 추가해 넣기\n",
        "\n",
        "for i in range(19):\n",
        "  b = input().split()\n",
        "  for j in range(19):\n",
        "    a[i+1][j+1] = int(b[j])\n",
        "\n",
        "n = int(input())\n",
        "for i in range(n):\n",
        "    x,y = map(int,input().split())\n",
        "    for j in range(1,20):\n",
        "        if a[j][y] == 0: a[j][y] = 1\n",
        "        else: a[j][y] = 0\n",
        "        \n",
        "        if a[x][j] == 0: a[x][j] = 1\n",
        "        else: a[x][j] = 0\n",
        "\n",
        "for i in range(1,20):\n",
        "    for j in range(1,20):\n",
        "        print(a[i][j],end = ' ')\n",
        "    print()"
      ],
      "execution_count": null,
      "outputs": []
    }
  ]
}